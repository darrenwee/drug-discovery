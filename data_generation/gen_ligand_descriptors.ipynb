{
 "cells": [
  {
   "cell_type": "code",
   "execution_count": 1,
   "metadata": {},
   "outputs": [],
   "source": [
    "# for each ligand, generates ligand descriptor & coordinates of the voxels in the descriptor\n",
    "# each pair of data (descriptor, centers) is saved as a pickle file\n",
    "\n",
    "# outputs a csv containing ligand id & pickle path"
   ]
  },
  {
   "cell_type": "code",
   "execution_count": 3,
   "metadata": {},
   "outputs": [
    {
     "name": "stdout",
     "output_type": "stream",
     "text": [
      "ffevaluate module is in beta version\n",
      "\n",
      "Please cite HTMD: Doerr et al.(2016)JCTC,12,1845. \n",
      "https://dx.doi.org/10.1021/acs.jctc.6b00049\n",
      "Documentation: http://software.acellera.com/\n",
      "To update: conda update htmd -c acellera -c psi4\n",
      "\n",
      "You are on the latest HTMD version (1.13.9).\n",
      "\n"
     ]
    }
   ],
   "source": [
    "# generate ligand descriptor files + csv \n",
    "from htmd.ui import *\n",
    "from htmd.molecule.voxeldescriptors import *\n",
    "from pathlib import Path\n",
    "import numpy as np\n",
    "import pickle as pk\n",
    "from multiprocessing import Pool\n",
    "import pandas as pd\n",
    "from tqdm import tqdm\n",
    "\n",
    "%load_ext autoreload\n",
    "%autoreload 2"
   ]
  },
  {
   "cell_type": "code",
   "execution_count": 4,
   "metadata": {},
   "outputs": [],
   "source": [
    "#Supress default INFO logging\n",
    "\n",
    "import logging\n",
    "logger = logging.getLogger()\n",
    "logger.setLevel(logging.CRITICAL)"
   ]
  },
  {
   "cell_type": "code",
   "execution_count": 5,
   "metadata": {},
   "outputs": [
    {
     "name": "stderr",
     "output_type": "stream",
     "text": [
      "/home/alex/miniconda3/lib/python3.6/site-packages/pyemma/__init__.py:91: UserWarning: You are not using the latest release of PyEMMA. Latest is 2.5.2, you have 2.4.\n",
      "  .format(latest=latest, current=current), category=UserWarning)\n"
     ]
    }
   ],
   "source": [
    "ligands = []\n",
    "ligand_root = '../processed_data/ligands'\n",
    "Path(ligand_root).mkdir(exist_ok = True, parents=True)"
   ]
  },
  {
   "cell_type": "code",
   "execution_count": 6,
   "metadata": {},
   "outputs": [],
   "source": [
    "raw_ligand_paths = sorted(list(Path('../data/filtered_data').glob('*lig_cg.pdb')))"
   ]
  },
  {
   "cell_type": "code",
   "execution_count": 7,
   "metadata": {},
   "outputs": [
    {
     "name": "stderr",
     "output_type": "stream",
     "text": [
      "0it [00:00, ?it/s]/home/alex/miniconda3/lib/python3.6/site-packages/htmd/molecule/readers.py:200: FutureWarning: Conversion of the second argument of issubdtype from `float` to `np.floating` is deprecated. In future, it will be treated as `np.float64 == np.dtype(float).type`.\n",
      "  if np.issubdtype(mol._dtypes[field], np.float) \\\n",
      "1it [00:00,  1.88it/s]/home/alex/miniconda3/lib/python3.6/site-packages/htmd/molecule/readers.py:200: FutureWarning: Conversion of the second argument of issubdtype from `float` to `np.floating` is deprecated. In future, it will be treated as `np.float64 == np.dtype(float).type`.\n",
      "  if np.issubdtype(mol._dtypes[field], np.float) \\\n",
      "3000it [03:07, 16.00it/s]\n"
     ]
    }
   ],
   "source": [
    "dests = []\n",
    "for idx, lig_path in tqdm(enumerate(raw_ligand_paths)):\n",
    "    mol = Molecule(str(lig_path), keepaltloc='all')\n",
    "    bb = htmd.molecule.util.boundingBox(mol)\n",
    "\n",
    "    xx = (bb[1][0] + bb[0][0])/2 - 12\n",
    "    yy = (bb[1][1] + bb[0][1])/2 - 12\n",
    "    zz = (bb[1][2] + bb[0][2])/2 - 12\n",
    "\n",
    "    centers = []\n",
    "    for ix in range(24):\n",
    "        for iy in range(24):\n",
    "            for iz in range(24):\n",
    "                centers.append([xx + ix, yy + iy, zz + iz])\n",
    "\n",
    "    features, centers = getVoxelDescriptors(mol, usercenters=np.array(centers), voxelsize=1, method='CUDA')\n",
    "    features = features.reshape(24, 24, 24, features.shape[1])\n",
    "    features = features[:,:,:,0]\n",
    "    \n",
    "    dest = ligand_root + '/' + str(idx+1).zfill(4) + '.pk'\n",
    "    with open(dest, 'wb') as f:\n",
    "        pk.dump((features, centers), f)\n",
    "        dests.append(dest)\n",
    "        #print('done with '+str(idx+1))"
   ]
  },
  {
   "cell_type": "code",
   "execution_count": 8,
   "metadata": {},
   "outputs": [],
   "source": [
    "idxs = list(range(1,3001))\n",
    "df = pd.DataFrame({'id':idxs, 'path': dests})\n",
    "df.to_csv('ligand_data.csv', index=None)"
   ]
  }
 ],
 "metadata": {
  "kernelspec": {
   "display_name": "Python 3",
   "language": "python",
   "name": "python3"
  },
  "language_info": {
   "codemirror_mode": {
    "name": "ipython",
    "version": 3
   },
   "file_extension": ".py",
   "mimetype": "text/x-python",
   "name": "python",
   "nbconvert_exporter": "python",
   "pygments_lexer": "ipython3",
   "version": "3.6.6"
  }
 },
 "nbformat": 4,
 "nbformat_minor": 2
}
