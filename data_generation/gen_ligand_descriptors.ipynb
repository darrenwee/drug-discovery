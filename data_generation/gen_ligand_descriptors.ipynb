{
 "cells": [
  {
   "cell_type": "code",
   "execution_count": null,
   "metadata": {},
   "outputs": [],
   "source": [
    "# for each ligand, generates ligand descriptor & coordinates of the voxels in the descriptor\n",
    "# each pair of data (descriptor, centers) is saved as a pickle file\n",
    "\n",
    "# outputs a csv containing ligand id & pickle path"
   ]
  },
  {
   "cell_type": "code",
   "execution_count": 5,
   "metadata": {},
   "outputs": [
    {
     "name": "stdout",
     "output_type": "stream",
     "text": [
      "The autoreload extension is already loaded. To reload it, use:\n",
      "  %reload_ext autoreload\n"
     ]
    }
   ],
   "source": [
    "# generate ligand descriptor files + csv \n",
    "from htmd.ui import *\n",
    "from htmd.molecule.voxeldescriptors import *\n",
    "from pathlib import Path\n",
    "import numpy as np\n",
    "import pickle as pk\n",
    "from multiprocessing import Pool\n",
    "import pandas as pd\n",
    "from tqdm import tqdm\n",
    "\n",
    "%load_ext autoreload\n",
    "%autoreload 2"
   ]
  },
  {
   "cell_type": "code",
   "execution_count": 2,
   "metadata": {},
   "outputs": [],
   "source": [
    "ligands = []\n",
    "ligand_root = './processed_data/ligands'\n",
    "Path(ligand_root).mkdir(exist_ok = True, parents=True)"
   ]
  },
  {
   "cell_type": "code",
   "execution_count": 3,
   "metadata": {},
   "outputs": [],
   "source": [
    "raw_ligand_paths = sorted(list(Path('./training_data').glob('*lig_cg.pdb')))"
   ]
  },
  {
   "cell_type": "code",
   "execution_count": 6,
   "metadata": {},
   "outputs": [
    {
     "name": "stderr",
     "output_type": "stream",
     "text": [
      "0it [00:00, ?it/s]/home/alex/anaconda3/lib/python3.6/site-packages/htmd/molecule/readers.py:200: FutureWarning: Conversion of the second argument of issubdtype from `float` to `np.floating` is deprecated. In future, it will be treated as `np.float64 == np.dtype(float).type`.\n",
      "  if np.issubdtype(mol._dtypes[field], np.float) \\\n",
      "3000it [04:29, 11.15it/s]\n"
     ]
    }
   ],
   "source": [
    "dests = []\n",
    "for idx, lig_path in tqdm(enumerate(raw_ligand_paths)):\n",
    "    mol = Molecule(str(lig_path), keepaltloc='all')\n",
    "    bb = htmd.molecule.util.boundingBox(mol)\n",
    "\n",
    "    xx = (bb[1][0] + bb[0][0])/2 - 12\n",
    "    yy = (bb[1][1] + bb[0][1])/2 - 12\n",
    "    zz = (bb[1][2] + bb[0][2])/2 - 12\n",
    "\n",
    "    centers = []\n",
    "    for ix in range(24):\n",
    "        for iy in range(24):\n",
    "            for iz in range(24):\n",
    "                centers.append([xx + ix, yy + iy, zz + iz])\n",
    "\n",
    "    features, centers = getVoxelDescriptors(mol, usercenters=np.array(centers), voxelsize=1, method='NUMBA')\n",
    "    features = features.reshape(24, 24, 24, features.shape[1])\n",
    "    \n",
    "    dest = ligand_root + '/' + str(idx+1).zfill(4) + '.pk'\n",
    "    with open(dest, 'wb') as f:\n",
    "        pk.dump((features, centers), f)\n",
    "        dests.append(dest)\n",
    "        #print('done with '+str(idx+1))"
   ]
  },
  {
   "cell_type": "code",
   "execution_count": 7,
   "metadata": {},
   "outputs": [],
   "source": [
    "idxs = list(range(1,3001))\n",
    "df = pd.DataFrame({'id':idxs, 'path': dests})\n",
    "df.to_csv('ligand_data.csv', index=None)"
   ]
  },
  {
   "cell_type": "code",
   "execution_count": 31,
   "metadata": {},
   "outputs": [],
   "source": []
  },
  {
   "cell_type": "code",
   "execution_count": null,
   "metadata": {},
   "outputs": [],
   "source": [
    "'''\n",
    "for idx, lig_path in enumerate(raw_ligand_paths[872:]):\n",
    "    \n",
    "    mol = Molecule(str(lig_path), keepaltloc='all')\n",
    "    features, centers, N = getVoxelDescriptors(mol, usercenters=None, voxelsize=1, method='NUMBA')\n",
    "    \n",
    "    # reshape features into 3D grid x num features\n",
    "    features = features.reshape(N[0], N[1], N[2], features.shape[1])\n",
    "    \n",
    "    # calculate padding to apply on features to get 24x24x24x8\n",
    "    # also make each dim an even number, for ease in counting\n",
    "    x_low_pad = 0\n",
    "    x_high_pad = 0\n",
    "    y_low_pad = 0\n",
    "    y_high_pad = 0\n",
    "    z_low_pad = 0\n",
    "    z_high_pad = 0\n",
    "    \n",
    "    x, y, z, _ = features.shape\n",
    "    \n",
    "    if x % 2 == 1:\n",
    "        x_low_pad +=1\n",
    "        x += 1\n",
    "    if y % 2 == 1:\n",
    "        y_low_pad +=1\n",
    "        y += 1\n",
    "    if z % 2 == 1:\n",
    "        z_low_pad +=1\n",
    "        z += 1\n",
    "    \n",
    "    if x < 24:\n",
    "        shift_by = (24 - x) / 2\n",
    "        x_low_pad += shift_by\n",
    "        x_high_pad += shift_by\n",
    "        \n",
    "    if y < 24:\n",
    "        shift_by = (24 - y) / 2\n",
    "        y_low_pad += shift_by\n",
    "        y_high_pad += shift_by\n",
    "        \n",
    "    if z < 24:\n",
    "        shift_by = (24 - z) / 2\n",
    "        z_low_pad += shift_by\n",
    "        z_high_pad += shift_by\n",
    "    \n",
    "    new_features = np.pad(features, ((int(x_low_pad), int(x_high_pad)), \\\n",
    "                                      (int(y_low_pad), int(y_high_pad)), \\\n",
    "                                      (int(z_low_pad), int(z_high_pad)),\\\n",
    "                                         (0,0)),\n",
    "                          'constant', constant_values=0)\n",
    "    \n",
    "    # find which features to grab (some dimensions may be > 24)\n",
    "    xp, yp, zp, f = new_features.shape\n",
    "    x_low = 0; x_high = xp\n",
    "    y_low = 0; y_high = yp\n",
    "    z_low = 0; z_high = zp\n",
    "    \n",
    "    x_shift_by = 0\n",
    "    if xp > 24:\n",
    "        x_shift_by = (xp - 24)/2\n",
    "        x_low += x_shift_by\n",
    "        x_high -= x_shift_by\n",
    "        \n",
    "    y_shift_by = 0\n",
    "    if yp > 24:\n",
    "        y_shift_by = (yp - 24)/2\n",
    "        y_low += y_shift_by\n",
    "        y_high -= y_shift_by\n",
    "        \n",
    "    z_shift_by = 0\n",
    "    if zp > 24:\n",
    "        z_shift_by = (zp - 24)/2\n",
    "        z_low += z_shift_by\n",
    "        z_high -= z_shift_by\n",
    "        \n",
    "    # crop 24x24x24x8 from features\n",
    "    cropped_features = new_features[int(x_low):int(x_high), \n",
    "                                    int(y_low):int(y_high),\n",
    "                                    int(z_low):int(z_high),\n",
    "                                    :]\n",
    "    \n",
    "    \n",
    "    #if (x_high != 24):\n",
    "    #    pdb.set_trace()\n",
    "    \n",
    "    # generate corresponding centers, for ease in preprocessing proteins\n",
    "    xc_low, yc_low, zc_low = centers[0]\n",
    "    xc_low -= x_low_pad + x_shift_by\n",
    "    yc_low -= y_low_pad + y_shift_by\n",
    "    zc_low -= z_low_pad + z_shift_by\n",
    "    \n",
    "    centers = []\n",
    "    for ix in range(24):\n",
    "        for iy in range(24):\n",
    "            for iz in range(24):\n",
    "                centers.append((xc_low + ix, yc_low + iy, zc_low + iz))\n",
    "    \n",
    "    feature_with_centers = (cropped_features, centers)\n",
    "    \n",
    "    dest = ligand_root + '/' + str(idx).zfill(4) + '.pk'\n",
    "    with open(dest, 'wb') as f:\n",
    "        pk.dump(feature_with_centers, f)\n",
    "        dests.append(dest)\n",
    "        print('done with '+str(idx))\n",
    "'''\n",
    "print('')"
   ]
  }
 ],
 "metadata": {
  "kernelspec": {
   "display_name": "Python [default]",
   "language": "python",
   "name": "python3"
  },
  "language_info": {
   "codemirror_mode": {
    "name": "ipython",
    "version": 3
   },
   "file_extension": ".py",
   "mimetype": "text/x-python",
   "name": "python",
   "nbconvert_exporter": "python",
   "pygments_lexer": "ipython3",
   "version": "3.6.4"
  }
 },
 "nbformat": 4,
 "nbformat_minor": 2
}
