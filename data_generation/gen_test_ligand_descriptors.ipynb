{
 "cells": [
  {
   "cell_type": "code",
   "execution_count": 1,
   "metadata": {},
   "outputs": [],
   "source": [
    "# for each ligand, generates ligand descriptor & coordinates of the voxels in the descriptor\n",
    "# each pair of data (descriptor, centers) is saved as a pickle file\n",
    "\n",
    "# outputs a csv containing ligand id & pickle path"
   ]
  },
  {
   "cell_type": "code",
   "execution_count": 20,
   "metadata": {},
   "outputs": [
    {
     "name": "stdout",
     "output_type": "stream",
     "text": [
      "The autoreload extension is already loaded. To reload it, use:\n",
      "  %reload_ext autoreload\n"
     ]
    }
   ],
   "source": [
    "# generate ligand descriptor files + csv \n",
    "from htmd.ui import *\n",
    "from htmd.molecule.voxeldescriptors import *\n",
    "from pathlib import Path\n",
    "import numpy as np\n",
    "import pickle as pk\n",
    "import pandas as pd\n",
    "from tqdm import tqdm\n",
    "from pdb_parser import test_pdb_to_features\n",
    "\n",
    "%load_ext autoreload\n",
    "%autoreload 2"
   ]
  },
  {
   "cell_type": "code",
   "execution_count": 21,
   "metadata": {},
   "outputs": [],
   "source": [
    "#Supress default INFO logging\n",
    "import logging\n",
    "logger = logging.getLogger()\n",
    "logger.setLevel(logging.CRITICAL)"
   ]
  },
  {
   "cell_type": "code",
   "execution_count": 22,
   "metadata": {},
   "outputs": [],
   "source": [
    "ligands = []\n",
    "ligand_root = '../processed_data/test/ligands'\n",
    "Path(ligand_root).mkdir(exist_ok = True, parents=True)"
   ]
  },
  {
   "cell_type": "code",
   "execution_count": 23,
   "metadata": {},
   "outputs": [],
   "source": [
    "raw_ligand_paths = sorted(list(Path('../data/testing_data/').glob('*lig_cg.pdb')))"
   ]
  },
  {
   "cell_type": "code",
   "execution_count": 24,
   "metadata": {},
   "outputs": [
    {
     "name": "stderr",
     "output_type": "stream",
     "text": [
      "0it [00:00, ?it/s]2018-10-27 21:25:36,897 - htmd.molecule.readers - WARNING - Non-integer values were read from the PDB \"resid\" field. Dropping PDB values and assigning new ones.\n",
      "/home/alex/miniconda3/lib/python3.6/site-packages/htmd/molecule/readers.py:200: FutureWarning: Conversion of the second argument of issubdtype from `float` to `np.floating` is deprecated. In future, it will be treated as `np.float64 == np.dtype(float).type`.\n",
      "  if np.issubdtype(mol._dtypes[field], np.float) \\\n"
     ]
    },
    {
     "name": "stdout",
     "output_type": "stream",
     "text": [
      "../data/testing_data/0001_lig_cg.pdb\n"
     ]
    },
    {
     "name": "stderr",
     "output_type": "stream",
     "text": [
      "1it [00:01,  1.47s/it]2018-10-27 21:25:38,359 - htmd.molecule.readers - WARNING - Non-integer values were read from the PDB \"resid\" field. Dropping PDB values and assigning new ones.\n",
      "/home/alex/miniconda3/lib/python3.6/site-packages/htmd/molecule/readers.py:200: FutureWarning: Conversion of the second argument of issubdtype from `float` to `np.floating` is deprecated. In future, it will be treated as `np.float64 == np.dtype(float).type`.\n",
      "  if np.issubdtype(mol._dtypes[field], np.float) \\\n",
      "2018-10-27 21:25:38,434 - htmd.molecule.readers - WARNING - Non-integer values were read from the PDB \"resid\" field. Dropping PDB values and assigning new ones.\n",
      "3it [00:01,  1.05s/it]2018-10-27 21:25:38,509 - htmd.molecule.readers - WARNING - Non-integer values were read from the PDB \"resid\" field. Dropping PDB values and assigning new ones.\n"
     ]
    },
    {
     "name": "stdout",
     "output_type": "stream",
     "text": [
      "../data/testing_data/0002_lig_cg.pdb\n",
      "../data/testing_data/0003_lig_cg.pdb\n",
      "../data/testing_data/0004_lig_cg.pdb\n"
     ]
    },
    {
     "name": "stderr",
     "output_type": "stream",
     "text": [
      "2018-10-27 21:25:38,561 - htmd.molecule.readers - WARNING - Non-integer values were read from the PDB \"resid\" field. Dropping PDB values and assigning new ones.\n",
      "5it [00:01,  1.33it/s]2018-10-27 21:25:38,616 - htmd.molecule.readers - WARNING - Non-integer values were read from the PDB \"resid\" field. Dropping PDB values and assigning new ones.\n",
      "6it [00:01,  1.77it/s]2018-10-27 21:25:38,744 - htmd.molecule.readers - WARNING - Non-integer values were read from the PDB \"resid\" field. Dropping PDB values and assigning new ones.\n"
     ]
    },
    {
     "name": "stdout",
     "output_type": "stream",
     "text": [
      "../data/testing_data/0005_lig_cg.pdb\n",
      "../data/testing_data/0006_lig_cg.pdb\n",
      "../data/testing_data/0007_lig_cg.pdb\n"
     ]
    },
    {
     "name": "stderr",
     "output_type": "stream",
     "text": [
      "2018-10-27 21:25:38,814 - htmd.molecule.readers - WARNING - Non-integer values were read from the PDB \"resid\" field. Dropping PDB values and assigning new ones.\n",
      "8it [00:01,  2.40it/s]2018-10-27 21:25:38,893 - htmd.molecule.readers - WARNING - Non-integer values were read from the PDB \"resid\" field. Dropping PDB values and assigning new ones.\n",
      "2018-10-27 21:25:38,963 - htmd.molecule.readers - WARNING - Non-integer values were read from the PDB \"resid\" field. Dropping PDB values and assigning new ones.\n"
     ]
    },
    {
     "name": "stdout",
     "output_type": "stream",
     "text": [
      "../data/testing_data/0008_lig_cg.pdb\n",
      "../data/testing_data/0009_lig_cg.pdb\n",
      "../data/testing_data/0010_lig_cg.pdb\n"
     ]
    },
    {
     "name": "stderr",
     "output_type": "stream",
     "text": [
      "10it [00:02,  3.20it/s]2018-10-27 21:25:39,037 - htmd.molecule.readers - WARNING - Non-integer values were read from the PDB \"resid\" field. Dropping PDB values and assigning new ones.\n",
      "2018-10-27 21:25:39,104 - htmd.molecule.readers - WARNING - Non-integer values were read from the PDB \"resid\" field. Dropping PDB values and assigning new ones.\n",
      "12it [00:02,  4.18it/s]2018-10-27 21:25:39,164 - htmd.molecule.readers - WARNING - Non-integer values were read from the PDB \"resid\" field. Dropping PDB values and assigning new ones.\n"
     ]
    },
    {
     "name": "stdout",
     "output_type": "stream",
     "text": [
      "../data/testing_data/0011_lig_cg.pdb\n",
      "../data/testing_data/0012_lig_cg.pdb\n",
      "../data/testing_data/0013_lig_cg.pdb\n"
     ]
    },
    {
     "name": "stderr",
     "output_type": "stream",
     "text": [
      "2018-10-27 21:25:39,300 - htmd.molecule.readers - WARNING - Non-integer values were read from the PDB \"resid\" field. Dropping PDB values and assigning new ones.\n",
      "14it [00:02,  5.09it/s]2018-10-27 21:25:39,356 - htmd.molecule.readers - WARNING - Non-integer values were read from the PDB \"resid\" field. Dropping PDB values and assigning new ones.\n",
      "2018-10-27 21:25:39,414 - htmd.molecule.readers - WARNING - Non-integer values were read from the PDB \"resid\" field. Dropping PDB values and assigning new ones.\n",
      "16it [00:02,  6.49it/s]2018-10-27 21:25:39,472 - htmd.molecule.readers - WARNING - Non-integer values were read from the PDB \"resid\" field. Dropping PDB values and assigning new ones.\n"
     ]
    },
    {
     "name": "stdout",
     "output_type": "stream",
     "text": [
      "../data/testing_data/0014_lig_cg.pdb\n",
      "../data/testing_data/0015_lig_cg.pdb\n",
      "../data/testing_data/0016_lig_cg.pdb\n",
      "../data/testing_data/0017_lig_cg.pdb\n"
     ]
    },
    {
     "name": "stderr",
     "output_type": "stream",
     "text": [
      "2018-10-27 21:25:39,532 - htmd.molecule.readers - WARNING - Non-integer values were read from the PDB \"resid\" field. Dropping PDB values and assigning new ones.\n",
      "18it [00:02,  7.91it/s]2018-10-27 21:25:39,594 - htmd.molecule.readers - WARNING - Non-integer values were read from the PDB \"resid\" field. Dropping PDB values and assigning new ones.\n",
      "2018-10-27 21:25:39,649 - htmd.molecule.readers - WARNING - Non-integer values were read from the PDB \"resid\" field. Dropping PDB values and assigning new ones.\n"
     ]
    },
    {
     "name": "stdout",
     "output_type": "stream",
     "text": [
      "../data/testing_data/0018_lig_cg.pdb\n",
      "../data/testing_data/0019_lig_cg.pdb\n",
      "../data/testing_data/0020_lig_cg.pdb\n"
     ]
    },
    {
     "name": "stderr",
     "output_type": "stream",
     "text": [
      "20it [00:02,  8.61it/s]2018-10-27 21:25:39,781 - htmd.molecule.readers - WARNING - Non-integer values were read from the PDB \"resid\" field. Dropping PDB values and assigning new ones.\n",
      "2018-10-27 21:25:39,839 - htmd.molecule.readers - WARNING - Non-integer values were read from the PDB \"resid\" field. Dropping PDB values and assigning new ones.\n",
      "22it [00:03, 10.09it/s]2018-10-27 21:25:39,893 - htmd.molecule.readers - WARNING - Non-integer values were read from the PDB \"resid\" field. Dropping PDB values and assigning new ones.\n",
      "2018-10-27 21:25:39,956 - htmd.molecule.readers - WARNING - Non-integer values were read from the PDB \"resid\" field. Dropping PDB values and assigning new ones.\n"
     ]
    },
    {
     "name": "stdout",
     "output_type": "stream",
     "text": [
      "../data/testing_data/0021_lig_cg.pdb\n",
      "../data/testing_data/0022_lig_cg.pdb\n",
      "../data/testing_data/0023_lig_cg.pdb\n",
      "../data/testing_data/0024_lig_cg.pdb\n"
     ]
    },
    {
     "name": "stderr",
     "output_type": "stream",
     "text": [
      "24it [00:03, 11.51it/s]2018-10-27 21:25:40,010 - htmd.molecule.readers - WARNING - Non-integer values were read from the PDB \"resid\" field. Dropping PDB values and assigning new ones.\n",
      "2018-10-27 21:25:40,077 - htmd.molecule.readers - WARNING - Non-integer values were read from the PDB \"resid\" field. Dropping PDB values and assigning new ones.\n",
      "26it [00:03, 12.67it/s]2018-10-27 21:25:40,132 - htmd.molecule.readers - WARNING - Non-integer values were read from the PDB \"resid\" field. Dropping PDB values and assigning new ones.\n"
     ]
    },
    {
     "name": "stdout",
     "output_type": "stream",
     "text": [
      "../data/testing_data/0025_lig_cg.pdb\n",
      "../data/testing_data/0026_lig_cg.pdb\n",
      "../data/testing_data/0027_lig_cg.pdb\n"
     ]
    },
    {
     "name": "stderr",
     "output_type": "stream",
     "text": [
      "2018-10-27 21:25:40,260 - htmd.molecule.readers - WARNING - Non-integer values were read from the PDB \"resid\" field. Dropping PDB values and assigning new ones.\n",
      "28it [00:03, 12.02it/s]2018-10-27 21:25:40,321 - htmd.molecule.readers - WARNING - Non-integer values were read from the PDB \"resid\" field. Dropping PDB values and assigning new ones.\n",
      "2018-10-27 21:25:40,375 - htmd.molecule.readers - WARNING - Non-integer values were read from the PDB \"resid\" field. Dropping PDB values and assigning new ones.\n",
      "30it [00:03, 13.38it/s]2018-10-27 21:25:40,427 - htmd.molecule.readers - WARNING - Non-integer values were read from the PDB \"resid\" field. Dropping PDB values and assigning new ones.\n"
     ]
    },
    {
     "name": "stdout",
     "output_type": "stream",
     "text": [
      "../data/testing_data/0028_lig_cg.pdb\n",
      "../data/testing_data/0029_lig_cg.pdb\n",
      "../data/testing_data/0030_lig_cg.pdb\n",
      "../data/testing_data/0031_lig_cg.pdb\n"
     ]
    },
    {
     "name": "stderr",
     "output_type": "stream",
     "text": [
      "2018-10-27 21:25:40,487 - htmd.molecule.readers - WARNING - Non-integer values were read from the PDB \"resid\" field. Dropping PDB values and assigning new ones.\n",
      "32it [00:03, 14.27it/s]2018-10-27 21:25:40,546 - htmd.molecule.readers - WARNING - Non-integer values were read from the PDB \"resid\" field. Dropping PDB values and assigning new ones.\n"
     ]
    },
    {
     "name": "stdout",
     "output_type": "stream",
     "text": [
      "../data/testing_data/0032_lig_cg.pdb\n",
      "../data/testing_data/0033_lig_cg.pdb\n",
      "../data/testing_data/0034_lig_cg.pdb\n"
     ]
    },
    {
     "name": "stderr",
     "output_type": "stream",
     "text": [
      "2018-10-27 21:25:40,676 - htmd.molecule.readers - WARNING - Non-integer values were read from the PDB \"resid\" field. Dropping PDB values and assigning new ones.\n",
      "34it [00:03, 12.92it/s]2018-10-27 21:25:40,735 - htmd.molecule.readers - WARNING - Non-integer values were read from the PDB \"resid\" field. Dropping PDB values and assigning new ones.\n",
      "2018-10-27 21:25:40,793 - htmd.molecule.readers - WARNING - Non-integer values were read from the PDB \"resid\" field. Dropping PDB values and assigning new ones.\n",
      "36it [00:03, 14.15it/s]2018-10-27 21:25:40,853 - htmd.molecule.readers - WARNING - Non-integer values were read from the PDB \"resid\" field. Dropping PDB values and assigning new ones.\n",
      "2018-10-27 21:25:40,914 - htmd.molecule.readers - WARNING - Non-integer values were read from the PDB \"resid\" field. Dropping PDB values and assigning new ones.\n"
     ]
    },
    {
     "name": "stdout",
     "output_type": "stream",
     "text": [
      "../data/testing_data/0035_lig_cg.pdb\n",
      "../data/testing_data/0036_lig_cg.pdb\n",
      "../data/testing_data/0037_lig_cg.pdb\n",
      "../data/testing_data/0038_lig_cg.pdb\n"
     ]
    },
    {
     "name": "stderr",
     "output_type": "stream",
     "text": [
      "38it [00:04, 14.63it/s]2018-10-27 21:25:40,970 - htmd.molecule.readers - WARNING - Non-integer values were read from the PDB \"resid\" field. Dropping PDB values and assigning new ones.\n",
      "2018-10-27 21:25:41,031 - htmd.molecule.readers - WARNING - Non-integer values were read from the PDB \"resid\" field. Dropping PDB values and assigning new ones.\n",
      "40it [00:04, 13.19it/s]"
     ]
    },
    {
     "name": "stdout",
     "output_type": "stream",
     "text": [
      "../data/testing_data/0039_lig_cg.pdb\n",
      "../data/testing_data/0040_lig_cg.pdb\n",
      "../data/testing_data/0041_lig_cg.pdb\n"
     ]
    },
    {
     "name": "stderr",
     "output_type": "stream",
     "text": [
      "2018-10-27 21:25:41,156 - htmd.molecule.readers - WARNING - Non-integer values were read from the PDB \"resid\" field. Dropping PDB values and assigning new ones.\n",
      "2018-10-27 21:25:41,210 - htmd.molecule.readers - WARNING - Non-integer values were read from the PDB \"resid\" field. Dropping PDB values and assigning new ones.\n",
      "42it [00:04, 14.22it/s]2018-10-27 21:25:41,272 - htmd.molecule.readers - WARNING - Non-integer values were read from the PDB \"resid\" field. Dropping PDB values and assigning new ones.\n",
      "2018-10-27 21:25:41,334 - htmd.molecule.readers - WARNING - Non-integer values were read from the PDB \"resid\" field. Dropping PDB values and assigning new ones.\n",
      "44it [00:04, 14.92it/s]2018-10-27 21:25:41,392 - htmd.molecule.readers - WARNING - Non-integer values were read from the PDB \"resid\" field. Dropping PDB values and assigning new ones.\n"
     ]
    },
    {
     "name": "stdout",
     "output_type": "stream",
     "text": [
      "../data/testing_data/0042_lig_cg.pdb\n",
      "../data/testing_data/0043_lig_cg.pdb\n",
      "../data/testing_data/0044_lig_cg.pdb\n",
      "../data/testing_data/0045_lig_cg.pdb\n"
     ]
    },
    {
     "name": "stderr",
     "output_type": "stream",
     "text": [
      "2018-10-27 21:25:41,453 - htmd.molecule.readers - WARNING - Non-integer values were read from the PDB \"resid\" field. Dropping PDB values and assigning new ones.\n",
      "46it [00:04, 15.25it/s]2018-10-27 21:25:41,514 - htmd.molecule.readers - WARNING - Non-integer values were read from the PDB \"resid\" field. Dropping PDB values and assigning new ones.\n"
     ]
    },
    {
     "name": "stdout",
     "output_type": "stream",
     "text": [
      "../data/testing_data/0046_lig_cg.pdb\n",
      "../data/testing_data/0047_lig_cg.pdb\n",
      "../data/testing_data/0048_lig_cg.pdb\n"
     ]
    },
    {
     "name": "stderr",
     "output_type": "stream",
     "text": [
      "2018-10-27 21:25:41,644 - htmd.molecule.readers - WARNING - Non-integer values were read from the PDB \"resid\" field. Dropping PDB values and assigning new ones.\n",
      "48it [00:04, 13.57it/s]2018-10-27 21:25:41,700 - htmd.molecule.readers - WARNING - Non-integer values were read from the PDB \"resid\" field. Dropping PDB values and assigning new ones.\n",
      "2018-10-27 21:25:41,761 - htmd.molecule.readers - WARNING - Non-integer values were read from the PDB \"resid\" field. Dropping PDB values and assigning new ones.\n",
      "50it [00:04, 14.49it/s]2018-10-27 21:25:41,816 - htmd.molecule.readers - WARNING - Non-integer values were read from the PDB \"resid\" field. Dropping PDB values and assigning new ones.\n",
      "2018-10-27 21:25:41,874 - htmd.molecule.readers - WARNING - Non-integer values were read from the PDB \"resid\" field. Dropping PDB values and assigning new ones.\n"
     ]
    },
    {
     "name": "stdout",
     "output_type": "stream",
     "text": [
      "../data/testing_data/0049_lig_cg.pdb\n",
      "../data/testing_data/0050_lig_cg.pdb\n",
      "../data/testing_data/0051_lig_cg.pdb\n",
      "../data/testing_data/0052_lig_cg.pdb\n"
     ]
    },
    {
     "name": "stderr",
     "output_type": "stream",
     "text": [
      "52it [00:05, 15.29it/s]2018-10-27 21:25:41,930 - htmd.molecule.readers - WARNING - Non-integer values were read from the PDB \"resid\" field. Dropping PDB values and assigning new ones.\n",
      "2018-10-27 21:25:41,995 - htmd.molecule.readers - WARNING - Non-integer values were read from the PDB \"resid\" field. Dropping PDB values and assigning new ones.\n",
      "54it [00:05, 13.53it/s]"
     ]
    },
    {
     "name": "stdout",
     "output_type": "stream",
     "text": [
      "../data/testing_data/0053_lig_cg.pdb\n",
      "../data/testing_data/0054_lig_cg.pdb\n",
      "../data/testing_data/0055_lig_cg.pdb\n"
     ]
    },
    {
     "name": "stderr",
     "output_type": "stream",
     "text": [
      "2018-10-27 21:25:42,124 - htmd.molecule.readers - WARNING - Non-integer values were read from the PDB \"resid\" field. Dropping PDB values and assigning new ones.\n",
      "2018-10-27 21:25:42,188 - htmd.molecule.readers - WARNING - Non-integer values were read from the PDB \"resid\" field. Dropping PDB values and assigning new ones.\n",
      "56it [00:05, 14.18it/s]2018-10-27 21:25:42,244 - htmd.molecule.readers - WARNING - Non-integer values were read from the PDB \"resid\" field. Dropping PDB values and assigning new ones.\n",
      "2018-10-27 21:25:42,305 - htmd.molecule.readers - WARNING - Non-integer values were read from the PDB \"resid\" field. Dropping PDB values and assigning new ones.\n",
      "58it [00:05, 14.88it/s]"
     ]
    },
    {
     "name": "stdout",
     "output_type": "stream",
     "text": [
      "../data/testing_data/0056_lig_cg.pdb\n",
      "../data/testing_data/0057_lig_cg.pdb\n",
      "../data/testing_data/0058_lig_cg.pdb\n",
      "../data/testing_data/0059_lig_cg.pdb\n"
     ]
    },
    {
     "name": "stderr",
     "output_type": "stream",
     "text": [
      "2018-10-27 21:25:42,372 - htmd.molecule.readers - WARNING - Non-integer values were read from the PDB \"resid\" field. Dropping PDB values and assigning new ones.\n",
      "2018-10-27 21:25:42,449 - htmd.molecule.readers - WARNING - Non-integer values were read from the PDB \"resid\" field. Dropping PDB values and assigning new ones.\n",
      "60it [00:05, 12.07it/s]2018-10-27 21:25:42,608 - htmd.molecule.readers - WARNING - Non-integer values were read from the PDB \"resid\" field. Dropping PDB values and assigning new ones.\n"
     ]
    },
    {
     "name": "stdout",
     "output_type": "stream",
     "text": [
      "../data/testing_data/0060_lig_cg.pdb\n",
      "../data/testing_data/0061_lig_cg.pdb\n"
     ]
    },
    {
     "name": "stderr",
     "output_type": "stream",
     "text": [
      "2018-10-27 21:25:42,663 - htmd.molecule.readers - WARNING - Non-integer values were read from the PDB \"resid\" field. Dropping PDB values and assigning new ones.\n",
      "62it [00:05, 13.08it/s]2018-10-27 21:25:42,725 - htmd.molecule.readers - WARNING - Non-integer values were read from the PDB \"resid\" field. Dropping PDB values and assigning new ones.\n",
      "2018-10-27 21:25:42,787 - htmd.molecule.readers - WARNING - Non-integer values were read from the PDB \"resid\" field. Dropping PDB values and assigning new ones.\n",
      "64it [00:05, 13.99it/s]2018-10-27 21:25:42,844 - htmd.molecule.readers - WARNING - Non-integer values were read from the PDB \"resid\" field. Dropping PDB values and assigning new ones.\n"
     ]
    },
    {
     "name": "stdout",
     "output_type": "stream",
     "text": [
      "../data/testing_data/0062_lig_cg.pdb\n",
      "../data/testing_data/0063_lig_cg.pdb\n",
      "../data/testing_data/0064_lig_cg.pdb\n",
      "../data/testing_data/0065_lig_cg.pdb\n"
     ]
    },
    {
     "name": "stderr",
     "output_type": "stream",
     "text": [
      "2018-10-27 21:25:42,904 - htmd.molecule.readers - WARNING - Non-integer values were read from the PDB \"resid\" field. Dropping PDB values and assigning new ones.\n",
      "66it [00:06, 14.58it/s]2018-10-27 21:25:42,967 - htmd.molecule.readers - WARNING - Non-integer values were read from the PDB \"resid\" field. Dropping PDB values and assigning new ones.\n"
     ]
    },
    {
     "name": "stdout",
     "output_type": "stream",
     "text": [
      "../data/testing_data/0066_lig_cg.pdb\n",
      "../data/testing_data/0067_lig_cg.pdb\n",
      "../data/testing_data/0068_lig_cg.pdb\n"
     ]
    },
    {
     "name": "stderr",
     "output_type": "stream",
     "text": [
      "2018-10-27 21:25:43,101 - htmd.molecule.readers - WARNING - Non-integer values were read from the PDB \"resid\" field. Dropping PDB values and assigning new ones.\n",
      "68it [00:06, 13.06it/s]2018-10-27 21:25:43,158 - htmd.molecule.readers - WARNING - Non-integer values were read from the PDB \"resid\" field. Dropping PDB values and assigning new ones.\n",
      "2018-10-27 21:25:43,220 - htmd.molecule.readers - WARNING - Non-integer values were read from the PDB \"resid\" field. Dropping PDB values and assigning new ones.\n",
      "70it [00:06, 14.04it/s]2018-10-27 21:25:43,276 - htmd.molecule.readers - WARNING - Non-integer values were read from the PDB \"resid\" field. Dropping PDB values and assigning new ones.\n",
      "2018-10-27 21:25:43,338 - htmd.molecule.readers - WARNING - Non-integer values were read from the PDB \"resid\" field. Dropping PDB values and assigning new ones.\n"
     ]
    },
    {
     "name": "stdout",
     "output_type": "stream",
     "text": [
      "../data/testing_data/0069_lig_cg.pdb\n",
      "../data/testing_data/0070_lig_cg.pdb\n",
      "../data/testing_data/0071_lig_cg.pdb\n",
      "../data/testing_data/0072_lig_cg.pdb\n"
     ]
    },
    {
     "name": "stderr",
     "output_type": "stream",
     "text": [
      "72it [00:06, 14.65it/s]2018-10-27 21:25:43,398 - htmd.molecule.readers - WARNING - Non-integer values were read from the PDB \"resid\" field. Dropping PDB values and assigning new ones.\n",
      "2018-10-27 21:25:43,464 - htmd.molecule.readers - WARNING - Non-integer values were read from the PDB \"resid\" field. Dropping PDB values and assigning new ones.\n",
      "74it [00:06, 13.11it/s]"
     ]
    },
    {
     "name": "stdout",
     "output_type": "stream",
     "text": [
      "../data/testing_data/0073_lig_cg.pdb\n",
      "../data/testing_data/0074_lig_cg.pdb\n",
      "../data/testing_data/0075_lig_cg.pdb\n"
     ]
    },
    {
     "name": "stderr",
     "output_type": "stream",
     "text": [
      "2018-10-27 21:25:43,594 - htmd.molecule.readers - WARNING - Non-integer values were read from the PDB \"resid\" field. Dropping PDB values and assigning new ones.\n",
      "2018-10-27 21:25:43,657 - htmd.molecule.readers - WARNING - Non-integer values were read from the PDB \"resid\" field. Dropping PDB values and assigning new ones.\n",
      "76it [00:06, 13.84it/s]2018-10-27 21:25:43,714 - htmd.molecule.readers - WARNING - Non-integer values were read from the PDB \"resid\" field. Dropping PDB values and assigning new ones.\n",
      "2018-10-27 21:25:43,773 - htmd.molecule.readers - WARNING - Non-integer values were read from the PDB \"resid\" field. Dropping PDB values and assigning new ones.\n",
      "78it [00:06, 14.92it/s]2018-10-27 21:25:43,828 - htmd.molecule.readers - WARNING - Non-integer values were read from the PDB \"resid\" field. Dropping PDB values and assigning new ones.\n"
     ]
    },
    {
     "name": "stdout",
     "output_type": "stream",
     "text": [
      "../data/testing_data/0076_lig_cg.pdb\n",
      "../data/testing_data/0077_lig_cg.pdb\n",
      "../data/testing_data/0078_lig_cg.pdb\n",
      "../data/testing_data/0079_lig_cg.pdb\n"
     ]
    },
    {
     "name": "stderr",
     "output_type": "stream",
     "text": [
      "2018-10-27 21:25:43,886 - htmd.molecule.readers - WARNING - Non-integer values were read from the PDB \"resid\" field. Dropping PDB values and assigning new ones.\n",
      "80it [00:07, 13.22it/s]2018-10-27 21:25:44,020 - htmd.molecule.readers - WARNING - Non-integer values were read from the PDB \"resid\" field. Dropping PDB values and assigning new ones.\n"
     ]
    },
    {
     "name": "stdout",
     "output_type": "stream",
     "text": [
      "../data/testing_data/0080_lig_cg.pdb\n",
      "../data/testing_data/0081_lig_cg.pdb\n",
      "../data/testing_data/0082_lig_cg.pdb\n"
     ]
    },
    {
     "name": "stderr",
     "output_type": "stream",
     "text": [
      "2018-10-27 21:25:44,075 - htmd.molecule.readers - WARNING - Non-integer values were read from the PDB \"resid\" field. Dropping PDB values and assigning new ones.\n",
      "82it [00:07, 14.14it/s]2018-10-27 21:25:44,144 - htmd.molecule.readers - WARNING - Non-integer values were read from the PDB \"resid\" field. Dropping PDB values and assigning new ones.\n",
      "2018-10-27 21:25:44,202 - htmd.molecule.readers - WARNING - Non-integer values were read from the PDB \"resid\" field. Dropping PDB values and assigning new ones.\n",
      "84it [00:07, 14.77it/s]2018-10-27 21:25:44,261 - htmd.molecule.readers - WARNING - Non-integer values were read from the PDB \"resid\" field. Dropping PDB values and assigning new ones.\n"
     ]
    },
    {
     "name": "stdout",
     "output_type": "stream",
     "text": [
      "../data/testing_data/0083_lig_cg.pdb\n",
      "../data/testing_data/0084_lig_cg.pdb\n",
      "../data/testing_data/0085_lig_cg.pdb\n",
      "../data/testing_data/0086_lig_cg.pdb\n"
     ]
    },
    {
     "name": "stderr",
     "output_type": "stream",
     "text": [
      "2018-10-27 21:25:44,331 - htmd.molecule.readers - WARNING - Non-integer values were read from the PDB \"resid\" field. Dropping PDB values and assigning new ones.\n",
      "86it [00:07, 14.51it/s]2018-10-27 21:25:44,399 - htmd.molecule.readers - WARNING - Non-integer values were read from the PDB \"resid\" field. Dropping PDB values and assigning new ones.\n",
      "2018-10-27 21:25:44,461 - htmd.molecule.readers - WARNING - Non-integer values were read from the PDB \"resid\" field. Dropping PDB values and assigning new ones.\n",
      "88it [00:07, 13.03it/s]"
     ]
    },
    {
     "name": "stdout",
     "output_type": "stream",
     "text": [
      "../data/testing_data/0087_lig_cg.pdb\n",
      "../data/testing_data/0088_lig_cg.pdb\n",
      "../data/testing_data/0089_lig_cg.pdb\n"
     ]
    },
    {
     "name": "stderr",
     "output_type": "stream",
     "text": [
      "2018-10-27 21:25:44,594 - htmd.molecule.readers - WARNING - Non-integer values were read from the PDB \"resid\" field. Dropping PDB values and assigning new ones.\n",
      "2018-10-27 21:25:44,655 - htmd.molecule.readers - WARNING - Non-integer values were read from the PDB \"resid\" field. Dropping PDB values and assigning new ones.\n",
      "90it [00:07, 13.72it/s]2018-10-27 21:25:44,720 - htmd.molecule.readers - WARNING - Non-integer values were read from the PDB \"resid\" field. Dropping PDB values and assigning new ones.\n",
      "2018-10-27 21:25:44,786 - htmd.molecule.readers - WARNING - Non-integer values were read from the PDB \"resid\" field. Dropping PDB values and assigning new ones.\n",
      "92it [00:07, 14.44it/s]"
     ]
    },
    {
     "name": "stdout",
     "output_type": "stream",
     "text": [
      "../data/testing_data/0090_lig_cg.pdb\n",
      "../data/testing_data/0091_lig_cg.pdb\n",
      "../data/testing_data/0092_lig_cg.pdb\n",
      "../data/testing_data/0093_lig_cg.pdb\n"
     ]
    },
    {
     "name": "stderr",
     "output_type": "stream",
     "text": [
      "2018-10-27 21:25:44,842 - htmd.molecule.readers - WARNING - Non-integer values were read from the PDB \"resid\" field. Dropping PDB values and assigning new ones.\n",
      "2018-10-27 21:25:44,902 - htmd.molecule.readers - WARNING - Non-integer values were read from the PDB \"resid\" field. Dropping PDB values and assigning new ones.\n",
      "94it [00:08, 14.69it/s]2018-10-27 21:25:44,972 - htmd.molecule.readers - WARNING - Non-integer values were read from the PDB \"resid\" field. Dropping PDB values and assigning new ones.\n"
     ]
    },
    {
     "name": "stdout",
     "output_type": "stream",
     "text": [
      "../data/testing_data/0094_lig_cg.pdb\n",
      "../data/testing_data/0095_lig_cg.pdb\n"
     ]
    },
    {
     "name": "stderr",
     "output_type": "stream",
     "text": [
      "2018-10-27 21:25:45,107 - htmd.molecule.readers - WARNING - Non-integer values were read from the PDB \"resid\" field. Dropping PDB values and assigning new ones.\n",
      "96it [00:08, 12.99it/s]2018-10-27 21:25:45,165 - htmd.molecule.readers - WARNING - Non-integer values were read from the PDB \"resid\" field. Dropping PDB values and assigning new ones.\n",
      "2018-10-27 21:25:45,234 - htmd.molecule.readers - WARNING - Non-integer values were read from the PDB \"resid\" field. Dropping PDB values and assigning new ones.\n",
      "98it [00:08, 13.63it/s]"
     ]
    },
    {
     "name": "stdout",
     "output_type": "stream",
     "text": [
      "../data/testing_data/0096_lig_cg.pdb\n",
      "../data/testing_data/0097_lig_cg.pdb\n",
      "../data/testing_data/0098_lig_cg.pdb\n",
      "../data/testing_data/0099_lig_cg.pdb\n"
     ]
    },
    {
     "name": "stderr",
     "output_type": "stream",
     "text": [
      "2018-10-27 21:25:45,302 - htmd.molecule.readers - WARNING - Non-integer values were read from the PDB \"resid\" field. Dropping PDB values and assigning new ones.\n",
      "2018-10-27 21:25:45,368 - htmd.molecule.readers - WARNING - Non-integer values were read from the PDB \"resid\" field. Dropping PDB values and assigning new ones.\n",
      "100it [00:08, 14.04it/s]2018-10-27 21:25:45,430 - htmd.molecule.readers - WARNING - Non-integer values were read from the PDB \"resid\" field. Dropping PDB values and assigning new ones.\n",
      "2018-10-27 21:25:45,495 - htmd.molecule.readers - WARNING - Non-integer values were read from the PDB \"resid\" field. Dropping PDB values and assigning new ones.\n"
     ]
    },
    {
     "name": "stdout",
     "output_type": "stream",
     "text": [
      "../data/testing_data/0100_lig_cg.pdb\n",
      "../data/testing_data/0101_lig_cg.pdb\n",
      "../data/testing_data/0102_lig_cg.pdb\n"
     ]
    },
    {
     "name": "stderr",
     "output_type": "stream",
     "text": [
      "102it [00:08, 12.63it/s]2018-10-27 21:25:45,629 - htmd.molecule.readers - WARNING - Non-integer values were read from the PDB \"resid\" field. Dropping PDB values and assigning new ones.\n",
      "2018-10-27 21:25:45,690 - htmd.molecule.readers - WARNING - Non-integer values were read from the PDB \"resid\" field. Dropping PDB values and assigning new ones.\n",
      "104it [00:08, 13.45it/s]2018-10-27 21:25:45,749 - htmd.molecule.readers - WARNING - Non-integer values were read from the PDB \"resid\" field. Dropping PDB values and assigning new ones.\n"
     ]
    },
    {
     "name": "stdout",
     "output_type": "stream",
     "text": [
      "../data/testing_data/0103_lig_cg.pdb\n",
      "../data/testing_data/0104_lig_cg.pdb\n",
      "../data/testing_data/0105_lig_cg.pdb\n",
      "../data/testing_data/0106_lig_cg.pdb\n"
     ]
    },
    {
     "name": "stderr",
     "output_type": "stream",
     "text": [
      "2018-10-27 21:25:45,819 - htmd.molecule.readers - WARNING - Non-integer values were read from the PDB \"resid\" field. Dropping PDB values and assigning new ones.\n",
      "106it [00:08, 13.73it/s]2018-10-27 21:25:45,890 - htmd.molecule.readers - WARNING - Non-integer values were read from the PDB \"resid\" field. Dropping PDB values and assigning new ones.\n",
      "2018-10-27 21:25:45,958 - htmd.molecule.readers - WARNING - Non-integer values were read from the PDB \"resid\" field. Dropping PDB values and assigning new ones.\n",
      "108it [00:09, 14.11it/s]2018-10-27 21:25:46,020 - htmd.molecule.readers - WARNING - Non-integer values were read from the PDB \"resid\" field. Dropping PDB values and assigning new ones.\n"
     ]
    },
    {
     "name": "stdout",
     "output_type": "stream",
     "text": [
      "../data/testing_data/0107_lig_cg.pdb\n",
      "../data/testing_data/0108_lig_cg.pdb\n",
      "../data/testing_data/0109_lig_cg.pdb\n"
     ]
    },
    {
     "name": "stderr",
     "output_type": "stream",
     "text": [
      "2018-10-27 21:25:46,158 - htmd.molecule.readers - WARNING - Non-integer values were read from the PDB \"resid\" field. Dropping PDB values and assigning new ones.\n",
      "110it [00:09, 12.78it/s]2018-10-27 21:25:46,210 - htmd.molecule.readers - WARNING - Non-integer values were read from the PDB \"resid\" field. Dropping PDB values and assigning new ones.\n",
      "2018-10-27 21:25:46,270 - htmd.molecule.readers - WARNING - Non-integer values were read from the PDB \"resid\" field. Dropping PDB values and assigning new ones.\n",
      "112it [00:09, 13.86it/s]2018-10-27 21:25:46,329 - htmd.molecule.readers - WARNING - Non-integer values were read from the PDB \"resid\" field. Dropping PDB values and assigning new ones.\n"
     ]
    },
    {
     "name": "stdout",
     "output_type": "stream",
     "text": [
      "../data/testing_data/0110_lig_cg.pdb\n",
      "../data/testing_data/0111_lig_cg.pdb\n",
      "../data/testing_data/0112_lig_cg.pdb\n",
      "../data/testing_data/0113_lig_cg.pdb\n"
     ]
    },
    {
     "name": "stderr",
     "output_type": "stream",
     "text": [
      "2018-10-27 21:25:46,402 - htmd.molecule.readers - WARNING - Non-integer values were read from the PDB \"resid\" field. Dropping PDB values and assigning new ones.\n",
      "114it [00:09, 14.11it/s]2018-10-27 21:25:46,468 - htmd.molecule.readers - WARNING - Non-integer values were read from the PDB \"resid\" field. Dropping PDB values and assigning new ones.\n",
      "2018-10-27 21:25:46,526 - htmd.molecule.readers - WARNING - Non-integer values were read from the PDB \"resid\" field. Dropping PDB values and assigning new ones.\n"
     ]
    },
    {
     "name": "stdout",
     "output_type": "stream",
     "text": [
      "../data/testing_data/0114_lig_cg.pdb\n",
      "../data/testing_data/0115_lig_cg.pdb\n",
      "../data/testing_data/0116_lig_cg.pdb\n"
     ]
    },
    {
     "name": "stderr",
     "output_type": "stream",
     "text": [
      "116it [00:09, 12.72it/s]2018-10-27 21:25:46,656 - htmd.molecule.readers - WARNING - Non-integer values were read from the PDB \"resid\" field. Dropping PDB values and assigning new ones.\n",
      "2018-10-27 21:25:46,708 - htmd.molecule.readers - WARNING - Non-integer values were read from the PDB \"resid\" field. Dropping PDB values and assigning new ones.\n",
      "118it [00:09, 14.10it/s]2018-10-27 21:25:46,762 - htmd.molecule.readers - WARNING - Non-integer values were read from the PDB \"resid\" field. Dropping PDB values and assigning new ones.\n",
      "2018-10-27 21:25:46,838 - htmd.molecule.readers - WARNING - Non-integer values were read from the PDB \"resid\" field. Dropping PDB values and assigning new ones.\n"
     ]
    },
    {
     "name": "stdout",
     "output_type": "stream",
     "text": [
      "../data/testing_data/0117_lig_cg.pdb\n",
      "../data/testing_data/0118_lig_cg.pdb\n",
      "../data/testing_data/0119_lig_cg.pdb\n",
      "../data/testing_data/0120_lig_cg.pdb\n"
     ]
    },
    {
     "name": "stderr",
     "output_type": "stream",
     "text": [
      "120it [00:10, 14.40it/s]2018-10-27 21:25:46,894 - htmd.molecule.readers - WARNING - Non-integer values were read from the PDB \"resid\" field. Dropping PDB values and assigning new ones.\n",
      "2018-10-27 21:25:46,949 - htmd.molecule.readers - WARNING - Non-integer values were read from the PDB \"resid\" field. Dropping PDB values and assigning new ones.\n",
      "122it [00:10, 15.07it/s]2018-10-27 21:25:47,025 - htmd.molecule.readers - WARNING - Non-integer values were read from the PDB \"resid\" field. Dropping PDB values and assigning new ones.\n"
     ]
    },
    {
     "name": "stdout",
     "output_type": "stream",
     "text": [
      "../data/testing_data/0121_lig_cg.pdb\n",
      "../data/testing_data/0122_lig_cg.pdb\n",
      "../data/testing_data/0123_lig_cg.pdb\n"
     ]
    },
    {
     "name": "stderr",
     "output_type": "stream",
     "text": [
      "2018-10-27 21:25:47,224 - htmd.molecule.readers - WARNING - Non-integer values were read from the PDB \"resid\" field. Dropping PDB values and assigning new ones.\n",
      "124it [00:10, 11.08it/s]2018-10-27 21:25:47,314 - htmd.molecule.readers - WARNING - Non-integer values were read from the PDB \"resid\" field. Dropping PDB values and assigning new ones.\n",
      "2018-10-27 21:25:47,372 - htmd.molecule.readers - WARNING - Non-integer values were read from the PDB \"resid\" field. Dropping PDB values and assigning new ones.\n"
     ]
    },
    {
     "name": "stdout",
     "output_type": "stream",
     "text": [
      "../data/testing_data/0124_lig_cg.pdb\n",
      "../data/testing_data/0125_lig_cg.pdb\n",
      "../data/testing_data/0126_lig_cg.pdb\n"
     ]
    },
    {
     "name": "stderr",
     "output_type": "stream",
     "text": [
      "126it [00:10, 12.06it/s]2018-10-27 21:25:47,442 - htmd.molecule.readers - WARNING - Non-integer values were read from the PDB \"resid\" field. Dropping PDB values and assigning new ones.\n",
      "2018-10-27 21:25:47,504 - htmd.molecule.readers - WARNING - Non-integer values were read from the PDB \"resid\" field. Dropping PDB values and assigning new ones.\n",
      "128it [00:10, 12.95it/s]2018-10-27 21:25:47,564 - htmd.molecule.readers - WARNING - Non-integer values were read from the PDB \"resid\" field. Dropping PDB values and assigning new ones.\n",
      "2018-10-27 21:25:47,618 - htmd.molecule.readers - WARNING - Non-integer values were read from the PDB \"resid\" field. Dropping PDB values and assigning new ones.\n"
     ]
    },
    {
     "name": "stdout",
     "output_type": "stream",
     "text": [
      "../data/testing_data/0127_lig_cg.pdb\n",
      "../data/testing_data/0128_lig_cg.pdb\n",
      "../data/testing_data/0129_lig_cg.pdb\n",
      "../data/testing_data/0130_lig_cg.pdb\n"
     ]
    },
    {
     "name": "stderr",
     "output_type": "stream",
     "text": [
      "130it [00:10, 12.23it/s]2018-10-27 21:25:47,753 - htmd.molecule.readers - WARNING - Non-integer values were read from the PDB \"resid\" field. Dropping PDB values and assigning new ones.\n",
      "2018-10-27 21:25:47,820 - htmd.molecule.readers - WARNING - Non-integer values were read from the PDB \"resid\" field. Dropping PDB values and assigning new ones.\n",
      "132it [00:10, 13.09it/s]2018-10-27 21:25:47,876 - htmd.molecule.readers - WARNING - Non-integer values were read from the PDB \"resid\" field. Dropping PDB values and assigning new ones.\n",
      "2018-10-27 21:25:47,930 - htmd.molecule.readers - WARNING - Non-integer values were read from the PDB \"resid\" field. Dropping PDB values and assigning new ones.\n"
     ]
    },
    {
     "name": "stdout",
     "output_type": "stream",
     "text": [
      "../data/testing_data/0131_lig_cg.pdb\n",
      "../data/testing_data/0132_lig_cg.pdb\n",
      "../data/testing_data/0133_lig_cg.pdb\n",
      "../data/testing_data/0134_lig_cg.pdb\n"
     ]
    },
    {
     "name": "stderr",
     "output_type": "stream",
     "text": [
      "134it [00:11, 14.17it/s]2018-10-27 21:25:47,995 - htmd.molecule.readers - WARNING - Non-integer values were read from the PDB \"resid\" field. Dropping PDB values and assigning new ones.\n",
      "2018-10-27 21:25:48,047 - htmd.molecule.readers - WARNING - Non-integer values were read from the PDB \"resid\" field. Dropping PDB values and assigning new ones.\n",
      "136it [00:11, 15.09it/s]2018-10-27 21:25:48,103 - htmd.molecule.readers - WARNING - Non-integer values were read from the PDB \"resid\" field. Dropping PDB values and assigning new ones.\n"
     ]
    },
    {
     "name": "stdout",
     "output_type": "stream",
     "text": [
      "../data/testing_data/0135_lig_cg.pdb\n",
      "../data/testing_data/0136_lig_cg.pdb\n",
      "../data/testing_data/0137_lig_cg.pdb\n"
     ]
    },
    {
     "name": "stderr",
     "output_type": "stream",
     "text": [
      "2018-10-27 21:25:48,231 - htmd.molecule.readers - WARNING - Non-integer values were read from the PDB \"resid\" field. Dropping PDB values and assigning new ones.\n",
      "138it [00:11, 13.60it/s]2018-10-27 21:25:48,285 - htmd.molecule.readers - WARNING - Non-integer values were read from the PDB \"resid\" field. Dropping PDB values and assigning new ones.\n",
      "2018-10-27 21:25:48,340 - htmd.molecule.readers - WARNING - Non-integer values were read from the PDB \"resid\" field. Dropping PDB values and assigning new ones.\n",
      "140it [00:11, 14.69it/s]2018-10-27 21:25:48,394 - htmd.molecule.readers - WARNING - Non-integer values were read from the PDB \"resid\" field. Dropping PDB values and assigning new ones.\n"
     ]
    },
    {
     "name": "stdout",
     "output_type": "stream",
     "text": [
      "../data/testing_data/0138_lig_cg.pdb\n",
      "../data/testing_data/0139_lig_cg.pdb\n",
      "../data/testing_data/0140_lig_cg.pdb\n",
      "../data/testing_data/0141_lig_cg.pdb\n"
     ]
    },
    {
     "name": "stderr",
     "output_type": "stream",
     "text": [
      "2018-10-27 21:25:48,447 - htmd.molecule.readers - WARNING - Non-integer values were read from the PDB \"resid\" field. Dropping PDB values and assigning new ones.\n",
      "142it [00:11, 15.77it/s]2018-10-27 21:25:48,498 - htmd.molecule.readers - WARNING - Non-integer values were read from the PDB \"resid\" field. Dropping PDB values and assigning new ones.\n",
      "2018-10-27 21:25:48,618 - htmd.molecule.readers - WARNING - Non-integer values were read from the PDB \"resid\" field. Dropping PDB values and assigning new ones.\n"
     ]
    },
    {
     "name": "stdout",
     "output_type": "stream",
     "text": [
      "../data/testing_data/0142_lig_cg.pdb\n",
      "../data/testing_data/0143_lig_cg.pdb\n",
      "../data/testing_data/0144_lig_cg.pdb\n"
     ]
    },
    {
     "name": "stderr",
     "output_type": "stream",
     "text": [
      "144it [00:11, 14.18it/s]2018-10-27 21:25:48,677 - htmd.molecule.readers - WARNING - Non-integer values were read from the PDB \"resid\" field. Dropping PDB values and assigning new ones.\n",
      "2018-10-27 21:25:48,733 - htmd.molecule.readers - WARNING - Non-integer values were read from the PDB \"resid\" field. Dropping PDB values and assigning new ones.\n",
      "146it [00:11, 14.97it/s]2018-10-27 21:25:48,790 - htmd.molecule.readers - WARNING - Non-integer values were read from the PDB \"resid\" field. Dropping PDB values and assigning new ones.\n",
      "2018-10-27 21:25:48,846 - htmd.molecule.readers - WARNING - Non-integer values were read from the PDB \"resid\" field. Dropping PDB values and assigning new ones.\n"
     ]
    },
    {
     "name": "stdout",
     "output_type": "stream",
     "text": [
      "../data/testing_data/0145_lig_cg.pdb\n",
      "../data/testing_data/0146_lig_cg.pdb\n",
      "../data/testing_data/0147_lig_cg.pdb\n",
      "../data/testing_data/0148_lig_cg.pdb\n"
     ]
    },
    {
     "name": "stderr",
     "output_type": "stream",
     "text": [
      "148it [00:12, 15.35it/s]2018-10-27 21:25:48,912 - htmd.molecule.readers - WARNING - Non-integer values were read from the PDB \"resid\" field. Dropping PDB values and assigning new ones.\n",
      "2018-10-27 21:25:48,965 - htmd.molecule.readers - WARNING - Non-integer values were read from the PDB \"resid\" field. Dropping PDB values and assigning new ones.\n",
      "150it [00:12, 13.52it/s]"
     ]
    },
    {
     "name": "stdout",
     "output_type": "stream",
     "text": [
      "../data/testing_data/0149_lig_cg.pdb\n",
      "../data/testing_data/0150_lig_cg.pdb\n",
      "../data/testing_data/0151_lig_cg.pdb\n"
     ]
    },
    {
     "name": "stderr",
     "output_type": "stream",
     "text": [
      "2018-10-27 21:25:49,105 - htmd.molecule.readers - WARNING - Non-integer values were read from the PDB \"resid\" field. Dropping PDB values and assigning new ones.\n",
      "2018-10-27 21:25:49,169 - htmd.molecule.readers - WARNING - Non-integer values were read from the PDB \"resid\" field. Dropping PDB values and assigning new ones.\n",
      "152it [00:12, 14.31it/s]2018-10-27 21:25:49,221 - htmd.molecule.readers - WARNING - Non-integer values were read from the PDB \"resid\" field. Dropping PDB values and assigning new ones.\n",
      "2018-10-27 21:25:49,283 - htmd.molecule.readers - WARNING - Non-integer values were read from the PDB \"resid\" field. Dropping PDB values and assigning new ones.\n",
      "154it [00:12, 15.00it/s]2018-10-27 21:25:49,341 - htmd.molecule.readers - WARNING - Non-integer values were read from the PDB \"resid\" field. Dropping PDB values and assigning new ones.\n"
     ]
    },
    {
     "name": "stdout",
     "output_type": "stream",
     "text": [
      "../data/testing_data/0152_lig_cg.pdb\n",
      "../data/testing_data/0153_lig_cg.pdb\n",
      "../data/testing_data/0154_lig_cg.pdb\n",
      "../data/testing_data/0155_lig_cg.pdb\n"
     ]
    },
    {
     "name": "stderr",
     "output_type": "stream",
     "text": [
      "2018-10-27 21:25:49,395 - htmd.molecule.readers - WARNING - Non-integer values were read from the PDB \"resid\" field. Dropping PDB values and assigning new ones.\n",
      "156it [00:12, 15.88it/s]2018-10-27 21:25:49,449 - htmd.molecule.readers - WARNING - Non-integer values were read from the PDB \"resid\" field. Dropping PDB values and assigning new ones.\n",
      "2018-10-27 21:25:49,576 - htmd.molecule.readers - WARNING - Non-integer values were read from the PDB \"resid\" field. Dropping PDB values and assigning new ones.\n"
     ]
    },
    {
     "name": "stdout",
     "output_type": "stream",
     "text": [
      "../data/testing_data/0156_lig_cg.pdb\n",
      "../data/testing_data/0157_lig_cg.pdb\n",
      "../data/testing_data/0158_lig_cg.pdb\n"
     ]
    },
    {
     "name": "stderr",
     "output_type": "stream",
     "text": [
      "158it [00:12, 13.97it/s]2018-10-27 21:25:49,645 - htmd.molecule.readers - WARNING - Non-integer values were read from the PDB \"resid\" field. Dropping PDB values and assigning new ones.\n",
      "2018-10-27 21:25:49,724 - htmd.molecule.readers - WARNING - Non-integer values were read from the PDB \"resid\" field. Dropping PDB values and assigning new ones.\n",
      "160it [00:12, 13.39it/s]2018-10-27 21:25:49,799 - htmd.molecule.readers - WARNING - Non-integer values were read from the PDB \"resid\" field. Dropping PDB values and assigning new ones.\n"
     ]
    },
    {
     "name": "stdout",
     "output_type": "stream",
     "text": [
      "../data/testing_data/0159_lig_cg.pdb\n",
      "../data/testing_data/0160_lig_cg.pdb\n",
      "../data/testing_data/0161_lig_cg.pdb\n"
     ]
    },
    {
     "name": "stderr",
     "output_type": "stream",
     "text": [
      "2018-10-27 21:25:49,855 - htmd.molecule.readers - WARNING - Non-integer values were read from the PDB \"resid\" field. Dropping PDB values and assigning new ones.\n",
      "162it [00:13, 14.42it/s]2018-10-27 21:25:49,909 - htmd.molecule.readers - WARNING - Non-integer values were read from the PDB \"resid\" field. Dropping PDB values and assigning new ones.\n",
      "2018-10-27 21:25:49,961 - htmd.molecule.readers - WARNING - Non-integer values were read from the PDB \"resid\" field. Dropping PDB values and assigning new ones.\n"
     ]
    },
    {
     "name": "stdout",
     "output_type": "stream",
     "text": [
      "../data/testing_data/0162_lig_cg.pdb\n",
      "../data/testing_data/0163_lig_cg.pdb\n",
      "../data/testing_data/0164_lig_cg.pdb\n"
     ]
    },
    {
     "name": "stderr",
     "output_type": "stream",
     "text": [
      "164it [00:13, 13.48it/s]2018-10-27 21:25:50,080 - htmd.molecule.readers - WARNING - Non-integer values were read from the PDB \"resid\" field. Dropping PDB values and assigning new ones.\n",
      "2018-10-27 21:25:50,130 - htmd.molecule.readers - WARNING - Non-integer values were read from the PDB \"resid\" field. Dropping PDB values and assigning new ones.\n",
      "166it [00:13, 14.90it/s]2018-10-27 21:25:50,182 - htmd.molecule.readers - WARNING - Non-integer values were read from the PDB \"resid\" field. Dropping PDB values and assigning new ones.\n",
      "2018-10-27 21:25:50,233 - htmd.molecule.readers - WARNING - Non-integer values were read from the PDB \"resid\" field. Dropping PDB values and assigning new ones.\n"
     ]
    },
    {
     "name": "stdout",
     "output_type": "stream",
     "text": [
      "../data/testing_data/0165_lig_cg.pdb\n",
      "../data/testing_data/0166_lig_cg.pdb\n",
      "../data/testing_data/0167_lig_cg.pdb\n",
      "../data/testing_data/0168_lig_cg.pdb\n"
     ]
    },
    {
     "name": "stderr",
     "output_type": "stream",
     "text": [
      "168it [00:13, 15.91it/s]2018-10-27 21:25:50,287 - htmd.molecule.readers - WARNING - Non-integer values were read from the PDB \"resid\" field. Dropping PDB values and assigning new ones.\n",
      "2018-10-27 21:25:50,343 - htmd.molecule.readers - WARNING - Non-integer values were read from the PDB \"resid\" field. Dropping PDB values and assigning new ones.\n",
      "170it [00:13, 16.35it/s]2018-10-27 21:25:50,404 - htmd.molecule.readers - WARNING - Non-integer values were read from the PDB \"resid\" field. Dropping PDB values and assigning new ones.\n"
     ]
    },
    {
     "name": "stdout",
     "output_type": "stream",
     "text": [
      "../data/testing_data/0169_lig_cg.pdb\n",
      "../data/testing_data/0170_lig_cg.pdb\n",
      "../data/testing_data/0171_lig_cg.pdb\n"
     ]
    },
    {
     "name": "stderr",
     "output_type": "stream",
     "text": [
      "2018-10-27 21:25:50,526 - htmd.molecule.readers - WARNING - Non-integer values were read from the PDB \"resid\" field. Dropping PDB values and assigning new ones.\n",
      "172it [00:13, 14.49it/s]2018-10-27 21:25:50,576 - htmd.molecule.readers - WARNING - Non-integer values were read from the PDB \"resid\" field. Dropping PDB values and assigning new ones.\n",
      "2018-10-27 21:25:50,627 - htmd.molecule.readers - WARNING - Non-integer values were read from the PDB \"resid\" field. Dropping PDB values and assigning new ones.\n",
      "174it [00:13, 15.72it/s]2018-10-27 21:25:50,680 - htmd.molecule.readers - WARNING - Non-integer values were read from the PDB \"resid\" field. Dropping PDB values and assigning new ones.\n"
     ]
    },
    {
     "name": "stdout",
     "output_type": "stream",
     "text": [
      "../data/testing_data/0172_lig_cg.pdb\n",
      "../data/testing_data/0173_lig_cg.pdb\n",
      "../data/testing_data/0174_lig_cg.pdb\n",
      "../data/testing_data/0175_lig_cg.pdb\n"
     ]
    },
    {
     "name": "stderr",
     "output_type": "stream",
     "text": [
      "2018-10-27 21:25:50,735 - htmd.molecule.readers - WARNING - Non-integer values were read from the PDB \"resid\" field. Dropping PDB values and assigning new ones.\n",
      "176it [00:13, 16.39it/s]2018-10-27 21:25:50,789 - htmd.molecule.readers - WARNING - Non-integer values were read from the PDB \"resid\" field. Dropping PDB values and assigning new ones.\n",
      "2018-10-27 21:25:50,841 - htmd.molecule.readers - WARNING - Non-integer values were read from the PDB \"resid\" field. Dropping PDB values and assigning new ones.\n"
     ]
    },
    {
     "name": "stdout",
     "output_type": "stream",
     "text": [
      "../data/testing_data/0176_lig_cg.pdb\n",
      "../data/testing_data/0177_lig_cg.pdb\n",
      "../data/testing_data/0178_lig_cg.pdb\n"
     ]
    },
    {
     "name": "stderr",
     "output_type": "stream",
     "text": [
      "178it [00:14, 14.53it/s]2018-10-27 21:25:50,962 - htmd.molecule.readers - WARNING - Non-integer values were read from the PDB \"resid\" field. Dropping PDB values and assigning new ones.\n",
      "2018-10-27 21:25:51,015 - htmd.molecule.readers - WARNING - Non-integer values were read from the PDB \"resid\" field. Dropping PDB values and assigning new ones.\n",
      "180it [00:14, 15.65it/s]2018-10-27 21:25:51,069 - htmd.molecule.readers - WARNING - Non-integer values were read from the PDB \"resid\" field. Dropping PDB values and assigning new ones.\n",
      "2018-10-27 21:25:51,119 - htmd.molecule.readers - WARNING - Non-integer values were read from the PDB \"resid\" field. Dropping PDB values and assigning new ones.\n"
     ]
    },
    {
     "name": "stdout",
     "output_type": "stream",
     "text": [
      "../data/testing_data/0179_lig_cg.pdb\n",
      "../data/testing_data/0180_lig_cg.pdb\n",
      "../data/testing_data/0181_lig_cg.pdb\n",
      "../data/testing_data/0182_lig_cg.pdb\n"
     ]
    },
    {
     "name": "stderr",
     "output_type": "stream",
     "text": [
      "182it [00:14, 16.50it/s]2018-10-27 21:25:51,175 - htmd.molecule.readers - WARNING - Non-integer values were read from the PDB \"resid\" field. Dropping PDB values and assigning new ones.\n",
      "2018-10-27 21:25:51,226 - htmd.molecule.readers - WARNING - Non-integer values were read from the PDB \"resid\" field. Dropping PDB values and assigning new ones.\n",
      "184it [00:14, 17.15it/s]2018-10-27 21:25:51,278 - htmd.molecule.readers - WARNING - Non-integer values were read from the PDB \"resid\" field. Dropping PDB values and assigning new ones.\n"
     ]
    },
    {
     "name": "stdout",
     "output_type": "stream",
     "text": [
      "../data/testing_data/0183_lig_cg.pdb\n",
      "../data/testing_data/0184_lig_cg.pdb\n",
      "../data/testing_data/0185_lig_cg.pdb\n"
     ]
    },
    {
     "name": "stderr",
     "output_type": "stream",
     "text": [
      "2018-10-27 21:25:51,417 - htmd.molecule.readers - WARNING - Non-integer values were read from the PDB \"resid\" field. Dropping PDB values and assigning new ones.\n",
      "186it [00:14, 14.05it/s]2018-10-27 21:25:51,481 - htmd.molecule.readers - WARNING - Non-integer values were read from the PDB \"resid\" field. Dropping PDB values and assigning new ones.\n",
      "2018-10-27 21:25:51,533 - htmd.molecule.readers - WARNING - Non-integer values were read from the PDB \"resid\" field. Dropping PDB values and assigning new ones.\n",
      "188it [00:14, 15.28it/s]2018-10-27 21:25:51,585 - htmd.molecule.readers - WARNING - Non-integer values were read from the PDB \"resid\" field. Dropping PDB values and assigning new ones.\n"
     ]
    },
    {
     "name": "stdout",
     "output_type": "stream",
     "text": [
      "../data/testing_data/0186_lig_cg.pdb\n",
      "../data/testing_data/0187_lig_cg.pdb\n",
      "../data/testing_data/0188_lig_cg.pdb\n",
      "../data/testing_data/0189_lig_cg.pdb\n"
     ]
    },
    {
     "name": "stderr",
     "output_type": "stream",
     "text": [
      "2018-10-27 21:25:51,640 - htmd.molecule.readers - WARNING - Non-integer values were read from the PDB \"resid\" field. Dropping PDB values and assigning new ones.\n",
      "190it [00:14, 16.11it/s]2018-10-27 21:25:51,694 - htmd.molecule.readers - WARNING - Non-integer values were read from the PDB \"resid\" field. Dropping PDB values and assigning new ones.\n",
      "2018-10-27 21:25:51,748 - htmd.molecule.readers - WARNING - Non-integer values were read from the PDB \"resid\" field. Dropping PDB values and assigning new ones.\n"
     ]
    },
    {
     "name": "stdout",
     "output_type": "stream",
     "text": [
      "../data/testing_data/0190_lig_cg.pdb\n",
      "../data/testing_data/0191_lig_cg.pdb\n",
      "../data/testing_data/0192_lig_cg.pdb\n"
     ]
    },
    {
     "name": "stderr",
     "output_type": "stream",
     "text": [
      "192it [00:14, 14.32it/s]2018-10-27 21:25:51,872 - htmd.molecule.readers - WARNING - Non-integer values were read from the PDB \"resid\" field. Dropping PDB values and assigning new ones.\n",
      "2018-10-27 21:25:51,928 - htmd.molecule.readers - WARNING - Non-integer values were read from the PDB \"resid\" field. Dropping PDB values and assigning new ones.\n",
      "194it [00:15, 15.25it/s]2018-10-27 21:25:51,982 - htmd.molecule.readers - WARNING - Non-integer values were read from the PDB \"resid\" field. Dropping PDB values and assigning new ones.\n",
      "2018-10-27 21:25:52,050 - htmd.molecule.readers - WARNING - Non-integer values were read from the PDB \"resid\" field. Dropping PDB values and assigning new ones.\n"
     ]
    },
    {
     "name": "stdout",
     "output_type": "stream",
     "text": [
      "../data/testing_data/0193_lig_cg.pdb\n",
      "../data/testing_data/0194_lig_cg.pdb\n",
      "../data/testing_data/0195_lig_cg.pdb\n",
      "../data/testing_data/0196_lig_cg.pdb\n"
     ]
    },
    {
     "name": "stderr",
     "output_type": "stream",
     "text": [
      "196it [00:15, 14.38it/s]2018-10-27 21:25:52,148 - htmd.molecule.readers - WARNING - Non-integer values were read from the PDB \"resid\" field. Dropping PDB values and assigning new ones.\n",
      "2018-10-27 21:25:52,200 - htmd.molecule.readers - WARNING - Non-integer values were read from the PDB \"resid\" field. Dropping PDB values and assigning new ones.\n",
      "198it [00:15, 12.98it/s]"
     ]
    },
    {
     "name": "stdout",
     "output_type": "stream",
     "text": [
      "../data/testing_data/0197_lig_cg.pdb\n",
      "../data/testing_data/0198_lig_cg.pdb\n",
      "../data/testing_data/0199_lig_cg.pdb\n"
     ]
    },
    {
     "name": "stderr",
     "output_type": "stream",
     "text": [
      "2018-10-27 21:25:52,330 - htmd.molecule.readers - WARNING - Non-integer values were read from the PDB \"resid\" field. Dropping PDB values and assigning new ones.\n",
      "2018-10-27 21:25:52,382 - htmd.molecule.readers - WARNING - Non-integer values were read from the PDB \"resid\" field. Dropping PDB values and assigning new ones.\n",
      "200it [00:15, 14.33it/s]2018-10-27 21:25:52,434 - htmd.molecule.readers - WARNING - Non-integer values were read from the PDB \"resid\" field. Dropping PDB values and assigning new ones.\n",
      "2018-10-27 21:25:52,489 - htmd.molecule.readers - WARNING - Non-integer values were read from the PDB \"resid\" field. Dropping PDB values and assigning new ones.\n",
      "202it [00:15, 14.52it/s]"
     ]
    },
    {
     "name": "stdout",
     "output_type": "stream",
     "text": [
      "../data/testing_data/0200_lig_cg.pdb\n",
      "../data/testing_data/0201_lig_cg.pdb\n",
      "../data/testing_data/0202_lig_cg.pdb\n",
      "../data/testing_data/0203_lig_cg.pdb\n"
     ]
    },
    {
     "name": "stderr",
     "output_type": "stream",
     "text": [
      "2018-10-27 21:25:52,579 - htmd.molecule.readers - WARNING - Non-integer values were read from the PDB \"resid\" field. Dropping PDB values and assigning new ones.\n",
      "2018-10-27 21:25:52,630 - htmd.molecule.readers - WARNING - Non-integer values were read from the PDB \"resid\" field. Dropping PDB values and assigning new ones.\n",
      "204it [00:15, 15.27it/s]2018-10-27 21:25:52,683 - htmd.molecule.readers - WARNING - Non-integer values were read from the PDB \"resid\" field. Dropping PDB values and assigning new ones.\n",
      "2018-10-27 21:25:52,802 - htmd.molecule.readers - WARNING - Non-integer values were read from the PDB \"resid\" field. Dropping PDB values and assigning new ones.\n"
     ]
    },
    {
     "name": "stdout",
     "output_type": "stream",
     "text": [
      "../data/testing_data/0204_lig_cg.pdb\n",
      "../data/testing_data/0205_lig_cg.pdb\n",
      "../data/testing_data/0206_lig_cg.pdb\n"
     ]
    },
    {
     "name": "stderr",
     "output_type": "stream",
     "text": [
      "206it [00:15, 13.99it/s]2018-10-27 21:25:52,852 - htmd.molecule.readers - WARNING - Non-integer values were read from the PDB \"resid\" field. Dropping PDB values and assigning new ones.\n",
      "2018-10-27 21:25:52,904 - htmd.molecule.readers - WARNING - Non-integer values were read from the PDB \"resid\" field. Dropping PDB values and assigning new ones.\n",
      "208it [00:16, 15.28it/s]2018-10-27 21:25:52,955 - htmd.molecule.readers - WARNING - Non-integer values were read from the PDB \"resid\" field. Dropping PDB values and assigning new ones.\n",
      "2018-10-27 21:25:53,010 - htmd.molecule.readers - WARNING - Non-integer values were read from the PDB \"resid\" field. Dropping PDB values and assigning new ones.\n"
     ]
    },
    {
     "name": "stdout",
     "output_type": "stream",
     "text": [
      "../data/testing_data/0207_lig_cg.pdb\n",
      "../data/testing_data/0208_lig_cg.pdb\n",
      "../data/testing_data/0209_lig_cg.pdb\n",
      "../data/testing_data/0210_lig_cg.pdb\n"
     ]
    },
    {
     "name": "stderr",
     "output_type": "stream",
     "text": [
      "210it [00:16, 16.07it/s]2018-10-27 21:25:53,066 - htmd.molecule.readers - WARNING - Non-integer values were read from the PDB \"resid\" field. Dropping PDB values and assigning new ones.\n",
      "2018-10-27 21:25:53,121 - htmd.molecule.readers - WARNING - Non-integer values were read from the PDB \"resid\" field. Dropping PDB values and assigning new ones.\n",
      "212it [00:16, 14.19it/s]2018-10-27 21:25:53,244 - htmd.molecule.readers - WARNING - Non-integer values were read from the PDB \"resid\" field. Dropping PDB values and assigning new ones.\n"
     ]
    },
    {
     "name": "stdout",
     "output_type": "stream",
     "text": [
      "../data/testing_data/0211_lig_cg.pdb\n",
      "../data/testing_data/0212_lig_cg.pdb\n",
      "../data/testing_data/0213_lig_cg.pdb\n"
     ]
    },
    {
     "name": "stderr",
     "output_type": "stream",
     "text": [
      "2018-10-27 21:25:53,295 - htmd.molecule.readers - WARNING - Non-integer values were read from the PDB \"resid\" field. Dropping PDB values and assigning new ones.\n",
      "214it [00:16, 15.43it/s]2018-10-27 21:25:53,346 - htmd.molecule.readers - WARNING - Non-integer values were read from the PDB \"resid\" field. Dropping PDB values and assigning new ones.\n",
      "2018-10-27 21:25:53,396 - htmd.molecule.readers - WARNING - Non-integer values were read from the PDB \"resid\" field. Dropping PDB values and assigning new ones.\n",
      "216it [00:16, 16.56it/s]2018-10-27 21:25:53,447 - htmd.molecule.readers - WARNING - Non-integer values were read from the PDB \"resid\" field. Dropping PDB values and assigning new ones.\n"
     ]
    },
    {
     "name": "stdout",
     "output_type": "stream",
     "text": [
      "../data/testing_data/0214_lig_cg.pdb\n",
      "../data/testing_data/0215_lig_cg.pdb\n",
      "../data/testing_data/0216_lig_cg.pdb\n",
      "../data/testing_data/0217_lig_cg.pdb\n"
     ]
    },
    {
     "name": "stderr",
     "output_type": "stream",
     "text": [
      "2018-10-27 21:25:53,498 - htmd.molecule.readers - WARNING - Non-integer values were read from the PDB \"resid\" field. Dropping PDB values and assigning new ones.\n",
      "218it [00:16, 17.34it/s]2018-10-27 21:25:53,553 - htmd.molecule.readers - WARNING - Non-integer values were read from the PDB \"resid\" field. Dropping PDB values and assigning new ones.\n",
      "2018-10-27 21:25:53,676 - htmd.molecule.readers - WARNING - Non-integer values were read from the PDB \"resid\" field. Dropping PDB values and assigning new ones.\n"
     ]
    },
    {
     "name": "stdout",
     "output_type": "stream",
     "text": [
      "../data/testing_data/0218_lig_cg.pdb\n",
      "../data/testing_data/0219_lig_cg.pdb\n",
      "../data/testing_data/0220_lig_cg.pdb\n"
     ]
    },
    {
     "name": "stderr",
     "output_type": "stream",
     "text": [
      "220it [00:16, 14.62it/s]2018-10-27 21:25:53,742 - htmd.molecule.readers - WARNING - Non-integer values were read from the PDB \"resid\" field. Dropping PDB values and assigning new ones.\n",
      "2018-10-27 21:25:53,809 - htmd.molecule.readers - WARNING - Non-integer values were read from the PDB \"resid\" field. Dropping PDB values and assigning new ones.\n",
      "222it [00:16, 14.98it/s]2018-10-27 21:25:53,864 - htmd.molecule.readers - WARNING - Non-integer values were read from the PDB \"resid\" field. Dropping PDB values and assigning new ones.\n",
      "2018-10-27 21:25:53,916 - htmd.molecule.readers - WARNING - Non-integer values were read from the PDB \"resid\" field. Dropping PDB values and assigning new ones.\n"
     ]
    },
    {
     "name": "stdout",
     "output_type": "stream",
     "text": [
      "../data/testing_data/0221_lig_cg.pdb\n",
      "../data/testing_data/0222_lig_cg.pdb\n",
      "../data/testing_data/0223_lig_cg.pdb\n",
      "../data/testing_data/0224_lig_cg.pdb\n"
     ]
    },
    {
     "name": "stderr",
     "output_type": "stream",
     "text": [
      "224it [00:17, 16.03it/s]2018-10-27 21:25:53,968 - htmd.molecule.readers - WARNING - Non-integer values were read from the PDB \"resid\" field. Dropping PDB values and assigning new ones.\n",
      "2018-10-27 21:25:54,019 - htmd.molecule.readers - WARNING - Non-integer values were read from the PDB \"resid\" field. Dropping PDB values and assigning new ones.\n",
      "226it [00:17, 14.38it/s]2018-10-27 21:25:54,142 - htmd.molecule.readers - WARNING - Non-integer values were read from the PDB \"resid\" field. Dropping PDB values and assigning new ones.\n"
     ]
    },
    {
     "name": "stdout",
     "output_type": "stream",
     "text": [
      "../data/testing_data/0225_lig_cg.pdb\n",
      "../data/testing_data/0226_lig_cg.pdb\n",
      "../data/testing_data/0227_lig_cg.pdb\n"
     ]
    },
    {
     "name": "stderr",
     "output_type": "stream",
     "text": [
      "2018-10-27 21:25:54,193 - htmd.molecule.readers - WARNING - Non-integer values were read from the PDB \"resid\" field. Dropping PDB values and assigning new ones.\n",
      "228it [00:17, 15.52it/s]2018-10-27 21:25:54,245 - htmd.molecule.readers - WARNING - Non-integer values were read from the PDB \"resid\" field. Dropping PDB values and assigning new ones.\n",
      "2018-10-27 21:25:54,296 - htmd.molecule.readers - WARNING - Non-integer values were read from the PDB \"resid\" field. Dropping PDB values and assigning new ones.\n",
      "230it [00:17, 16.46it/s]2018-10-27 21:25:54,350 - htmd.molecule.readers - WARNING - Non-integer values were read from the PDB \"resid\" field. Dropping PDB values and assigning new ones.\n"
     ]
    },
    {
     "name": "stdout",
     "output_type": "stream",
     "text": [
      "../data/testing_data/0228_lig_cg.pdb\n",
      "../data/testing_data/0229_lig_cg.pdb\n",
      "../data/testing_data/0230_lig_cg.pdb\n",
      "../data/testing_data/0231_lig_cg.pdb\n"
     ]
    },
    {
     "name": "stderr",
     "output_type": "stream",
     "text": [
      "2018-10-27 21:25:54,401 - htmd.molecule.readers - WARNING - Non-integer values were read from the PDB \"resid\" field. Dropping PDB values and assigning new ones.\n",
      "232it [00:17, 17.24it/s]2018-10-27 21:25:54,452 - htmd.molecule.readers - WARNING - Non-integer values were read from the PDB \"resid\" field. Dropping PDB values and assigning new ones.\n",
      "2018-10-27 21:25:54,574 - htmd.molecule.readers - WARNING - Non-integer values were read from the PDB \"resid\" field. Dropping PDB values and assigning new ones.\n"
     ]
    },
    {
     "name": "stdout",
     "output_type": "stream",
     "text": [
      "../data/testing_data/0232_lig_cg.pdb\n",
      "../data/testing_data/0233_lig_cg.pdb\n",
      "../data/testing_data/0234_lig_cg.pdb\n"
     ]
    },
    {
     "name": "stderr",
     "output_type": "stream",
     "text": [
      "234it [00:17, 15.03it/s]2018-10-27 21:25:54,624 - htmd.molecule.readers - WARNING - Non-integer values were read from the PDB \"resid\" field. Dropping PDB values and assigning new ones.\n",
      "2018-10-27 21:25:54,677 - htmd.molecule.readers - WARNING - Non-integer values were read from the PDB \"resid\" field. Dropping PDB values and assigning new ones.\n",
      "236it [00:17, 15.74it/s]2018-10-27 21:25:54,739 - htmd.molecule.readers - WARNING - Non-integer values were read from the PDB \"resid\" field. Dropping PDB values and assigning new ones.\n",
      "2018-10-27 21:25:54,790 - htmd.molecule.readers - WARNING - Non-integer values were read from the PDB \"resid\" field. Dropping PDB values and assigning new ones.\n"
     ]
    },
    {
     "name": "stdout",
     "output_type": "stream",
     "text": [
      "../data/testing_data/0235_lig_cg.pdb\n",
      "../data/testing_data/0236_lig_cg.pdb\n",
      "../data/testing_data/0237_lig_cg.pdb\n",
      "../data/testing_data/0238_lig_cg.pdb\n"
     ]
    },
    {
     "name": "stderr",
     "output_type": "stream",
     "text": [
      "238it [00:17, 16.66it/s]2018-10-27 21:25:54,845 - htmd.molecule.readers - WARNING - Non-integer values were read from the PDB \"resid\" field. Dropping PDB values and assigning new ones.\n",
      "2018-10-27 21:25:54,914 - htmd.molecule.readers - WARNING - Non-integer values were read from the PDB \"resid\" field. Dropping PDB values and assigning new ones.\n"
     ]
    },
    {
     "name": "stdout",
     "output_type": "stream",
     "text": [
      "../data/testing_data/0239_lig_cg.pdb\n",
      "../data/testing_data/0240_lig_cg.pdb\n"
     ]
    },
    {
     "name": "stderr",
     "output_type": "stream",
     "text": [
      "240it [00:18, 13.43it/s]2018-10-27 21:25:55,072 - htmd.molecule.readers - WARNING - Non-integer values were read from the PDB \"resid\" field. Dropping PDB values and assigning new ones.\n",
      "2018-10-27 21:25:55,140 - htmd.molecule.readers - WARNING - Non-integer values were read from the PDB \"resid\" field. Dropping PDB values and assigning new ones.\n",
      "242it [00:18, 13.80it/s]2018-10-27 21:25:55,196 - htmd.molecule.readers - WARNING - Non-integer values were read from the PDB \"resid\" field. Dropping PDB values and assigning new ones.\n"
     ]
    },
    {
     "name": "stdout",
     "output_type": "stream",
     "text": [
      "../data/testing_data/0241_lig_cg.pdb\n",
      "../data/testing_data/0242_lig_cg.pdb\n",
      "../data/testing_data/0243_lig_cg.pdb\n"
     ]
    },
    {
     "name": "stderr",
     "output_type": "stream",
     "text": [
      "2018-10-27 21:25:55,266 - htmd.molecule.readers - WARNING - Non-integer values were read from the PDB \"resid\" field. Dropping PDB values and assigning new ones.\n",
      "244it [00:18, 14.06it/s]2018-10-27 21:25:55,339 - htmd.molecule.readers - WARNING - Non-integer values were read from the PDB \"resid\" field. Dropping PDB values and assigning new ones.\n",
      "2018-10-27 21:25:55,411 - htmd.molecule.readers - WARNING - Non-integer values were read from the PDB \"resid\" field. Dropping PDB values and assigning new ones.\n"
     ]
    },
    {
     "name": "stdout",
     "output_type": "stream",
     "text": [
      "../data/testing_data/0244_lig_cg.pdb\n",
      "../data/testing_data/0245_lig_cg.pdb\n",
      "../data/testing_data/0246_lig_cg.pdb\n"
     ]
    },
    {
     "name": "stderr",
     "output_type": "stream",
     "text": [
      "246it [00:18, 13.95it/s]2018-10-27 21:25:55,477 - htmd.molecule.readers - WARNING - Non-integer values were read from the PDB \"resid\" field. Dropping PDB values and assigning new ones.\n",
      "2018-10-27 21:25:55,596 - htmd.molecule.readers - WARNING - Non-integer values were read from the PDB \"resid\" field. Dropping PDB values and assigning new ones.\n",
      "248it [00:18, 13.18it/s]2018-10-27 21:25:55,647 - htmd.molecule.readers - WARNING - Non-integer values were read from the PDB \"resid\" field. Dropping PDB values and assigning new ones.\n"
     ]
    },
    {
     "name": "stdout",
     "output_type": "stream",
     "text": [
      "../data/testing_data/0247_lig_cg.pdb\n",
      "../data/testing_data/0248_lig_cg.pdb\n",
      "../data/testing_data/0249_lig_cg.pdb\n"
     ]
    },
    {
     "name": "stderr",
     "output_type": "stream",
     "text": [
      "2018-10-27 21:25:55,698 - htmd.molecule.readers - WARNING - Non-integer values were read from the PDB \"resid\" field. Dropping PDB values and assigning new ones.\n",
      "250it [00:18, 14.63it/s]2018-10-27 21:25:55,754 - htmd.molecule.readers - WARNING - Non-integer values were read from the PDB \"resid\" field. Dropping PDB values and assigning new ones.\n",
      "2018-10-27 21:25:55,805 - htmd.molecule.readers - WARNING - Non-integer values were read from the PDB \"resid\" field. Dropping PDB values and assigning new ones.\n",
      "252it [00:18, 15.61it/s]2018-10-27 21:25:55,857 - htmd.molecule.readers - WARNING - Non-integer values were read from the PDB \"resid\" field. Dropping PDB values and assigning new ones.\n"
     ]
    },
    {
     "name": "stdout",
     "output_type": "stream",
     "text": [
      "../data/testing_data/0250_lig_cg.pdb\n",
      "../data/testing_data/0251_lig_cg.pdb\n",
      "../data/testing_data/0252_lig_cg.pdb\n",
      "../data/testing_data/0253_lig_cg.pdb\n"
     ]
    },
    {
     "name": "stderr",
     "output_type": "stream",
     "text": [
      "2018-10-27 21:25:55,977 - htmd.molecule.readers - WARNING - Non-integer values were read from the PDB \"resid\" field. Dropping PDB values and assigning new ones.\n",
      "254it [00:19, 14.15it/s]2018-10-27 21:25:56,029 - htmd.molecule.readers - WARNING - Non-integer values were read from the PDB \"resid\" field. Dropping PDB values and assigning new ones.\n",
      "2018-10-27 21:25:56,080 - htmd.molecule.readers - WARNING - Non-integer values were read from the PDB \"resid\" field. Dropping PDB values and assigning new ones.\n",
      "256it [00:19, 15.38it/s]2018-10-27 21:25:56,132 - htmd.molecule.readers - WARNING - Non-integer values were read from the PDB \"resid\" field. Dropping PDB values and assigning new ones.\n"
     ]
    },
    {
     "name": "stdout",
     "output_type": "stream",
     "text": [
      "../data/testing_data/0254_lig_cg.pdb\n",
      "../data/testing_data/0255_lig_cg.pdb\n",
      "../data/testing_data/0256_lig_cg.pdb\n",
      "../data/testing_data/0257_lig_cg.pdb\n"
     ]
    },
    {
     "name": "stderr",
     "output_type": "stream",
     "text": [
      "2018-10-27 21:25:56,184 - htmd.molecule.readers - WARNING - Non-integer values were read from the PDB \"resid\" field. Dropping PDB values and assigning new ones.\n",
      "258it [00:19, 16.45it/s]2018-10-27 21:25:56,235 - htmd.molecule.readers - WARNING - Non-integer values were read from the PDB \"resid\" field. Dropping PDB values and assigning new ones.\n",
      "2018-10-27 21:25:56,290 - htmd.molecule.readers - WARNING - Non-integer values were read from the PDB \"resid\" field. Dropping PDB values and assigning new ones.\n"
     ]
    },
    {
     "name": "stdout",
     "output_type": "stream",
     "text": [
      "../data/testing_data/0258_lig_cg.pdb\n",
      "../data/testing_data/0259_lig_cg.pdb\n",
      "../data/testing_data/0260_lig_cg.pdb\n"
     ]
    },
    {
     "name": "stderr",
     "output_type": "stream",
     "text": [
      "260it [00:19, 14.13it/s]2018-10-27 21:25:56,422 - htmd.molecule.readers - WARNING - Non-integer values were read from the PDB \"resid\" field. Dropping PDB values and assigning new ones.\n",
      "2018-10-27 21:25:56,473 - htmd.molecule.readers - WARNING - Non-integer values were read from the PDB \"resid\" field. Dropping PDB values and assigning new ones.\n",
      "262it [00:19, 15.41it/s]2018-10-27 21:25:56,525 - htmd.molecule.readers - WARNING - Non-integer values were read from the PDB \"resid\" field. Dropping PDB values and assigning new ones.\n",
      "2018-10-27 21:25:56,577 - htmd.molecule.readers - WARNING - Non-integer values were read from the PDB \"resid\" field. Dropping PDB values and assigning new ones.\n"
     ]
    },
    {
     "name": "stdout",
     "output_type": "stream",
     "text": [
      "../data/testing_data/0261_lig_cg.pdb\n",
      "../data/testing_data/0262_lig_cg.pdb\n",
      "../data/testing_data/0263_lig_cg.pdb\n",
      "../data/testing_data/0264_lig_cg.pdb\n"
     ]
    },
    {
     "name": "stderr",
     "output_type": "stream",
     "text": [
      "264it [00:19, 16.34it/s]2018-10-27 21:25:56,630 - htmd.molecule.readers - WARNING - Non-integer values were read from the PDB \"resid\" field. Dropping PDB values and assigning new ones.\n",
      "2018-10-27 21:25:56,682 - htmd.molecule.readers - WARNING - Non-integer values were read from the PDB \"resid\" field. Dropping PDB values and assigning new ones.\n",
      "266it [00:19, 17.13it/s]2018-10-27 21:25:56,735 - htmd.molecule.readers - WARNING - Non-integer values were read from the PDB \"resid\" field. Dropping PDB values and assigning new ones.\n"
     ]
    },
    {
     "name": "stdout",
     "output_type": "stream",
     "text": [
      "../data/testing_data/0265_lig_cg.pdb\n",
      "../data/testing_data/0266_lig_cg.pdb\n",
      "../data/testing_data/0267_lig_cg.pdb\n"
     ]
    },
    {
     "name": "stderr",
     "output_type": "stream",
     "text": [
      "2018-10-27 21:25:56,855 - htmd.molecule.readers - WARNING - Non-integer values were read from the PDB \"resid\" field. Dropping PDB values and assigning new ones.\n",
      "268it [00:20, 14.97it/s]2018-10-27 21:25:56,907 - htmd.molecule.readers - WARNING - Non-integer values were read from the PDB \"resid\" field. Dropping PDB values and assigning new ones.\n",
      "2018-10-27 21:25:56,958 - htmd.molecule.readers - WARNING - Non-integer values were read from the PDB \"resid\" field. Dropping PDB values and assigning new ones.\n",
      "270it [00:20, 16.05it/s]2018-10-27 21:25:57,011 - htmd.molecule.readers - WARNING - Non-integer values were read from the PDB \"resid\" field. Dropping PDB values and assigning new ones.\n"
     ]
    },
    {
     "name": "stdout",
     "output_type": "stream",
     "text": [
      "../data/testing_data/0268_lig_cg.pdb\n",
      "../data/testing_data/0269_lig_cg.pdb\n",
      "../data/testing_data/0270_lig_cg.pdb\n",
      "../data/testing_data/0271_lig_cg.pdb\n"
     ]
    },
    {
     "name": "stderr",
     "output_type": "stream",
     "text": [
      "2018-10-27 21:25:57,064 - htmd.molecule.readers - WARNING - Non-integer values were read from the PDB \"resid\" field. Dropping PDB values and assigning new ones.\n",
      "272it [00:20, 16.74it/s]2018-10-27 21:25:57,118 - htmd.molecule.readers - WARNING - Non-integer values were read from the PDB \"resid\" field. Dropping PDB values and assigning new ones.\n",
      "2018-10-27 21:25:57,170 - htmd.molecule.readers - WARNING - Non-integer values were read from the PDB \"resid\" field. Dropping PDB values and assigning new ones.\n"
     ]
    },
    {
     "name": "stdout",
     "output_type": "stream",
     "text": [
      "../data/testing_data/0272_lig_cg.pdb\n",
      "../data/testing_data/0273_lig_cg.pdb\n",
      "../data/testing_data/0274_lig_cg.pdb\n"
     ]
    },
    {
     "name": "stderr",
     "output_type": "stream",
     "text": [
      "274it [00:20, 14.76it/s]2018-10-27 21:25:57,290 - htmd.molecule.readers - WARNING - Non-integer values were read from the PDB \"resid\" field. Dropping PDB values and assigning new ones.\n",
      "2018-10-27 21:25:57,340 - htmd.molecule.readers - WARNING - Non-integer values were read from the PDB \"resid\" field. Dropping PDB values and assigning new ones.\n",
      "276it [00:20, 15.99it/s]2018-10-27 21:25:57,392 - htmd.molecule.readers - WARNING - Non-integer values were read from the PDB \"resid\" field. Dropping PDB values and assigning new ones.\n",
      "2018-10-27 21:25:57,443 - htmd.molecule.readers - WARNING - Non-integer values were read from the PDB \"resid\" field. Dropping PDB values and assigning new ones.\n"
     ]
    },
    {
     "name": "stdout",
     "output_type": "stream",
     "text": [
      "../data/testing_data/0275_lig_cg.pdb\n",
      "../data/testing_data/0276_lig_cg.pdb\n",
      "../data/testing_data/0277_lig_cg.pdb\n",
      "../data/testing_data/0278_lig_cg.pdb\n"
     ]
    },
    {
     "name": "stderr",
     "output_type": "stream",
     "text": [
      "278it [00:20, 16.73it/s]2018-10-27 21:25:57,497 - htmd.molecule.readers - WARNING - Non-integer values were read from the PDB \"resid\" field. Dropping PDB values and assigning new ones.\n",
      "2018-10-27 21:25:57,547 - htmd.molecule.readers - WARNING - Non-integer values were read from the PDB \"resid\" field. Dropping PDB values and assigning new ones.\n",
      "280it [00:20, 14.77it/s]2018-10-27 21:25:57,670 - htmd.molecule.readers - WARNING - Non-integer values were read from the PDB \"resid\" field. Dropping PDB values and assigning new ones.\n"
     ]
    },
    {
     "name": "stdout",
     "output_type": "stream",
     "text": [
      "../data/testing_data/0279_lig_cg.pdb\n",
      "../data/testing_data/0280_lig_cg.pdb\n",
      "../data/testing_data/0281_lig_cg.pdb\n"
     ]
    },
    {
     "name": "stderr",
     "output_type": "stream",
     "text": [
      "2018-10-27 21:25:57,720 - htmd.molecule.readers - WARNING - Non-integer values were read from the PDB \"resid\" field. Dropping PDB values and assigning new ones.\n",
      "282it [00:20, 15.93it/s]2018-10-27 21:25:57,774 - htmd.molecule.readers - WARNING - Non-integer values were read from the PDB \"resid\" field. Dropping PDB values and assigning new ones.\n",
      "2018-10-27 21:25:57,825 - htmd.molecule.readers - WARNING - Non-integer values were read from the PDB \"resid\" field. Dropping PDB values and assigning new ones.\n",
      "284it [00:20, 16.78it/s]2018-10-27 21:25:57,877 - htmd.molecule.readers - WARNING - Non-integer values were read from the PDB \"resid\" field. Dropping PDB values and assigning new ones.\n"
     ]
    },
    {
     "name": "stdout",
     "output_type": "stream",
     "text": [
      "../data/testing_data/0282_lig_cg.pdb\n",
      "../data/testing_data/0283_lig_cg.pdb\n",
      "../data/testing_data/0284_lig_cg.pdb\n",
      "../data/testing_data/0285_lig_cg.pdb\n"
     ]
    },
    {
     "name": "stderr",
     "output_type": "stream",
     "text": [
      "2018-10-27 21:25:57,932 - htmd.molecule.readers - WARNING - Non-integer values were read from the PDB \"resid\" field. Dropping PDB values and assigning new ones.\n",
      "286it [00:21, 17.30it/s]2018-10-27 21:25:57,985 - htmd.molecule.readers - WARNING - Non-integer values were read from the PDB \"resid\" field. Dropping PDB values and assigning new ones.\n"
     ]
    },
    {
     "name": "stdout",
     "output_type": "stream",
     "text": [
      "../data/testing_data/0286_lig_cg.pdb\n",
      "../data/testing_data/0287_lig_cg.pdb\n",
      "../data/testing_data/0288_lig_cg.pdb\n"
     ]
    },
    {
     "name": "stderr",
     "output_type": "stream",
     "text": [
      "2018-10-27 21:25:58,125 - htmd.molecule.readers - WARNING - Non-integer values were read from the PDB \"resid\" field. Dropping PDB values and assigning new ones.\n",
      "288it [00:21, 14.42it/s]2018-10-27 21:25:58,177 - htmd.molecule.readers - WARNING - Non-integer values were read from the PDB \"resid\" field. Dropping PDB values and assigning new ones.\n",
      "2018-10-27 21:25:58,227 - htmd.molecule.readers - WARNING - Non-integer values were read from the PDB \"resid\" field. Dropping PDB values and assigning new ones.\n",
      "290it [00:21, 15.69it/s]2018-10-27 21:25:58,279 - htmd.molecule.readers - WARNING - Non-integer values were read from the PDB \"resid\" field. Dropping PDB values and assigning new ones.\n",
      "2018-10-27 21:25:58,330 - htmd.molecule.readers - WARNING - Non-integer values were read from the PDB \"resid\" field. Dropping PDB values and assigning new ones.\n"
     ]
    },
    {
     "name": "stdout",
     "output_type": "stream",
     "text": [
      "../data/testing_data/0289_lig_cg.pdb\n",
      "../data/testing_data/0290_lig_cg.pdb\n",
      "../data/testing_data/0291_lig_cg.pdb\n",
      "../data/testing_data/0292_lig_cg.pdb\n"
     ]
    },
    {
     "name": "stderr",
     "output_type": "stream",
     "text": [
      "292it [00:21, 16.49it/s]2018-10-27 21:25:58,387 - htmd.molecule.readers - WARNING - Non-integer values were read from the PDB \"resid\" field. Dropping PDB values and assigning new ones.\n",
      "2018-10-27 21:25:58,440 - htmd.molecule.readers - WARNING - Non-integer values were read from the PDB \"resid\" field. Dropping PDB values and assigning new ones.\n",
      "294it [00:21, 14.55it/s]"
     ]
    },
    {
     "name": "stdout",
     "output_type": "stream",
     "text": [
      "../data/testing_data/0293_lig_cg.pdb\n",
      "../data/testing_data/0294_lig_cg.pdb\n",
      "../data/testing_data/0295_lig_cg.pdb\n"
     ]
    },
    {
     "name": "stderr",
     "output_type": "stream",
     "text": [
      "2018-10-27 21:25:58,574 - htmd.molecule.readers - WARNING - Non-integer values were read from the PDB \"resid\" field. Dropping PDB values and assigning new ones.\n",
      "2018-10-27 21:25:58,653 - htmd.molecule.readers - WARNING - Non-integer values were read from the PDB \"resid\" field. Dropping PDB values and assigning new ones.\n",
      "296it [00:21, 13.82it/s]2018-10-27 21:25:58,730 - htmd.molecule.readers - WARNING - Non-integer values were read from the PDB \"resid\" field. Dropping PDB values and assigning new ones.\n",
      "2018-10-27 21:25:58,795 - htmd.molecule.readers - WARNING - Non-integer values were read from the PDB \"resid\" field. Dropping PDB values and assigning new ones.\n"
     ]
    },
    {
     "name": "stdout",
     "output_type": "stream",
     "text": [
      "../data/testing_data/0296_lig_cg.pdb\n",
      "../data/testing_data/0297_lig_cg.pdb\n",
      "../data/testing_data/0298_lig_cg.pdb\n"
     ]
    },
    {
     "name": "stderr",
     "output_type": "stream",
     "text": [
      "298it [00:21, 14.40it/s]2018-10-27 21:25:58,849 - htmd.molecule.readers - WARNING - Non-integer values were read from the PDB \"resid\" field. Dropping PDB values and assigning new ones.\n",
      "2018-10-27 21:25:58,898 - htmd.molecule.readers - WARNING - Non-integer values were read from the PDB \"resid\" field. Dropping PDB values and assigning new ones.\n",
      "300it [00:22, 13.45it/s]2018-10-27 21:25:59,019 - htmd.molecule.readers - WARNING - Non-integer values were read from the PDB \"resid\" field. Dropping PDB values and assigning new ones.\n"
     ]
    },
    {
     "name": "stdout",
     "output_type": "stream",
     "text": [
      "../data/testing_data/0299_lig_cg.pdb\n",
      "../data/testing_data/0300_lig_cg.pdb\n",
      "../data/testing_data/0301_lig_cg.pdb\n"
     ]
    },
    {
     "name": "stderr",
     "output_type": "stream",
     "text": [
      "2018-10-27 21:25:59,072 - htmd.molecule.readers - WARNING - Non-integer values were read from the PDB \"resid\" field. Dropping PDB values and assigning new ones.\n",
      "302it [00:22, 14.65it/s]2018-10-27 21:25:59,127 - htmd.molecule.readers - WARNING - Non-integer values were read from the PDB \"resid\" field. Dropping PDB values and assigning new ones.\n",
      "2018-10-27 21:25:59,177 - htmd.molecule.readers - WARNING - Non-integer values were read from the PDB \"resid\" field. Dropping PDB values and assigning new ones.\n",
      "304it [00:22, 15.34it/s]2018-10-27 21:25:59,249 - htmd.molecule.readers - WARNING - Non-integer values were read from the PDB \"resid\" field. Dropping PDB values and assigning new ones.\n"
     ]
    },
    {
     "name": "stdout",
     "output_type": "stream",
     "text": [
      "../data/testing_data/0302_lig_cg.pdb\n",
      "../data/testing_data/0303_lig_cg.pdb\n",
      "../data/testing_data/0304_lig_cg.pdb\n",
      "../data/testing_data/0305_lig_cg.pdb\n"
     ]
    },
    {
     "name": "stderr",
     "output_type": "stream",
     "text": [
      "2018-10-27 21:25:59,325 - htmd.molecule.readers - WARNING - Non-integer values were read from the PDB \"resid\" field. Dropping PDB values and assigning new ones.\n",
      "306it [00:22, 14.70it/s]2018-10-27 21:25:59,393 - htmd.molecule.readers - WARNING - Non-integer values were read from the PDB \"resid\" field. Dropping PDB values and assigning new ones.\n",
      "2018-10-27 21:25:59,444 - htmd.molecule.readers - WARNING - Non-integer values were read from the PDB \"resid\" field. Dropping PDB values and assigning new ones.\n"
     ]
    },
    {
     "name": "stdout",
     "output_type": "stream",
     "text": [
      "../data/testing_data/0306_lig_cg.pdb\n",
      "../data/testing_data/0307_lig_cg.pdb\n",
      "../data/testing_data/0308_lig_cg.pdb\n"
     ]
    },
    {
     "name": "stderr",
     "output_type": "stream",
     "text": [
      "308it [00:22, 13.49it/s]2018-10-27 21:25:59,575 - htmd.molecule.readers - WARNING - Non-integer values were read from the PDB \"resid\" field. Dropping PDB values and assigning new ones.\n",
      "2018-10-27 21:25:59,636 - htmd.molecule.readers - WARNING - Non-integer values were read from the PDB \"resid\" field. Dropping PDB values and assigning new ones.\n",
      "310it [00:22, 14.37it/s]2018-10-27 21:25:59,688 - htmd.molecule.readers - WARNING - Non-integer values were read from the PDB \"resid\" field. Dropping PDB values and assigning new ones.\n",
      "2018-10-27 21:25:59,741 - htmd.molecule.readers - WARNING - Non-integer values were read from the PDB \"resid\" field. Dropping PDB values and assigning new ones.\n"
     ]
    },
    {
     "name": "stdout",
     "output_type": "stream",
     "text": [
      "../data/testing_data/0309_lig_cg.pdb\n",
      "../data/testing_data/0310_lig_cg.pdb\n",
      "../data/testing_data/0311_lig_cg.pdb\n",
      "../data/testing_data/0312_lig_cg.pdb\n"
     ]
    },
    {
     "name": "stderr",
     "output_type": "stream",
     "text": [
      "312it [00:22, 15.33it/s]2018-10-27 21:25:59,803 - htmd.molecule.readers - WARNING - Non-integer values were read from the PDB \"resid\" field. Dropping PDB values and assigning new ones.\n",
      "2018-10-27 21:25:59,873 - htmd.molecule.readers - WARNING - Non-integer values were read from the PDB \"resid\" field. Dropping PDB values and assigning new ones.\n",
      "314it [00:23, 14.96it/s]2018-10-27 21:25:59,942 - htmd.molecule.readers - WARNING - Non-integer values were read from the PDB \"resid\" field. Dropping PDB values and assigning new ones.\n"
     ]
    },
    {
     "name": "stdout",
     "output_type": "stream",
     "text": [
      "../data/testing_data/0313_lig_cg.pdb\n",
      "../data/testing_data/0314_lig_cg.pdb\n",
      "../data/testing_data/0315_lig_cg.pdb\n"
     ]
    },
    {
     "name": "stderr",
     "output_type": "stream",
     "text": [
      "2018-10-27 21:26:00,072 - htmd.molecule.readers - WARNING - Non-integer values were read from the PDB \"resid\" field. Dropping PDB values and assigning new ones.\n",
      "316it [00:23, 13.35it/s]2018-10-27 21:26:00,127 - htmd.molecule.readers - WARNING - Non-integer values were read from the PDB \"resid\" field. Dropping PDB values and assigning new ones.\n",
      "2018-10-27 21:26:00,182 - htmd.molecule.readers - WARNING - Non-integer values were read from the PDB \"resid\" field. Dropping PDB values and assigning new ones.\n",
      "318it [00:23, 14.48it/s]2018-10-27 21:26:00,243 - htmd.molecule.readers - WARNING - Non-integer values were read from the PDB \"resid\" field. Dropping PDB values and assigning new ones.\n"
     ]
    },
    {
     "name": "stdout",
     "output_type": "stream",
     "text": [
      "../data/testing_data/0316_lig_cg.pdb\n",
      "../data/testing_data/0317_lig_cg.pdb\n",
      "../data/testing_data/0318_lig_cg.pdb\n",
      "../data/testing_data/0319_lig_cg.pdb\n"
     ]
    },
    {
     "name": "stderr",
     "output_type": "stream",
     "text": [
      "2018-10-27 21:26:00,311 - htmd.molecule.readers - WARNING - Non-integer values were read from the PDB \"resid\" field. Dropping PDB values and assigning new ones.\n",
      "320it [00:23, 14.47it/s]2018-10-27 21:26:00,384 - htmd.molecule.readers - WARNING - Non-integer values were read from the PDB \"resid\" field. Dropping PDB values and assigning new ones.\n",
      "2018-10-27 21:26:00,443 - htmd.molecule.readers - WARNING - Non-integer values were read from the PDB \"resid\" field. Dropping PDB values and assigning new ones.\n"
     ]
    },
    {
     "name": "stdout",
     "output_type": "stream",
     "text": [
      "../data/testing_data/0320_lig_cg.pdb\n",
      "../data/testing_data/0321_lig_cg.pdb\n",
      "../data/testing_data/0322_lig_cg.pdb\n"
     ]
    },
    {
     "name": "stderr",
     "output_type": "stream",
     "text": [
      "322it [00:23, 12.97it/s]2018-10-27 21:26:00,569 - htmd.molecule.readers - WARNING - Non-integer values were read from the PDB \"resid\" field. Dropping PDB values and assigning new ones.\n",
      "2018-10-27 21:26:00,628 - htmd.molecule.readers - WARNING - Non-integer values were read from the PDB \"resid\" field. Dropping PDB values and assigning new ones.\n",
      "324it [00:23, 13.98it/s]2018-10-27 21:26:00,691 - htmd.molecule.readers - WARNING - Non-integer values were read from the PDB \"resid\" field. Dropping PDB values and assigning new ones.\n"
     ]
    },
    {
     "name": "stdout",
     "output_type": "stream",
     "text": [
      "../data/testing_data/0323_lig_cg.pdb\n",
      "../data/testing_data/0324_lig_cg.pdb\n",
      "../data/testing_data/0325_lig_cg.pdb\n",
      "../data/testing_data/0326_lig_cg.pdb\n"
     ]
    },
    {
     "name": "stderr",
     "output_type": "stream",
     "text": [
      "2018-10-27 21:26:00,755 - htmd.molecule.readers - WARNING - Non-integer values were read from the PDB \"resid\" field. Dropping PDB values and assigning new ones.\n",
      "326it [00:23, 14.30it/s]2018-10-27 21:26:00,819 - htmd.molecule.readers - WARNING - Non-integer values were read from the PDB \"resid\" field. Dropping PDB values and assigning new ones.\n",
      "2018-10-27 21:26:00,880 - htmd.molecule.readers - WARNING - Non-integer values were read from the PDB \"resid\" field. Dropping PDB values and assigning new ones.\n",
      "328it [00:24, 14.60it/s]2018-10-27 21:26:00,950 - htmd.molecule.readers - WARNING - Non-integer values were read from the PDB \"resid\" field. Dropping PDB values and assigning new ones.\n"
     ]
    },
    {
     "name": "stdout",
     "output_type": "stream",
     "text": [
      "../data/testing_data/0327_lig_cg.pdb\n",
      "../data/testing_data/0328_lig_cg.pdb\n",
      "../data/testing_data/0329_lig_cg.pdb\n"
     ]
    },
    {
     "name": "stderr",
     "output_type": "stream",
     "text": [
      "2018-10-27 21:26:01,095 - htmd.molecule.readers - WARNING - Non-integer values were read from the PDB \"resid\" field. Dropping PDB values and assigning new ones.\n",
      "330it [00:24, 12.60it/s]2018-10-27 21:26:01,161 - htmd.molecule.readers - WARNING - Non-integer values were read from the PDB \"resid\" field. Dropping PDB values and assigning new ones.\n",
      "2018-10-27 21:26:01,227 - htmd.molecule.readers - WARNING - Non-integer values were read from the PDB \"resid\" field. Dropping PDB values and assigning new ones.\n"
     ]
    },
    {
     "name": "stdout",
     "output_type": "stream",
     "text": [
      "../data/testing_data/0330_lig_cg.pdb\n",
      "../data/testing_data/0331_lig_cg.pdb\n",
      "../data/testing_data/0332_lig_cg.pdb\n"
     ]
    },
    {
     "name": "stderr",
     "output_type": "stream",
     "text": [
      "332it [00:24, 13.17it/s]2018-10-27 21:26:01,299 - htmd.molecule.readers - WARNING - Non-integer values were read from the PDB \"resid\" field. Dropping PDB values and assigning new ones.\n",
      "2018-10-27 21:26:01,354 - htmd.molecule.readers - WARNING - Non-integer values were read from the PDB \"resid\" field. Dropping PDB values and assigning new ones.\n",
      "334it [00:24, 14.27it/s]2018-10-27 21:26:01,408 - htmd.molecule.readers - WARNING - Non-integer values were read from the PDB \"resid\" field. Dropping PDB values and assigning new ones.\n"
     ]
    },
    {
     "name": "stdout",
     "output_type": "stream",
     "text": [
      "../data/testing_data/0333_lig_cg.pdb\n",
      "../data/testing_data/0334_lig_cg.pdb\n",
      "../data/testing_data/0335_lig_cg.pdb\n"
     ]
    },
    {
     "name": "stderr",
     "output_type": "stream",
     "text": [
      "2018-10-27 21:26:01,542 - htmd.molecule.readers - WARNING - Non-integer values were read from the PDB \"resid\" field. Dropping PDB values and assigning new ones.\n",
      "336it [00:24, 12.68it/s]2018-10-27 21:26:01,610 - htmd.molecule.readers - WARNING - Non-integer values were read from the PDB \"resid\" field. Dropping PDB values and assigning new ones.\n",
      "2018-10-27 21:26:01,674 - htmd.molecule.readers - WARNING - Non-integer values were read from the PDB \"resid\" field. Dropping PDB values and assigning new ones.\n",
      "338it [00:24, 13.55it/s]"
     ]
    },
    {
     "name": "stdout",
     "output_type": "stream",
     "text": [
      "../data/testing_data/0336_lig_cg.pdb\n",
      "../data/testing_data/0337_lig_cg.pdb\n",
      "../data/testing_data/0338_lig_cg.pdb\n",
      "../data/testing_data/0339_lig_cg.pdb\n"
     ]
    },
    {
     "name": "stderr",
     "output_type": "stream",
     "text": [
      "2018-10-27 21:26:01,729 - htmd.molecule.readers - WARNING - Non-integer values were read from the PDB \"resid\" field. Dropping PDB values and assigning new ones.\n",
      "2018-10-27 21:26:01,788 - htmd.molecule.readers - WARNING - Non-integer values were read from the PDB \"resid\" field. Dropping PDB values and assigning new ones.\n",
      "340it [00:24, 14.18it/s]2018-10-27 21:26:01,860 - htmd.molecule.readers - WARNING - Non-integer values were read from the PDB \"resid\" field. Dropping PDB values and assigning new ones.\n",
      "2018-10-27 21:26:01,931 - htmd.molecule.readers - WARNING - Non-integer values were read from the PDB \"resid\" field. Dropping PDB values and assigning new ones.\n"
     ]
    },
    {
     "name": "stdout",
     "output_type": "stream",
     "text": [
      "../data/testing_data/0340_lig_cg.pdb\n",
      "../data/testing_data/0341_lig_cg.pdb\n",
      "../data/testing_data/0342_lig_cg.pdb\n"
     ]
    },
    {
     "name": "stderr",
     "output_type": "stream",
     "text": [
      "342it [00:25, 12.33it/s]2018-10-27 21:26:02,064 - htmd.molecule.readers - WARNING - Non-integer values were read from the PDB \"resid\" field. Dropping PDB values and assigning new ones.\n",
      "2018-10-27 21:26:02,116 - htmd.molecule.readers - WARNING - Non-integer values were read from the PDB \"resid\" field. Dropping PDB values and assigning new ones.\n",
      "344it [00:25, 13.82it/s]2018-10-27 21:26:02,168 - htmd.molecule.readers - WARNING - Non-integer values were read from the PDB \"resid\" field. Dropping PDB values and assigning new ones.\n",
      "2018-10-27 21:26:02,218 - htmd.molecule.readers - WARNING - Non-integer values were read from the PDB \"resid\" field. Dropping PDB values and assigning new ones.\n"
     ]
    },
    {
     "name": "stdout",
     "output_type": "stream",
     "text": [
      "../data/testing_data/0343_lig_cg.pdb\n",
      "../data/testing_data/0344_lig_cg.pdb\n",
      "../data/testing_data/0345_lig_cg.pdb\n",
      "../data/testing_data/0346_lig_cg.pdb\n"
     ]
    },
    {
     "name": "stderr",
     "output_type": "stream",
     "text": [
      "346it [00:25, 15.18it/s]2018-10-27 21:26:02,272 - htmd.molecule.readers - WARNING - Non-integer values were read from the PDB \"resid\" field. Dropping PDB values and assigning new ones.\n",
      "2018-10-27 21:26:02,326 - htmd.molecule.readers - WARNING - Non-integer values were read from the PDB \"resid\" field. Dropping PDB values and assigning new ones.\n",
      "348it [00:25, 16.04it/s]2018-10-27 21:26:02,378 - htmd.molecule.readers - WARNING - Non-integer values were read from the PDB \"resid\" field. Dropping PDB values and assigning new ones.\n"
     ]
    },
    {
     "name": "stdout",
     "output_type": "stream",
     "text": [
      "../data/testing_data/0347_lig_cg.pdb\n",
      "../data/testing_data/0348_lig_cg.pdb\n",
      "../data/testing_data/0349_lig_cg.pdb\n"
     ]
    },
    {
     "name": "stderr",
     "output_type": "stream",
     "text": [
      "2018-10-27 21:26:02,517 - htmd.molecule.readers - WARNING - Non-integer values were read from the PDB \"resid\" field. Dropping PDB values and assigning new ones.\n",
      "350it [00:25, 13.58it/s]2018-10-27 21:26:02,582 - htmd.molecule.readers - WARNING - Non-integer values were read from the PDB \"resid\" field. Dropping PDB values and assigning new ones.\n",
      "2018-10-27 21:26:02,658 - htmd.molecule.readers - WARNING - Non-integer values were read from the PDB \"resid\" field. Dropping PDB values and assigning new ones.\n"
     ]
    },
    {
     "name": "stdout",
     "output_type": "stream",
     "text": [
      "../data/testing_data/0350_lig_cg.pdb\n",
      "../data/testing_data/0351_lig_cg.pdb\n",
      "../data/testing_data/0352_lig_cg.pdb\n"
     ]
    },
    {
     "name": "stderr",
     "output_type": "stream",
     "text": [
      "352it [00:25, 13.51it/s]2018-10-27 21:26:02,741 - htmd.molecule.readers - WARNING - Non-integer values were read from the PDB \"resid\" field. Dropping PDB values and assigning new ones.\n",
      "2018-10-27 21:26:02,804 - htmd.molecule.readers - WARNING - Non-integer values were read from the PDB \"resid\" field. Dropping PDB values and assigning new ones.\n",
      "354it [00:25, 13.87it/s]2018-10-27 21:26:02,865 - htmd.molecule.readers - WARNING - Non-integer values were read from the PDB \"resid\" field. Dropping PDB values and assigning new ones.\n"
     ]
    },
    {
     "name": "stdout",
     "output_type": "stream",
     "text": [
      "../data/testing_data/0353_lig_cg.pdb\n",
      "../data/testing_data/0354_lig_cg.pdb\n",
      "../data/testing_data/0355_lig_cg.pdb\n"
     ]
    },
    {
     "name": "stderr",
     "output_type": "stream",
     "text": [
      "2018-10-27 21:26:03,000 - htmd.molecule.readers - WARNING - Non-integer values were read from the PDB \"resid\" field. Dropping PDB values and assigning new ones.\n",
      "356it [00:26, 12.57it/s]2018-10-27 21:26:03,062 - htmd.molecule.readers - WARNING - Non-integer values were read from the PDB \"resid\" field. Dropping PDB values and assigning new ones.\n",
      "2018-10-27 21:26:03,126 - htmd.molecule.readers - WARNING - Non-integer values were read from the PDB \"resid\" field. Dropping PDB values and assigning new ones.\n",
      "358it [00:26, 13.50it/s]2018-10-27 21:26:03,182 - htmd.molecule.readers - WARNING - Non-integer values were read from the PDB \"resid\" field. Dropping PDB values and assigning new ones.\n"
     ]
    },
    {
     "name": "stdout",
     "output_type": "stream",
     "text": [
      "../data/testing_data/0356_lig_cg.pdb\n",
      "../data/testing_data/0357_lig_cg.pdb\n",
      "../data/testing_data/0358_lig_cg.pdb\n",
      "../data/testing_data/0359_lig_cg.pdb\n"
     ]
    },
    {
     "name": "stderr",
     "output_type": "stream",
     "text": [
      "2018-10-27 21:26:03,236 - htmd.molecule.readers - WARNING - Non-integer values were read from the PDB \"resid\" field. Dropping PDB values and assigning new ones.\n",
      "360it [00:26, 14.69it/s]2018-10-27 21:26:03,289 - htmd.molecule.readers - WARNING - Non-integer values were read from the PDB \"resid\" field. Dropping PDB values and assigning new ones.\n",
      "2018-10-27 21:26:03,345 - htmd.molecule.readers - WARNING - Non-integer values were read from the PDB \"resid\" field. Dropping PDB values and assigning new ones.\n",
      "362it [00:26, 15.56it/s]2018-10-27 21:26:03,400 - htmd.molecule.readers - WARNING - Non-integer values were read from the PDB \"resid\" field. Dropping PDB values and assigning new ones.\n"
     ]
    },
    {
     "name": "stdout",
     "output_type": "stream",
     "text": [
      "../data/testing_data/0360_lig_cg.pdb\n",
      "../data/testing_data/0361_lig_cg.pdb\n",
      "../data/testing_data/0362_lig_cg.pdb\n",
      "../data/testing_data/0363_lig_cg.pdb\n"
     ]
    },
    {
     "name": "stderr",
     "output_type": "stream",
     "text": [
      "2018-10-27 21:26:03,529 - htmd.molecule.readers - WARNING - Non-integer values were read from the PDB \"resid\" field. Dropping PDB values and assigning new ones.\n",
      "364it [00:26, 13.81it/s]2018-10-27 21:26:03,583 - htmd.molecule.readers - WARNING - Non-integer values were read from the PDB \"resid\" field. Dropping PDB values and assigning new ones.\n",
      "2018-10-27 21:26:03,633 - htmd.molecule.readers - WARNING - Non-integer values were read from the PDB \"resid\" field. Dropping PDB values and assigning new ones.\n",
      "366it [00:26, 15.14it/s]2018-10-27 21:26:03,685 - htmd.molecule.readers - WARNING - Non-integer values were read from the PDB \"resid\" field. Dropping PDB values and assigning new ones.\n"
     ]
    },
    {
     "name": "stdout",
     "output_type": "stream",
     "text": [
      "../data/testing_data/0364_lig_cg.pdb\n",
      "../data/testing_data/0365_lig_cg.pdb\n",
      "../data/testing_data/0366_lig_cg.pdb\n",
      "../data/testing_data/0367_lig_cg.pdb\n"
     ]
    },
    {
     "name": "stderr",
     "output_type": "stream",
     "text": [
      "2018-10-27 21:26:03,737 - htmd.molecule.readers - WARNING - Non-integer values were read from the PDB \"resid\" field. Dropping PDB values and assigning new ones.\n",
      "368it [00:26, 16.10it/s]2018-10-27 21:26:03,790 - htmd.molecule.readers - WARNING - Non-integer values were read from the PDB \"resid\" field. Dropping PDB values and assigning new ones.\n",
      "2018-10-27 21:26:03,842 - htmd.molecule.readers - WARNING - Non-integer values were read from the PDB \"resid\" field. Dropping PDB values and assigning new ones.\n"
     ]
    },
    {
     "name": "stdout",
     "output_type": "stream",
     "text": [
      "../data/testing_data/0368_lig_cg.pdb\n",
      "../data/testing_data/0369_lig_cg.pdb\n",
      "../data/testing_data/0370_lig_cg.pdb\n"
     ]
    },
    {
     "name": "stderr",
     "output_type": "stream",
     "text": [
      "370it [00:27, 14.01it/s]2018-10-27 21:26:03,977 - htmd.molecule.readers - WARNING - Non-integer values were read from the PDB \"resid\" field. Dropping PDB values and assigning new ones.\n",
      "2018-10-27 21:26:04,030 - htmd.molecule.readers - WARNING - Non-integer values were read from the PDB \"resid\" field. Dropping PDB values and assigning new ones.\n",
      "372it [00:27, 15.12it/s]2018-10-27 21:26:04,083 - htmd.molecule.readers - WARNING - Non-integer values were read from the PDB \"resid\" field. Dropping PDB values and assigning new ones.\n",
      "2018-10-27 21:26:04,135 - htmd.molecule.readers - WARNING - Non-integer values were read from the PDB \"resid\" field. Dropping PDB values and assigning new ones.\n"
     ]
    },
    {
     "name": "stdout",
     "output_type": "stream",
     "text": [
      "../data/testing_data/0371_lig_cg.pdb\n",
      "../data/testing_data/0372_lig_cg.pdb\n",
      "../data/testing_data/0373_lig_cg.pdb\n",
      "../data/testing_data/0374_lig_cg.pdb\n"
     ]
    },
    {
     "name": "stderr",
     "output_type": "stream",
     "text": [
      "374it [00:27, 16.12it/s]2018-10-27 21:26:04,189 - htmd.molecule.readers - WARNING - Non-integer values were read from the PDB \"resid\" field. Dropping PDB values and assigning new ones.\n",
      "2018-10-27 21:26:04,240 - htmd.molecule.readers - WARNING - Non-integer values were read from the PDB \"resid\" field. Dropping PDB values and assigning new ones.\n",
      "376it [00:27, 16.93it/s]2018-10-27 21:26:04,293 - htmd.molecule.readers - WARNING - Non-integer values were read from the PDB \"resid\" field. Dropping PDB values and assigning new ones.\n"
     ]
    },
    {
     "name": "stdout",
     "output_type": "stream",
     "text": [
      "../data/testing_data/0375_lig_cg.pdb\n",
      "../data/testing_data/0376_lig_cg.pdb\n",
      "../data/testing_data/0377_lig_cg.pdb\n"
     ]
    },
    {
     "name": "stderr",
     "output_type": "stream",
     "text": [
      "2018-10-27 21:26:04,416 - htmd.molecule.readers - WARNING - Non-integer values were read from the PDB \"resid\" field. Dropping PDB values and assigning new ones.\n",
      "378it [00:27, 14.75it/s]2018-10-27 21:26:04,470 - htmd.molecule.readers - WARNING - Non-integer values were read from the PDB \"resid\" field. Dropping PDB values and assigning new ones.\n",
      "2018-10-27 21:26:04,522 - htmd.molecule.readers - WARNING - Non-integer values were read from the PDB \"resid\" field. Dropping PDB values and assigning new ones.\n",
      "380it [00:27, 15.82it/s]2018-10-27 21:26:04,574 - htmd.molecule.readers - WARNING - Non-integer values were read from the PDB \"resid\" field. Dropping PDB values and assigning new ones.\n"
     ]
    },
    {
     "name": "stdout",
     "output_type": "stream",
     "text": [
      "../data/testing_data/0378_lig_cg.pdb\n",
      "../data/testing_data/0379_lig_cg.pdb\n",
      "../data/testing_data/0380_lig_cg.pdb\n",
      "../data/testing_data/0381_lig_cg.pdb\n"
     ]
    },
    {
     "name": "stderr",
     "output_type": "stream",
     "text": [
      "2018-10-27 21:26:04,626 - htmd.molecule.readers - WARNING - Non-integer values were read from the PDB \"resid\" field. Dropping PDB values and assigning new ones.\n",
      "382it [00:27, 16.74it/s]2018-10-27 21:26:04,677 - htmd.molecule.readers - WARNING - Non-integer values were read from the PDB \"resid\" field. Dropping PDB values and assigning new ones.\n",
      "2018-10-27 21:26:04,728 - htmd.molecule.readers - WARNING - Non-integer values were read from the PDB \"resid\" field. Dropping PDB values and assigning new ones.\n"
     ]
    },
    {
     "name": "stdout",
     "output_type": "stream",
     "text": [
      "../data/testing_data/0382_lig_cg.pdb\n",
      "../data/testing_data/0383_lig_cg.pdb\n",
      "../data/testing_data/0384_lig_cg.pdb\n"
     ]
    },
    {
     "name": "stderr",
     "output_type": "stream",
     "text": [
      "384it [00:27, 14.79it/s]2018-10-27 21:26:04,851 - htmd.molecule.readers - WARNING - Non-integer values were read from the PDB \"resid\" field. Dropping PDB values and assigning new ones.\n",
      "2018-10-27 21:26:04,902 - htmd.molecule.readers - WARNING - Non-integer values were read from the PDB \"resid\" field. Dropping PDB values and assigning new ones.\n",
      "386it [00:28, 15.71it/s]2018-10-27 21:26:04,959 - htmd.molecule.readers - WARNING - Non-integer values were read from the PDB \"resid\" field. Dropping PDB values and assigning new ones.\n",
      "2018-10-27 21:26:05,011 - htmd.molecule.readers - WARNING - Non-integer values were read from the PDB \"resid\" field. Dropping PDB values and assigning new ones.\n"
     ]
    },
    {
     "name": "stdout",
     "output_type": "stream",
     "text": [
      "../data/testing_data/0385_lig_cg.pdb\n",
      "../data/testing_data/0386_lig_cg.pdb\n",
      "../data/testing_data/0387_lig_cg.pdb\n",
      "../data/testing_data/0388_lig_cg.pdb\n"
     ]
    },
    {
     "name": "stderr",
     "output_type": "stream",
     "text": [
      "388it [00:28, 16.54it/s]2018-10-27 21:26:05,065 - htmd.molecule.readers - WARNING - Non-integer values were read from the PDB \"resid\" field. Dropping PDB values and assigning new ones.\n",
      "2018-10-27 21:26:05,120 - htmd.molecule.readers - WARNING - Non-integer values were read from the PDB \"resid\" field. Dropping PDB values and assigning new ones.\n",
      "390it [00:28, 17.12it/s]2018-10-27 21:26:05,171 - htmd.molecule.readers - WARNING - Non-integer values were read from the PDB \"resid\" field. Dropping PDB values and assigning new ones.\n"
     ]
    },
    {
     "name": "stdout",
     "output_type": "stream",
     "text": [
      "../data/testing_data/0389_lig_cg.pdb\n",
      "../data/testing_data/0390_lig_cg.pdb\n",
      "../data/testing_data/0391_lig_cg.pdb\n"
     ]
    },
    {
     "name": "stderr",
     "output_type": "stream",
     "text": [
      "2018-10-27 21:26:05,296 - htmd.molecule.readers - WARNING - Non-integer values were read from the PDB \"resid\" field. Dropping PDB values and assigning new ones.\n",
      "392it [00:28, 14.81it/s]2018-10-27 21:26:05,349 - htmd.molecule.readers - WARNING - Non-integer values were read from the PDB \"resid\" field. Dropping PDB values and assigning new ones.\n",
      "2018-10-27 21:26:05,399 - htmd.molecule.readers - WARNING - Non-integer values were read from the PDB \"resid\" field. Dropping PDB values and assigning new ones.\n",
      "394it [00:28, 16.03it/s]2018-10-27 21:26:05,449 - htmd.molecule.readers - WARNING - Non-integer values were read from the PDB \"resid\" field. Dropping PDB values and assigning new ones.\n"
     ]
    },
    {
     "name": "stdout",
     "output_type": "stream",
     "text": [
      "../data/testing_data/0392_lig_cg.pdb\n",
      "../data/testing_data/0393_lig_cg.pdb\n",
      "../data/testing_data/0394_lig_cg.pdb\n",
      "../data/testing_data/0395_lig_cg.pdb\n"
     ]
    },
    {
     "name": "stderr",
     "output_type": "stream",
     "text": [
      "2018-10-27 21:26:05,500 - htmd.molecule.readers - WARNING - Non-integer values were read from the PDB \"resid\" field. Dropping PDB values and assigning new ones.\n",
      "396it [00:28, 16.82it/s]2018-10-27 21:26:05,555 - htmd.molecule.readers - WARNING - Non-integer values were read from the PDB \"resid\" field. Dropping PDB values and assigning new ones.\n",
      "2018-10-27 21:26:05,605 - htmd.molecule.readers - WARNING - Non-integer values were read from the PDB \"resid\" field. Dropping PDB values and assigning new ones.\n"
     ]
    },
    {
     "name": "stdout",
     "output_type": "stream",
     "text": [
      "../data/testing_data/0396_lig_cg.pdb\n",
      "../data/testing_data/0397_lig_cg.pdb\n",
      "../data/testing_data/0398_lig_cg.pdb\n"
     ]
    },
    {
     "name": "stderr",
     "output_type": "stream",
     "text": [
      "398it [00:28, 14.89it/s]2018-10-27 21:26:05,725 - htmd.molecule.readers - WARNING - Non-integer values were read from the PDB \"resid\" field. Dropping PDB values and assigning new ones.\n",
      "2018-10-27 21:26:05,775 - htmd.molecule.readers - WARNING - Non-integer values were read from the PDB \"resid\" field. Dropping PDB values and assigning new ones.\n",
      "400it [00:28, 16.07it/s]2018-10-27 21:26:05,827 - htmd.molecule.readers - WARNING - Non-integer values were read from the PDB \"resid\" field. Dropping PDB values and assigning new ones.\n",
      "2018-10-27 21:26:05,879 - htmd.molecule.readers - WARNING - Non-integer values were read from the PDB \"resid\" field. Dropping PDB values and assigning new ones.\n"
     ]
    },
    {
     "name": "stdout",
     "output_type": "stream",
     "text": [
      "../data/testing_data/0399_lig_cg.pdb\n",
      "../data/testing_data/0400_lig_cg.pdb\n",
      "../data/testing_data/0401_lig_cg.pdb\n",
      "../data/testing_data/0402_lig_cg.pdb\n"
     ]
    },
    {
     "name": "stderr",
     "output_type": "stream",
     "text": [
      "402it [00:29, 16.90it/s]2018-10-27 21:26:05,931 - htmd.molecule.readers - WARNING - Non-integer values were read from the PDB \"resid\" field. Dropping PDB values and assigning new ones.\n",
      "2018-10-27 21:26:05,981 - htmd.molecule.readers - WARNING - Non-integer values were read from the PDB \"resid\" field. Dropping PDB values and assigning new ones.\n",
      "404it [00:29, 17.60it/s]2018-10-27 21:26:06,033 - htmd.molecule.readers - WARNING - Non-integer values were read from the PDB \"resid\" field. Dropping PDB values and assigning new ones.\n"
     ]
    },
    {
     "name": "stdout",
     "output_type": "stream",
     "text": [
      "../data/testing_data/0403_lig_cg.pdb\n",
      "../data/testing_data/0404_lig_cg.pdb\n",
      "../data/testing_data/0405_lig_cg.pdb\n"
     ]
    },
    {
     "name": "stderr",
     "output_type": "stream",
     "text": [
      "2018-10-27 21:26:06,154 - htmd.molecule.readers - WARNING - Non-integer values were read from the PDB \"resid\" field. Dropping PDB values and assigning new ones.\n",
      "406it [00:29, 15.16it/s]2018-10-27 21:26:06,210 - htmd.molecule.readers - WARNING - Non-integer values were read from the PDB \"resid\" field. Dropping PDB values and assigning new ones.\n",
      "2018-10-27 21:26:06,260 - htmd.molecule.readers - WARNING - Non-integer values were read from the PDB \"resid\" field. Dropping PDB values and assigning new ones.\n",
      "408it [00:29, 16.20it/s]2018-10-27 21:26:06,313 - htmd.molecule.readers - WARNING - Non-integer values were read from the PDB \"resid\" field. Dropping PDB values and assigning new ones.\n"
     ]
    },
    {
     "name": "stdout",
     "output_type": "stream",
     "text": [
      "../data/testing_data/0406_lig_cg.pdb\n",
      "../data/testing_data/0407_lig_cg.pdb\n",
      "../data/testing_data/0408_lig_cg.pdb\n",
      "../data/testing_data/0409_lig_cg.pdb\n"
     ]
    },
    {
     "name": "stderr",
     "output_type": "stream",
     "text": [
      "2018-10-27 21:26:06,370 - htmd.molecule.readers - WARNING - Non-integer values were read from the PDB \"resid\" field. Dropping PDB values and assigning new ones.\n",
      "410it [00:29, 16.70it/s]2018-10-27 21:26:06,423 - htmd.molecule.readers - WARNING - Non-integer values were read from the PDB \"resid\" field. Dropping PDB values and assigning new ones.\n",
      "2018-10-27 21:26:06,476 - htmd.molecule.readers - WARNING - Non-integer values were read from the PDB \"resid\" field. Dropping PDB values and assigning new ones.\n"
     ]
    },
    {
     "name": "stdout",
     "output_type": "stream",
     "text": [
      "../data/testing_data/0410_lig_cg.pdb\n",
      "../data/testing_data/0411_lig_cg.pdb\n",
      "../data/testing_data/0412_lig_cg.pdb\n"
     ]
    },
    {
     "name": "stderr",
     "output_type": "stream",
     "text": [
      "412it [00:29, 14.67it/s]2018-10-27 21:26:06,598 - htmd.molecule.readers - WARNING - Non-integer values were read from the PDB \"resid\" field. Dropping PDB values and assigning new ones.\n",
      "2018-10-27 21:26:06,647 - htmd.molecule.readers - WARNING - Non-integer values were read from the PDB \"resid\" field. Dropping PDB values and assigning new ones.\n",
      "2018-10-27 21:26:06,697 - htmd.molecule.readers - WARNING - Non-integer values were read from the PDB \"resid\" field. Dropping PDB values and assigning new ones.\n",
      "415it [00:29, 15.94it/s]2018-10-27 21:26:06,748 - htmd.molecule.readers - WARNING - Non-integer values were read from the PDB \"resid\" field. Dropping PDB values and assigning new ones.\n"
     ]
    },
    {
     "name": "stdout",
     "output_type": "stream",
     "text": [
      "../data/testing_data/0413_lig_cg.pdb\n",
      "../data/testing_data/0414_lig_cg.pdb\n",
      "../data/testing_data/0415_lig_cg.pdb\n",
      "../data/testing_data/0416_lig_cg.pdb\n"
     ]
    },
    {
     "name": "stderr",
     "output_type": "stream",
     "text": [
      "2018-10-27 21:26:06,802 - htmd.molecule.readers - WARNING - Non-integer values were read from the PDB \"resid\" field. Dropping PDB values and assigning new ones.\n",
      "417it [00:29, 16.63it/s]2018-10-27 21:26:06,858 - htmd.molecule.readers - WARNING - Non-integer values were read from the PDB \"resid\" field. Dropping PDB values and assigning new ones.\n",
      "2018-10-27 21:26:06,982 - htmd.molecule.readers - WARNING - Non-integer values were read from the PDB \"resid\" field. Dropping PDB values and assigning new ones.\n"
     ]
    },
    {
     "name": "stdout",
     "output_type": "stream",
     "text": [
      "../data/testing_data/0417_lig_cg.pdb\n",
      "../data/testing_data/0418_lig_cg.pdb\n",
      "../data/testing_data/0419_lig_cg.pdb\n"
     ]
    },
    {
     "name": "stderr",
     "output_type": "stream",
     "text": [
      "419it [00:30, 14.54it/s]2018-10-27 21:26:07,035 - htmd.molecule.readers - WARNING - Non-integer values were read from the PDB \"resid\" field. Dropping PDB values and assigning new ones.\n",
      "2018-10-27 21:26:07,090 - htmd.molecule.readers - WARNING - Non-integer values were read from the PDB \"resid\" field. Dropping PDB values and assigning new ones.\n",
      "421it [00:30, 15.56it/s]2018-10-27 21:26:07,142 - htmd.molecule.readers - WARNING - Non-integer values were read from the PDB \"resid\" field. Dropping PDB values and assigning new ones.\n",
      "2018-10-27 21:26:07,194 - htmd.molecule.readers - WARNING - Non-integer values were read from the PDB \"resid\" field. Dropping PDB values and assigning new ones.\n"
     ]
    },
    {
     "name": "stdout",
     "output_type": "stream",
     "text": [
      "../data/testing_data/0420_lig_cg.pdb\n",
      "../data/testing_data/0421_lig_cg.pdb\n",
      "../data/testing_data/0422_lig_cg.pdb\n",
      "../data/testing_data/0423_lig_cg.pdb\n"
     ]
    },
    {
     "name": "stderr",
     "output_type": "stream",
     "text": [
      "423it [00:30, 16.47it/s]2018-10-27 21:26:07,246 - htmd.molecule.readers - WARNING - Non-integer values were read from the PDB \"resid\" field. Dropping PDB values and assigning new ones.\n",
      "2018-10-27 21:26:07,299 - htmd.molecule.readers - WARNING - Non-integer values were read from the PDB \"resid\" field. Dropping PDB values and assigning new ones.\n",
      "425it [00:30, 14.49it/s]2018-10-27 21:26:07,425 - htmd.molecule.readers - WARNING - Non-integer values were read from the PDB \"resid\" field. Dropping PDB values and assigning new ones.\n"
     ]
    },
    {
     "name": "stdout",
     "output_type": "stream",
     "text": [
      "../data/testing_data/0424_lig_cg.pdb\n",
      "../data/testing_data/0425_lig_cg.pdb\n",
      "../data/testing_data/0426_lig_cg.pdb\n"
     ]
    },
    {
     "name": "stderr",
     "output_type": "stream",
     "text": [
      "2018-10-27 21:26:07,479 - htmd.molecule.readers - WARNING - Non-integer values were read from the PDB \"resid\" field. Dropping PDB values and assigning new ones.\n",
      "427it [00:30, 15.53it/s]2018-10-27 21:26:07,530 - htmd.molecule.readers - WARNING - Non-integer values were read from the PDB \"resid\" field. Dropping PDB values and assigning new ones.\n",
      "2018-10-27 21:26:07,581 - htmd.molecule.readers - WARNING - Non-integer values were read from the PDB \"resid\" field. Dropping PDB values and assigning new ones.\n",
      "429it [00:30, 16.57it/s]2018-10-27 21:26:07,633 - htmd.molecule.readers - WARNING - Non-integer values were read from the PDB \"resid\" field. Dropping PDB values and assigning new ones.\n"
     ]
    },
    {
     "name": "stdout",
     "output_type": "stream",
     "text": [
      "../data/testing_data/0427_lig_cg.pdb\n",
      "../data/testing_data/0428_lig_cg.pdb\n",
      "../data/testing_data/0429_lig_cg.pdb\n",
      "../data/testing_data/0430_lig_cg.pdb\n"
     ]
    },
    {
     "name": "stderr",
     "output_type": "stream",
     "text": [
      "2018-10-27 21:26:07,685 - htmd.molecule.readers - WARNING - Non-integer values were read from the PDB \"resid\" field. Dropping PDB values and assigning new ones.\n",
      "431it [00:30, 17.23it/s]2018-10-27 21:26:07,738 - htmd.molecule.readers - WARNING - Non-integer values were read from the PDB \"resid\" field. Dropping PDB values and assigning new ones.\n",
      "2018-10-27 21:26:07,862 - htmd.molecule.readers - WARNING - Non-integer values were read from the PDB \"resid\" field. Dropping PDB values and assigning new ones.\n"
     ]
    },
    {
     "name": "stdout",
     "output_type": "stream",
     "text": [
      "../data/testing_data/0431_lig_cg.pdb\n",
      "../data/testing_data/0432_lig_cg.pdb\n",
      "../data/testing_data/0433_lig_cg.pdb\n"
     ]
    },
    {
     "name": "stderr",
     "output_type": "stream",
     "text": [
      "433it [00:31, 14.77it/s]2018-10-27 21:26:07,920 - htmd.molecule.readers - WARNING - Non-integer values were read from the PDB \"resid\" field. Dropping PDB values and assigning new ones.\n",
      "2018-10-27 21:26:07,969 - htmd.molecule.readers - WARNING - Non-integer values were read from the PDB \"resid\" field. Dropping PDB values and assigning new ones.\n",
      "435it [00:31, 15.92it/s]2018-10-27 21:26:08,021 - htmd.molecule.readers - WARNING - Non-integer values were read from the PDB \"resid\" field. Dropping PDB values and assigning new ones.\n",
      "2018-10-27 21:26:08,071 - htmd.molecule.readers - WARNING - Non-integer values were read from the PDB \"resid\" field. Dropping PDB values and assigning new ones.\n"
     ]
    },
    {
     "name": "stdout",
     "output_type": "stream",
     "text": [
      "../data/testing_data/0434_lig_cg.pdb\n",
      "../data/testing_data/0435_lig_cg.pdb\n",
      "../data/testing_data/0436_lig_cg.pdb\n",
      "../data/testing_data/0437_lig_cg.pdb\n"
     ]
    },
    {
     "name": "stderr",
     "output_type": "stream",
     "text": [
      "437it [00:31, 16.89it/s]2018-10-27 21:26:08,122 - htmd.molecule.readers - WARNING - Non-integer values were read from the PDB \"resid\" field. Dropping PDB values and assigning new ones.\n",
      "2018-10-27 21:26:08,173 - htmd.molecule.readers - WARNING - Non-integer values were read from the PDB \"resid\" field. Dropping PDB values and assigning new ones.\n",
      "439it [00:31, 14.96it/s]2018-10-27 21:26:08,292 - htmd.molecule.readers - WARNING - Non-integer values were read from the PDB \"resid\" field. Dropping PDB values and assigning new ones.\n"
     ]
    },
    {
     "name": "stdout",
     "output_type": "stream",
     "text": [
      "../data/testing_data/0438_lig_cg.pdb\n",
      "../data/testing_data/0439_lig_cg.pdb\n",
      "../data/testing_data/0440_lig_cg.pdb\n"
     ]
    },
    {
     "name": "stderr",
     "output_type": "stream",
     "text": [
      "2018-10-27 21:26:08,348 - htmd.molecule.readers - WARNING - Non-integer values were read from the PDB \"resid\" field. Dropping PDB values and assigning new ones.\n",
      "441it [00:31, 15.74it/s]2018-10-27 21:26:08,408 - htmd.molecule.readers - WARNING - Non-integer values were read from the PDB \"resid\" field. Dropping PDB values and assigning new ones.\n",
      "2018-10-27 21:26:08,461 - htmd.molecule.readers - WARNING - Non-integer values were read from the PDB \"resid\" field. Dropping PDB values and assigning new ones.\n",
      "443it [00:31, 16.35it/s]2018-10-27 21:26:08,516 - htmd.molecule.readers - WARNING - Non-integer values were read from the PDB \"resid\" field. Dropping PDB values and assigning new ones.\n"
     ]
    },
    {
     "name": "stdout",
     "output_type": "stream",
     "text": [
      "../data/testing_data/0441_lig_cg.pdb\n",
      "../data/testing_data/0442_lig_cg.pdb\n",
      "../data/testing_data/0443_lig_cg.pdb\n",
      "../data/testing_data/0444_lig_cg.pdb\n"
     ]
    },
    {
     "name": "stderr",
     "output_type": "stream",
     "text": [
      "2018-10-27 21:26:08,569 - htmd.molecule.readers - WARNING - Non-integer values were read from the PDB \"resid\" field. Dropping PDB values and assigning new ones.\n",
      "445it [00:31, 17.01it/s]2018-10-27 21:26:08,621 - htmd.molecule.readers - WARNING - Non-integer values were read from the PDB \"resid\" field. Dropping PDB values and assigning new ones.\n",
      "2018-10-27 21:26:08,743 - htmd.molecule.readers - WARNING - Non-integer values were read from the PDB \"resid\" field. Dropping PDB values and assigning new ones.\n"
     ]
    },
    {
     "name": "stdout",
     "output_type": "stream",
     "text": [
      "../data/testing_data/0445_lig_cg.pdb\n",
      "../data/testing_data/0446_lig_cg.pdb\n",
      "../data/testing_data/0447_lig_cg.pdb\n"
     ]
    },
    {
     "name": "stderr",
     "output_type": "stream",
     "text": [
      "447it [00:31, 14.87it/s]2018-10-27 21:26:08,796 - htmd.molecule.readers - WARNING - Non-integer values were read from the PDB \"resid\" field. Dropping PDB values and assigning new ones.\n",
      "2018-10-27 21:26:08,849 - htmd.molecule.readers - WARNING - Non-integer values were read from the PDB \"resid\" field. Dropping PDB values and assigning new ones.\n",
      "449it [00:32, 15.90it/s]2018-10-27 21:26:08,901 - htmd.molecule.readers - WARNING - Non-integer values were read from the PDB \"resid\" field. Dropping PDB values and assigning new ones.\n",
      "2018-10-27 21:26:08,952 - htmd.molecule.readers - WARNING - Non-integer values were read from the PDB \"resid\" field. Dropping PDB values and assigning new ones.\n"
     ]
    },
    {
     "name": "stdout",
     "output_type": "stream",
     "text": [
      "../data/testing_data/0448_lig_cg.pdb\n",
      "../data/testing_data/0449_lig_cg.pdb\n",
      "../data/testing_data/0450_lig_cg.pdb\n",
      "../data/testing_data/0451_lig_cg.pdb\n"
     ]
    },
    {
     "name": "stderr",
     "output_type": "stream",
     "text": [
      "451it [00:32, 16.82it/s]2018-10-27 21:26:09,003 - htmd.molecule.readers - WARNING - Non-integer values were read from the PDB \"resid\" field. Dropping PDB values and assigning new ones.\n",
      "2018-10-27 21:26:09,053 - htmd.molecule.readers - WARNING - Non-integer values were read from the PDB \"resid\" field. Dropping PDB values and assigning new ones.\n",
      "453it [00:32, 14.95it/s]2018-10-27 21:26:09,173 - htmd.molecule.readers - WARNING - Non-integer values were read from the PDB \"resid\" field. Dropping PDB values and assigning new ones.\n"
     ]
    },
    {
     "name": "stdout",
     "output_type": "stream",
     "text": [
      "../data/testing_data/0452_lig_cg.pdb\n",
      "../data/testing_data/0453_lig_cg.pdb\n",
      "../data/testing_data/0454_lig_cg.pdb\n"
     ]
    },
    {
     "name": "stderr",
     "output_type": "stream",
     "text": [
      "2018-10-27 21:26:09,223 - htmd.molecule.readers - WARNING - Non-integer values were read from the PDB \"resid\" field. Dropping PDB values and assigning new ones.\n",
      "455it [00:32, 16.06it/s]2018-10-27 21:26:09,277 - htmd.molecule.readers - WARNING - Non-integer values were read from the PDB \"resid\" field. Dropping PDB values and assigning new ones.\n",
      "2018-10-27 21:26:09,327 - htmd.molecule.readers - WARNING - Non-integer values were read from the PDB \"resid\" field. Dropping PDB values and assigning new ones.\n",
      "457it [00:32, 16.91it/s]2018-10-27 21:26:09,378 - htmd.molecule.readers - WARNING - Non-integer values were read from the PDB \"resid\" field. Dropping PDB values and assigning new ones.\n"
     ]
    },
    {
     "name": "stdout",
     "output_type": "stream",
     "text": [
      "../data/testing_data/0455_lig_cg.pdb\n",
      "../data/testing_data/0456_lig_cg.pdb\n",
      "../data/testing_data/0457_lig_cg.pdb\n",
      "../data/testing_data/0458_lig_cg.pdb\n"
     ]
    },
    {
     "name": "stderr",
     "output_type": "stream",
     "text": [
      "2018-10-27 21:26:09,428 - htmd.molecule.readers - WARNING - Non-integer values were read from the PDB \"resid\" field. Dropping PDB values and assigning new ones.\n",
      "459it [00:32, 17.68it/s]2018-10-27 21:26:09,480 - htmd.molecule.readers - WARNING - Non-integer values were read from the PDB \"resid\" field. Dropping PDB values and assigning new ones.\n",
      "2018-10-27 21:26:09,604 - htmd.molecule.readers - WARNING - Non-integer values were read from the PDB \"resid\" field. Dropping PDB values and assigning new ones.\n"
     ]
    },
    {
     "name": "stdout",
     "output_type": "stream",
     "text": [
      "../data/testing_data/0459_lig_cg.pdb\n",
      "../data/testing_data/0460_lig_cg.pdb\n",
      "../data/testing_data/0461_lig_cg.pdb\n"
     ]
    },
    {
     "name": "stderr",
     "output_type": "stream",
     "text": [
      "461it [00:32, 15.09it/s]2018-10-27 21:26:09,657 - htmd.molecule.readers - WARNING - Non-integer values were read from the PDB \"resid\" field. Dropping PDB values and assigning new ones.\n",
      "2018-10-27 21:26:09,709 - htmd.molecule.readers - WARNING - Non-integer values were read from the PDB \"resid\" field. Dropping PDB values and assigning new ones.\n",
      "463it [00:32, 16.19it/s]2018-10-27 21:26:09,760 - htmd.molecule.readers - WARNING - Non-integer values were read from the PDB \"resid\" field. Dropping PDB values and assigning new ones.\n",
      "2018-10-27 21:26:09,811 - htmd.molecule.readers - WARNING - Non-integer values were read from the PDB \"resid\" field. Dropping PDB values and assigning new ones.\n"
     ]
    },
    {
     "name": "stdout",
     "output_type": "stream",
     "text": [
      "../data/testing_data/0462_lig_cg.pdb\n",
      "../data/testing_data/0463_lig_cg.pdb\n",
      "../data/testing_data/0464_lig_cg.pdb\n",
      "../data/testing_data/0465_lig_cg.pdb\n"
     ]
    },
    {
     "name": "stderr",
     "output_type": "stream",
     "text": [
      "465it [00:32, 16.97it/s]2018-10-27 21:26:09,865 - htmd.molecule.readers - WARNING - Non-integer values were read from the PDB \"resid\" field. Dropping PDB values and assigning new ones.\n",
      "2018-10-27 21:26:09,916 - htmd.molecule.readers - WARNING - Non-integer values were read from the PDB \"resid\" field. Dropping PDB values and assigning new ones.\n",
      "467it [00:33, 14.90it/s]2018-10-27 21:26:10,037 - htmd.molecule.readers - WARNING - Non-integer values were read from the PDB \"resid\" field. Dropping PDB values and assigning new ones.\n"
     ]
    },
    {
     "name": "stdout",
     "output_type": "stream",
     "text": [
      "../data/testing_data/0466_lig_cg.pdb\n",
      "../data/testing_data/0467_lig_cg.pdb\n",
      "../data/testing_data/0468_lig_cg.pdb\n"
     ]
    },
    {
     "name": "stderr",
     "output_type": "stream",
     "text": [
      "2018-10-27 21:26:10,089 - htmd.molecule.readers - WARNING - Non-integer values were read from the PDB \"resid\" field. Dropping PDB values and assigning new ones.\n",
      "469it [00:33, 16.02it/s]2018-10-27 21:26:10,139 - htmd.molecule.readers - WARNING - Non-integer values were read from the PDB \"resid\" field. Dropping PDB values and assigning new ones.\n",
      "2018-10-27 21:26:10,188 - htmd.molecule.readers - WARNING - Non-integer values were read from the PDB \"resid\" field. Dropping PDB values and assigning new ones.\n",
      "2018-10-27 21:26:10,238 - htmd.molecule.readers - WARNING - Non-integer values were read from the PDB \"resid\" field. Dropping PDB values and assigning new ones.\n",
      "472it [00:33, 17.09it/s]"
     ]
    },
    {
     "name": "stdout",
     "output_type": "stream",
     "text": [
      "../data/testing_data/0469_lig_cg.pdb\n",
      "../data/testing_data/0470_lig_cg.pdb\n",
      "../data/testing_data/0471_lig_cg.pdb\n",
      "../data/testing_data/0472_lig_cg.pdb\n",
      "../data/testing_data/0473_lig_cg.pdb\n"
     ]
    },
    {
     "name": "stderr",
     "output_type": "stream",
     "text": [
      "2018-10-27 21:26:10,291 - htmd.molecule.readers - WARNING - Non-integer values were read from the PDB \"resid\" field. Dropping PDB values and assigning new ones.\n",
      "2018-10-27 21:26:10,412 - htmd.molecule.readers - WARNING - Non-integer values were read from the PDB \"resid\" field. Dropping PDB values and assigning new ones.\n",
      "474it [00:33, 14.81it/s]2018-10-27 21:26:10,468 - htmd.molecule.readers - WARNING - Non-integer values were read from the PDB \"resid\" field. Dropping PDB values and assigning new ones.\n",
      "2018-10-27 21:26:10,519 - htmd.molecule.readers - WARNING - Non-integer values were read from the PDB \"resid\" field. Dropping PDB values and assigning new ones.\n",
      "476it [00:33, 15.85it/s]2018-10-27 21:26:10,570 - htmd.molecule.readers - WARNING - Non-integer values were read from the PDB \"resid\" field. Dropping PDB values and assigning new ones.\n"
     ]
    },
    {
     "name": "stdout",
     "output_type": "stream",
     "text": [
      "../data/testing_data/0474_lig_cg.pdb\n",
      "../data/testing_data/0475_lig_cg.pdb\n",
      "../data/testing_data/0476_lig_cg.pdb\n",
      "../data/testing_data/0477_lig_cg.pdb\n"
     ]
    },
    {
     "name": "stderr",
     "output_type": "stream",
     "text": [
      "2018-10-27 21:26:10,622 - htmd.molecule.readers - WARNING - Non-integer values were read from the PDB \"resid\" field. Dropping PDB values and assigning new ones.\n",
      "478it [00:33, 16.73it/s]2018-10-27 21:26:10,675 - htmd.molecule.readers - WARNING - Non-integer values were read from the PDB \"resid\" field. Dropping PDB values and assigning new ones.\n",
      "2018-10-27 21:26:10,725 - htmd.molecule.readers - WARNING - Non-integer values were read from the PDB \"resid\" field. Dropping PDB values and assigning new ones.\n"
     ]
    },
    {
     "name": "stdout",
     "output_type": "stream",
     "text": [
      "../data/testing_data/0478_lig_cg.pdb\n",
      "../data/testing_data/0479_lig_cg.pdb\n",
      "../data/testing_data/0480_lig_cg.pdb\n"
     ]
    },
    {
     "name": "stderr",
     "output_type": "stream",
     "text": [
      "480it [00:33, 14.81it/s]2018-10-27 21:26:10,845 - htmd.molecule.readers - WARNING - Non-integer values were read from the PDB \"resid\" field. Dropping PDB values and assigning new ones.\n",
      "2018-10-27 21:26:10,894 - htmd.molecule.readers - WARNING - Non-integer values were read from the PDB \"resid\" field. Dropping PDB values and assigning new ones.\n",
      "2018-10-27 21:26:10,943 - htmd.molecule.readers - WARNING - Non-integer values were read from the PDB \"resid\" field. Dropping PDB values and assigning new ones.\n",
      "483it [00:34, 16.13it/s]2018-10-27 21:26:10,994 - htmd.molecule.readers - WARNING - Non-integer values were read from the PDB \"resid\" field. Dropping PDB values and assigning new ones.\n"
     ]
    },
    {
     "name": "stdout",
     "output_type": "stream",
     "text": [
      "../data/testing_data/0481_lig_cg.pdb\n",
      "../data/testing_data/0482_lig_cg.pdb\n",
      "../data/testing_data/0483_lig_cg.pdb\n",
      "../data/testing_data/0484_lig_cg.pdb\n",
      "../data/testing_data/0485_lig_cg.pdb\n"
     ]
    },
    {
     "name": "stderr",
     "output_type": "stream",
     "text": [
      "2018-10-27 21:26:11,049 - htmd.molecule.readers - WARNING - Non-integer values were read from the PDB \"resid\" field. Dropping PDB values and assigning new ones.\n",
      "485it [00:34, 16.76it/s]2018-10-27 21:26:11,102 - htmd.molecule.readers - WARNING - Non-integer values were read from the PDB \"resid\" field. Dropping PDB values and assigning new ones.\n",
      "2018-10-27 21:26:11,152 - htmd.molecule.readers - WARNING - Non-integer values were read from the PDB \"resid\" field. Dropping PDB values and assigning new ones.\n",
      "487it [00:34, 14.88it/s]2018-10-27 21:26:11,271 - htmd.molecule.readers - WARNING - Non-integer values were read from the PDB \"resid\" field. Dropping PDB values and assigning new ones.\n"
     ]
    },
    {
     "name": "stdout",
     "output_type": "stream",
     "text": [
      "../data/testing_data/0486_lig_cg.pdb\n",
      "../data/testing_data/0487_lig_cg.pdb\n",
      "../data/testing_data/0488_lig_cg.pdb\n"
     ]
    },
    {
     "name": "stderr",
     "output_type": "stream",
     "text": [
      "2018-10-27 21:26:11,321 - htmd.molecule.readers - WARNING - Non-integer values were read from the PDB \"resid\" field. Dropping PDB values and assigning new ones.\n",
      "489it [00:34, 16.10it/s]2018-10-27 21:26:11,372 - htmd.molecule.readers - WARNING - Non-integer values were read from the PDB \"resid\" field. Dropping PDB values and assigning new ones.\n",
      "2018-10-27 21:26:11,421 - htmd.molecule.readers - WARNING - Non-integer values were read from the PDB \"resid\" field. Dropping PDB values and assigning new ones.\n",
      "491it [00:34, 17.09it/s]2018-10-27 21:26:11,472 - htmd.molecule.readers - WARNING - Non-integer values were read from the PDB \"resid\" field. Dropping PDB values and assigning new ones.\n"
     ]
    },
    {
     "name": "stdout",
     "output_type": "stream",
     "text": [
      "../data/testing_data/0489_lig_cg.pdb\n",
      "../data/testing_data/0490_lig_cg.pdb\n",
      "../data/testing_data/0491_lig_cg.pdb\n",
      "../data/testing_data/0492_lig_cg.pdb\n"
     ]
    },
    {
     "name": "stderr",
     "output_type": "stream",
     "text": [
      "2018-10-27 21:26:11,529 - htmd.molecule.readers - WARNING - Non-integer values were read from the PDB \"resid\" field. Dropping PDB values and assigning new ones.\n",
      "493it [00:34, 17.33it/s]2018-10-27 21:26:11,583 - htmd.molecule.readers - WARNING - Non-integer values were read from the PDB \"resid\" field. Dropping PDB values and assigning new ones.\n",
      "2018-10-27 21:26:11,701 - htmd.molecule.readers - WARNING - Non-integer values were read from the PDB \"resid\" field. Dropping PDB values and assigning new ones.\n"
     ]
    },
    {
     "name": "stdout",
     "output_type": "stream",
     "text": [
      "../data/testing_data/0493_lig_cg.pdb\n",
      "../data/testing_data/0494_lig_cg.pdb\n",
      "../data/testing_data/0495_lig_cg.pdb\n"
     ]
    },
    {
     "name": "stderr",
     "output_type": "stream",
     "text": [
      "495it [00:34, 15.20it/s]2018-10-27 21:26:11,753 - htmd.molecule.readers - WARNING - Non-integer values were read from the PDB \"resid\" field. Dropping PDB values and assigning new ones.\n",
      "2018-10-27 21:26:11,805 - htmd.molecule.readers - WARNING - Non-integer values were read from the PDB \"resid\" field. Dropping PDB values and assigning new ones.\n",
      "497it [00:34, 16.26it/s]2018-10-27 21:26:11,855 - htmd.molecule.readers - WARNING - Non-integer values were read from the PDB \"resid\" field. Dropping PDB values and assigning new ones.\n",
      "2018-10-27 21:26:11,905 - htmd.molecule.readers - WARNING - Non-integer values were read from the PDB \"resid\" field. Dropping PDB values and assigning new ones.\n"
     ]
    },
    {
     "name": "stdout",
     "output_type": "stream",
     "text": [
      "../data/testing_data/0496_lig_cg.pdb\n",
      "../data/testing_data/0497_lig_cg.pdb\n",
      "../data/testing_data/0498_lig_cg.pdb\n",
      "../data/testing_data/0499_lig_cg.pdb\n"
     ]
    },
    {
     "name": "stderr",
     "output_type": "stream",
     "text": [
      "2018-10-27 21:26:11,956 - htmd.molecule.readers - WARNING - Non-integer values were read from the PDB \"resid\" field. Dropping PDB values and assigning new ones.\n",
      "500it [00:35, 17.17it/s]2018-10-27 21:26:12,010 - htmd.molecule.readers - WARNING - Non-integer values were read from the PDB \"resid\" field. Dropping PDB values and assigning new ones.\n",
      "2018-10-27 21:26:12,129 - htmd.molecule.readers - WARNING - Non-integer values were read from the PDB \"resid\" field. Dropping PDB values and assigning new ones.\n"
     ]
    },
    {
     "name": "stdout",
     "output_type": "stream",
     "text": [
      "../data/testing_data/0500_lig_cg.pdb\n",
      "../data/testing_data/0501_lig_cg.pdb\n",
      "../data/testing_data/0502_lig_cg.pdb\n"
     ]
    },
    {
     "name": "stderr",
     "output_type": "stream",
     "text": [
      "502it [00:35, 14.96it/s]2018-10-27 21:26:12,183 - htmd.molecule.readers - WARNING - Non-integer values were read from the PDB \"resid\" field. Dropping PDB values and assigning new ones.\n",
      "2018-10-27 21:26:12,232 - htmd.molecule.readers - WARNING - Non-integer values were read from the PDB \"resid\" field. Dropping PDB values and assigning new ones.\n",
      "504it [00:35, 16.14it/s]2018-10-27 21:26:12,282 - htmd.molecule.readers - WARNING - Non-integer values were read from the PDB \"resid\" field. Dropping PDB values and assigning new ones.\n",
      "2018-10-27 21:26:12,331 - htmd.molecule.readers - WARNING - Non-integer values were read from the PDB \"resid\" field. Dropping PDB values and assigning new ones.\n"
     ]
    },
    {
     "name": "stdout",
     "output_type": "stream",
     "text": [
      "../data/testing_data/0503_lig_cg.pdb\n",
      "../data/testing_data/0504_lig_cg.pdb\n",
      "../data/testing_data/0505_lig_cg.pdb\n",
      "../data/testing_data/0506_lig_cg.pdb\n",
      "../data/testing_data/0507_lig_cg.pdb\n"
     ]
    },
    {
     "name": "stderr",
     "output_type": "stream",
     "text": [
      "2018-10-27 21:26:12,381 - htmd.molecule.readers - WARNING - Non-integer values were read from the PDB \"resid\" field. Dropping PDB values and assigning new ones.\n",
      "507it [00:35, 17.14it/s]2018-10-27 21:26:12,434 - htmd.molecule.readers - WARNING - Non-integer values were read from the PDB \"resid\" field. Dropping PDB values and assigning new ones.\n",
      "2018-10-27 21:26:12,553 - htmd.molecule.readers - WARNING - Non-integer values were read from the PDB \"resid\" field. Dropping PDB values and assigning new ones.\n",
      "509it [00:35, 15.03it/s]2018-10-27 21:26:12,604 - htmd.molecule.readers - WARNING - Non-integer values were read from the PDB \"resid\" field. Dropping PDB values and assigning new ones.\n"
     ]
    },
    {
     "name": "stdout",
     "output_type": "stream",
     "text": [
      "../data/testing_data/0508_lig_cg.pdb\n",
      "../data/testing_data/0509_lig_cg.pdb\n",
      "../data/testing_data/0510_lig_cg.pdb\n"
     ]
    },
    {
     "name": "stderr",
     "output_type": "stream",
     "text": [
      "2018-10-27 21:26:12,655 - htmd.molecule.readers - WARNING - Non-integer values were read from the PDB \"resid\" field. Dropping PDB values and assigning new ones.\n",
      "511it [00:35, 16.14it/s]2018-10-27 21:26:12,706 - htmd.molecule.readers - WARNING - Non-integer values were read from the PDB \"resid\" field. Dropping PDB values and assigning new ones.\n",
      "2018-10-27 21:26:12,760 - htmd.molecule.readers - WARNING - Non-integer values were read from the PDB \"resid\" field. Dropping PDB values and assigning new ones.\n",
      "513it [00:35, 16.80it/s]2018-10-27 21:26:12,816 - htmd.molecule.readers - WARNING - Non-integer values were read from the PDB \"resid\" field. Dropping PDB values and assigning new ones.\n"
     ]
    },
    {
     "name": "stdout",
     "output_type": "stream",
     "text": [
      "../data/testing_data/0511_lig_cg.pdb\n",
      "../data/testing_data/0512_lig_cg.pdb\n",
      "../data/testing_data/0513_lig_cg.pdb\n",
      "../data/testing_data/0514_lig_cg.pdb\n"
     ]
    },
    {
     "name": "stderr",
     "output_type": "stream",
     "text": [
      "2018-10-27 21:26:12,871 - htmd.molecule.readers - WARNING - Non-integer values were read from the PDB \"resid\" field. Dropping PDB values and assigning new ones.\n",
      "515it [00:36, 14.70it/s]2018-10-27 21:26:12,990 - htmd.molecule.readers - WARNING - Non-integer values were read from the PDB \"resid\" field. Dropping PDB values and assigning new ones.\n",
      "2018-10-27 21:26:13,040 - htmd.molecule.readers - WARNING - Non-integer values were read from the PDB \"resid\" field. Dropping PDB values and assigning new ones.\n"
     ]
    },
    {
     "name": "stdout",
     "output_type": "stream",
     "text": [
      "../data/testing_data/0515_lig_cg.pdb\n",
      "../data/testing_data/0516_lig_cg.pdb\n",
      "../data/testing_data/0517_lig_cg.pdb\n"
     ]
    },
    {
     "name": "stderr",
     "output_type": "stream",
     "text": [
      "517it [00:36, 15.90it/s]2018-10-27 21:26:13,091 - htmd.molecule.readers - WARNING - Non-integer values were read from the PDB \"resid\" field. Dropping PDB values and assigning new ones.\n",
      "2018-10-27 21:26:13,142 - htmd.molecule.readers - WARNING - Non-integer values were read from the PDB \"resid\" field. Dropping PDB values and assigning new ones.\n",
      "519it [00:36, 15.74it/s]2018-10-27 21:26:13,223 - htmd.molecule.readers - WARNING - Non-integer values were read from the PDB \"resid\" field. Dropping PDB values and assigning new ones.\n",
      "2018-10-27 21:26:13,274 - htmd.molecule.readers - WARNING - Non-integer values were read from the PDB \"resid\" field. Dropping PDB values and assigning new ones.\n"
     ]
    },
    {
     "name": "stdout",
     "output_type": "stream",
     "text": [
      "../data/testing_data/0518_lig_cg.pdb\n",
      "../data/testing_data/0519_lig_cg.pdb\n",
      "../data/testing_data/0520_lig_cg.pdb\n",
      "../data/testing_data/0521_lig_cg.pdb\n"
     ]
    },
    {
     "name": "stderr",
     "output_type": "stream",
     "text": [
      "521it [00:36, 16.65it/s]2018-10-27 21:26:13,325 - htmd.molecule.readers - WARNING - Non-integer values were read from the PDB \"resid\" field. Dropping PDB values and assigning new ones.\n",
      "2018-10-27 21:26:13,445 - htmd.molecule.readers - WARNING - Non-integer values were read from the PDB \"resid\" field. Dropping PDB values and assigning new ones.\n",
      "523it [00:36, 14.80it/s]2018-10-27 21:26:13,497 - htmd.molecule.readers - WARNING - Non-integer values were read from the PDB \"resid\" field. Dropping PDB values and assigning new ones.\n"
     ]
    },
    {
     "name": "stdout",
     "output_type": "stream",
     "text": [
      "../data/testing_data/0522_lig_cg.pdb\n",
      "../data/testing_data/0523_lig_cg.pdb\n",
      "../data/testing_data/0524_lig_cg.pdb\n"
     ]
    },
    {
     "name": "stderr",
     "output_type": "stream",
     "text": [
      "2018-10-27 21:26:13,548 - htmd.molecule.readers - WARNING - Non-integer values were read from the PDB \"resid\" field. Dropping PDB values and assigning new ones.\n",
      "525it [00:36, 15.85it/s]2018-10-27 21:26:13,602 - htmd.molecule.readers - WARNING - Non-integer values were read from the PDB \"resid\" field. Dropping PDB values and assigning new ones.\n",
      "2018-10-27 21:26:13,651 - htmd.molecule.readers - WARNING - Non-integer values were read from the PDB \"resid\" field. Dropping PDB values and assigning new ones.\n",
      "527it [00:36, 16.88it/s]2018-10-27 21:26:13,702 - htmd.molecule.readers - WARNING - Non-integer values were read from the PDB \"resid\" field. Dropping PDB values and assigning new ones.\n"
     ]
    },
    {
     "name": "stdout",
     "output_type": "stream",
     "text": [
      "../data/testing_data/0525_lig_cg.pdb\n",
      "../data/testing_data/0526_lig_cg.pdb\n",
      "../data/testing_data/0527_lig_cg.pdb\n",
      "../data/testing_data/0528_lig_cg.pdb\n"
     ]
    },
    {
     "name": "stderr",
     "output_type": "stream",
     "text": [
      "2018-10-27 21:26:13,823 - htmd.molecule.readers - WARNING - Non-integer values were read from the PDB \"resid\" field. Dropping PDB values and assigning new ones.\n",
      "529it [00:36, 14.82it/s]2018-10-27 21:26:13,874 - htmd.molecule.readers - WARNING - Non-integer values were read from the PDB \"resid\" field. Dropping PDB values and assigning new ones.\n",
      "2018-10-27 21:26:13,925 - htmd.molecule.readers - WARNING - Non-integer values were read from the PDB \"resid\" field. Dropping PDB values and assigning new ones.\n",
      "531it [00:37, 16.01it/s]2018-10-27 21:26:13,979 - htmd.molecule.readers - WARNING - Non-integer values were read from the PDB \"resid\" field. Dropping PDB values and assigning new ones.\n"
     ]
    },
    {
     "name": "stdout",
     "output_type": "stream",
     "text": [
      "../data/testing_data/0529_lig_cg.pdb\n",
      "../data/testing_data/0530_lig_cg.pdb\n",
      "../data/testing_data/0531_lig_cg.pdb\n",
      "../data/testing_data/0532_lig_cg.pdb\n"
     ]
    },
    {
     "name": "stderr",
     "output_type": "stream",
     "text": [
      "2018-10-27 21:26:14,032 - htmd.molecule.readers - WARNING - Non-integer values were read from the PDB \"resid\" field. Dropping PDB values and assigning new ones.\n",
      "533it [00:37, 16.78it/s]2018-10-27 21:26:14,082 - htmd.molecule.readers - WARNING - Non-integer values were read from the PDB \"resid\" field. Dropping PDB values and assigning new ones.\n",
      "2018-10-27 21:26:14,132 - htmd.molecule.readers - WARNING - Non-integer values were read from the PDB \"resid\" field. Dropping PDB values and assigning new ones.\n"
     ]
    },
    {
     "name": "stdout",
     "output_type": "stream",
     "text": [
      "../data/testing_data/0533_lig_cg.pdb\n",
      "../data/testing_data/0534_lig_cg.pdb\n",
      "../data/testing_data/0535_lig_cg.pdb\n"
     ]
    },
    {
     "name": "stderr",
     "output_type": "stream",
     "text": [
      "535it [00:37, 14.76it/s]2018-10-27 21:26:14,258 - htmd.molecule.readers - WARNING - Non-integer values were read from the PDB \"resid\" field. Dropping PDB values and assigning new ones.\n",
      "2018-10-27 21:26:14,311 - htmd.molecule.readers - WARNING - Non-integer values were read from the PDB \"resid\" field. Dropping PDB values and assigning new ones.\n",
      "537it [00:37, 15.75it/s]2018-10-27 21:26:14,363 - htmd.molecule.readers - WARNING - Non-integer values were read from the PDB \"resid\" field. Dropping PDB values and assigning new ones.\n",
      "2018-10-27 21:26:14,415 - htmd.molecule.readers - WARNING - Non-integer values were read from the PDB \"resid\" field. Dropping PDB values and assigning new ones.\n"
     ]
    },
    {
     "name": "stdout",
     "output_type": "stream",
     "text": [
      "../data/testing_data/0536_lig_cg.pdb\n",
      "../data/testing_data/0537_lig_cg.pdb\n",
      "../data/testing_data/0538_lig_cg.pdb\n",
      "../data/testing_data/0539_lig_cg.pdb\n"
     ]
    },
    {
     "name": "stderr",
     "output_type": "stream",
     "text": [
      "539it [00:37, 16.66it/s]2018-10-27 21:26:14,468 - htmd.molecule.readers - WARNING - Non-integer values were read from the PDB \"resid\" field. Dropping PDB values and assigning new ones.\n",
      "2018-10-27 21:26:14,517 - htmd.molecule.readers - WARNING - Non-integer values were read from the PDB \"resid\" field. Dropping PDB values and assigning new ones.\n",
      "541it [00:37, 17.49it/s]2018-10-27 21:26:14,568 - htmd.molecule.readers - WARNING - Non-integer values were read from the PDB \"resid\" field. Dropping PDB values and assigning new ones.\n"
     ]
    },
    {
     "name": "stdout",
     "output_type": "stream",
     "text": [
      "../data/testing_data/0540_lig_cg.pdb\n",
      "../data/testing_data/0541_lig_cg.pdb\n",
      "../data/testing_data/0542_lig_cg.pdb\n"
     ]
    },
    {
     "name": "stderr",
     "output_type": "stream",
     "text": [
      "2018-10-27 21:26:14,690 - htmd.molecule.readers - WARNING - Non-integer values were read from the PDB \"resid\" field. Dropping PDB values and assigning new ones.\n",
      "543it [00:37, 15.10it/s]2018-10-27 21:26:14,742 - htmd.molecule.readers - WARNING - Non-integer values were read from the PDB \"resid\" field. Dropping PDB values and assigning new ones.\n",
      "2018-10-27 21:26:14,794 - htmd.molecule.readers - WARNING - Non-integer values were read from the PDB \"resid\" field. Dropping PDB values and assigning new ones.\n",
      "545it [00:37, 16.16it/s]2018-10-27 21:26:14,847 - htmd.molecule.readers - WARNING - Non-integer values were read from the PDB \"resid\" field. Dropping PDB values and assigning new ones.\n"
     ]
    },
    {
     "name": "stdout",
     "output_type": "stream",
     "text": [
      "../data/testing_data/0543_lig_cg.pdb\n",
      "../data/testing_data/0544_lig_cg.pdb\n",
      "../data/testing_data/0545_lig_cg.pdb\n",
      "../data/testing_data/0546_lig_cg.pdb\n"
     ]
    },
    {
     "name": "stderr",
     "output_type": "stream",
     "text": [
      "2018-10-27 21:26:14,898 - htmd.molecule.readers - WARNING - Non-integer values were read from the PDB \"resid\" field. Dropping PDB values and assigning new ones.\n",
      "547it [00:38, 16.88it/s]2018-10-27 21:26:14,957 - htmd.molecule.readers - WARNING - Non-integer values were read from the PDB \"resid\" field. Dropping PDB values and assigning new ones.\n",
      "2018-10-27 21:26:15,008 - htmd.molecule.readers - WARNING - Non-integer values were read from the PDB \"resid\" field. Dropping PDB values and assigning new ones.\n"
     ]
    },
    {
     "name": "stdout",
     "output_type": "stream",
     "text": [
      "../data/testing_data/0547_lig_cg.pdb\n",
      "../data/testing_data/0548_lig_cg.pdb\n",
      "../data/testing_data/0549_lig_cg.pdb\n"
     ]
    },
    {
     "name": "stderr",
     "output_type": "stream",
     "text": [
      "549it [00:38, 14.70it/s]2018-10-27 21:26:15,129 - htmd.molecule.readers - WARNING - Non-integer values were read from the PDB \"resid\" field. Dropping PDB values and assigning new ones.\n",
      "2018-10-27 21:26:15,181 - htmd.molecule.readers - WARNING - Non-integer values were read from the PDB \"resid\" field. Dropping PDB values and assigning new ones.\n",
      "551it [00:38, 15.62it/s]2018-10-27 21:26:15,238 - htmd.molecule.readers - WARNING - Non-integer values were read from the PDB \"resid\" field. Dropping PDB values and assigning new ones.\n",
      "2018-10-27 21:26:15,288 - htmd.molecule.readers - WARNING - Non-integer values were read from the PDB \"resid\" field. Dropping PDB values and assigning new ones.\n"
     ]
    },
    {
     "name": "stdout",
     "output_type": "stream",
     "text": [
      "../data/testing_data/0550_lig_cg.pdb\n",
      "../data/testing_data/0551_lig_cg.pdb\n",
      "../data/testing_data/0552_lig_cg.pdb\n",
      "../data/testing_data/0553_lig_cg.pdb\n"
     ]
    },
    {
     "name": "stderr",
     "output_type": "stream",
     "text": [
      "553it [00:38, 16.69it/s]2018-10-27 21:26:15,340 - htmd.molecule.readers - WARNING - Non-integer values were read from the PDB \"resid\" field. Dropping PDB values and assigning new ones.\n",
      "2018-10-27 21:26:15,399 - htmd.molecule.readers - WARNING - Non-integer values were read from the PDB \"resid\" field. Dropping PDB values and assigning new ones.\n",
      "555it [00:38, 17.05it/s]2018-10-27 21:26:15,452 - htmd.molecule.readers - WARNING - Non-integer values were read from the PDB \"resid\" field. Dropping PDB values and assigning new ones.\n"
     ]
    },
    {
     "name": "stdout",
     "output_type": "stream",
     "text": [
      "../data/testing_data/0554_lig_cg.pdb\n",
      "../data/testing_data/0555_lig_cg.pdb\n",
      "../data/testing_data/0556_lig_cg.pdb\n"
     ]
    },
    {
     "name": "stderr",
     "output_type": "stream",
     "text": [
      "2018-10-27 21:26:15,571 - htmd.molecule.readers - WARNING - Non-integer values were read from the PDB \"resid\" field. Dropping PDB values and assigning new ones.\n",
      "557it [00:38, 14.91it/s]2018-10-27 21:26:15,624 - htmd.molecule.readers - WARNING - Non-integer values were read from the PDB \"resid\" field. Dropping PDB values and assigning new ones.\n",
      "2018-10-27 21:26:15,675 - htmd.molecule.readers - WARNING - Non-integer values were read from the PDB \"resid\" field. Dropping PDB values and assigning new ones.\n",
      "559it [00:38, 16.05it/s]2018-10-27 21:26:15,727 - htmd.molecule.readers - WARNING - Non-integer values were read from the PDB \"resid\" field. Dropping PDB values and assigning new ones.\n"
     ]
    },
    {
     "name": "stdout",
     "output_type": "stream",
     "text": [
      "../data/testing_data/0557_lig_cg.pdb\n",
      "../data/testing_data/0558_lig_cg.pdb\n",
      "../data/testing_data/0559_lig_cg.pdb\n",
      "../data/testing_data/0560_lig_cg.pdb\n",
      "../data/testing_data/0561_lig_cg.pdb\n"
     ]
    },
    {
     "name": "stderr",
     "output_type": "stream",
     "text": [
      "2018-10-27 21:26:16,215 - htmd.molecule.readers - WARNING - Non-integer values were read from the PDB \"resid\" field. Dropping PDB values and assigning new ones.\n",
      "561it [00:39,  8.01it/s]2018-10-27 21:26:16,270 - htmd.molecule.readers - WARNING - Non-integer values were read from the PDB \"resid\" field. Dropping PDB values and assigning new ones.\n",
      "2018-10-27 21:26:16,320 - htmd.molecule.readers - WARNING - Non-integer values were read from the PDB \"resid\" field. Dropping PDB values and assigning new ones.\n",
      "563it [00:39,  8.84it/s]2018-10-27 21:26:16,440 - htmd.molecule.readers - WARNING - Non-integer values were read from the PDB \"resid\" field. Dropping PDB values and assigning new ones.\n"
     ]
    },
    {
     "name": "stdout",
     "output_type": "stream",
     "text": [
      "../data/testing_data/0562_lig_cg.pdb\n",
      "../data/testing_data/0563_lig_cg.pdb\n",
      "../data/testing_data/0564_lig_cg.pdb\n"
     ]
    },
    {
     "name": "stderr",
     "output_type": "stream",
     "text": [
      "2018-10-27 21:26:16,490 - htmd.molecule.readers - WARNING - Non-integer values were read from the PDB \"resid\" field. Dropping PDB values and assigning new ones.\n",
      "565it [00:39, 10.60it/s]2018-10-27 21:26:16,541 - htmd.molecule.readers - WARNING - Non-integer values were read from the PDB \"resid\" field. Dropping PDB values and assigning new ones.\n",
      "2018-10-27 21:26:16,590 - htmd.molecule.readers - WARNING - Non-integer values were read from the PDB \"resid\" field. Dropping PDB values and assigning new ones.\n",
      "567it [00:39, 12.31it/s]2018-10-27 21:26:16,643 - htmd.molecule.readers - WARNING - Non-integer values were read from the PDB \"resid\" field. Dropping PDB values and assigning new ones.\n"
     ]
    },
    {
     "name": "stdout",
     "output_type": "stream",
     "text": [
      "../data/testing_data/0565_lig_cg.pdb\n",
      "../data/testing_data/0566_lig_cg.pdb\n",
      "../data/testing_data/0567_lig_cg.pdb\n",
      "../data/testing_data/0568_lig_cg.pdb\n"
     ]
    },
    {
     "name": "stderr",
     "output_type": "stream",
     "text": [
      "2018-10-27 21:26:16,698 - htmd.molecule.readers - WARNING - Non-integer values were read from the PDB \"resid\" field. Dropping PDB values and assigning new ones.\n",
      "569it [00:39, 13.55it/s]2018-10-27 21:26:16,756 - htmd.molecule.readers - WARNING - Non-integer values were read from the PDB \"resid\" field. Dropping PDB values and assigning new ones.\n",
      "2018-10-27 21:26:16,875 - htmd.molecule.readers - WARNING - Non-integer values were read from the PDB \"resid\" field. Dropping PDB values and assigning new ones.\n"
     ]
    },
    {
     "name": "stdout",
     "output_type": "stream",
     "text": [
      "../data/testing_data/0569_lig_cg.pdb\n",
      "../data/testing_data/0570_lig_cg.pdb\n",
      "../data/testing_data/0571_lig_cg.pdb\n"
     ]
    },
    {
     "name": "stderr",
     "output_type": "stream",
     "text": [
      "571it [00:40, 12.93it/s]2018-10-27 21:26:16,927 - htmd.molecule.readers - WARNING - Non-integer values were read from the PDB \"resid\" field. Dropping PDB values and assigning new ones.\n",
      "2018-10-27 21:26:16,981 - htmd.molecule.readers - WARNING - Non-integer values were read from the PDB \"resid\" field. Dropping PDB values and assigning new ones.\n",
      "573it [00:40, 14.25it/s]2018-10-27 21:26:17,033 - htmd.molecule.readers - WARNING - Non-integer values were read from the PDB \"resid\" field. Dropping PDB values and assigning new ones.\n",
      "2018-10-27 21:26:17,083 - htmd.molecule.readers - WARNING - Non-integer values were read from the PDB \"resid\" field. Dropping PDB values and assigning new ones.\n"
     ]
    },
    {
     "name": "stdout",
     "output_type": "stream",
     "text": [
      "../data/testing_data/0572_lig_cg.pdb\n",
      "../data/testing_data/0573_lig_cg.pdb\n",
      "../data/testing_data/0574_lig_cg.pdb\n",
      "../data/testing_data/0575_lig_cg.pdb\n"
     ]
    },
    {
     "name": "stderr",
     "output_type": "stream",
     "text": [
      "575it [00:40, 15.51it/s]2018-10-27 21:26:17,135 - htmd.molecule.readers - WARNING - Non-integer values were read from the PDB \"resid\" field. Dropping PDB values and assigning new ones.\n",
      "2018-10-27 21:26:17,188 - htmd.molecule.readers - WARNING - Non-integer values were read from the PDB \"resid\" field. Dropping PDB values and assigning new ones.\n",
      "577it [00:40, 14.10it/s]2018-10-27 21:26:17,308 - htmd.molecule.readers - WARNING - Non-integer values were read from the PDB \"resid\" field. Dropping PDB values and assigning new ones.\n"
     ]
    },
    {
     "name": "stdout",
     "output_type": "stream",
     "text": [
      "../data/testing_data/0576_lig_cg.pdb\n",
      "../data/testing_data/0577_lig_cg.pdb\n",
      "../data/testing_data/0578_lig_cg.pdb\n"
     ]
    },
    {
     "name": "stderr",
     "output_type": "stream",
     "text": [
      "2018-10-27 21:26:17,361 - htmd.molecule.readers - WARNING - Non-integer values were read from the PDB \"resid\" field. Dropping PDB values and assigning new ones.\n",
      "579it [00:40, 15.30it/s]2018-10-27 21:26:17,414 - htmd.molecule.readers - WARNING - Non-integer values were read from the PDB \"resid\" field. Dropping PDB values and assigning new ones.\n",
      "2018-10-27 21:26:17,463 - htmd.molecule.readers - WARNING - Non-integer values were read from the PDB \"resid\" field. Dropping PDB values and assigning new ones.\n",
      "581it [00:40, 16.35it/s]2018-10-27 21:26:17,515 - htmd.molecule.readers - WARNING - Non-integer values were read from the PDB \"resid\" field. Dropping PDB values and assigning new ones.\n"
     ]
    },
    {
     "name": "stdout",
     "output_type": "stream",
     "text": [
      "../data/testing_data/0579_lig_cg.pdb\n",
      "../data/testing_data/0580_lig_cg.pdb\n",
      "../data/testing_data/0581_lig_cg.pdb\n",
      "../data/testing_data/0582_lig_cg.pdb\n"
     ]
    },
    {
     "name": "stderr",
     "output_type": "stream",
     "text": [
      "2018-10-27 21:26:17,567 - htmd.molecule.readers - WARNING - Non-integer values were read from the PDB \"resid\" field. Dropping PDB values and assigning new ones.\n",
      "583it [00:40, 14.45it/s]2018-10-27 21:26:17,692 - htmd.molecule.readers - WARNING - Non-integer values were read from the PDB \"resid\" field. Dropping PDB values and assigning new ones.\n",
      "2018-10-27 21:26:17,743 - htmd.molecule.readers - WARNING - Non-integer values were read from the PDB \"resid\" field. Dropping PDB values and assigning new ones.\n"
     ]
    },
    {
     "name": "stdout",
     "output_type": "stream",
     "text": [
      "../data/testing_data/0583_lig_cg.pdb\n",
      "../data/testing_data/0584_lig_cg.pdb\n",
      "../data/testing_data/0585_lig_cg.pdb\n"
     ]
    },
    {
     "name": "stderr",
     "output_type": "stream",
     "text": [
      "585it [00:40, 15.56it/s]2018-10-27 21:26:17,798 - htmd.molecule.readers - WARNING - Non-integer values were read from the PDB \"resid\" field. Dropping PDB values and assigning new ones.\n",
      "2018-10-27 21:26:17,849 - htmd.molecule.readers - WARNING - Non-integer values were read from the PDB \"resid\" field. Dropping PDB values and assigning new ones.\n",
      "587it [00:41, 16.22it/s]2018-10-27 21:26:17,909 - htmd.molecule.readers - WARNING - Non-integer values were read from the PDB \"resid\" field. Dropping PDB values and assigning new ones.\n",
      "2018-10-27 21:26:17,959 - htmd.molecule.readers - WARNING - Non-integer values were read from the PDB \"resid\" field. Dropping PDB values and assigning new ones.\n"
     ]
    },
    {
     "name": "stdout",
     "output_type": "stream",
     "text": [
      "../data/testing_data/0586_lig_cg.pdb\n",
      "../data/testing_data/0587_lig_cg.pdb\n",
      "../data/testing_data/0588_lig_cg.pdb\n",
      "../data/testing_data/0589_lig_cg.pdb\n"
     ]
    },
    {
     "name": "stderr",
     "output_type": "stream",
     "text": [
      "589it [00:41, 17.08it/s]2018-10-27 21:26:18,010 - htmd.molecule.readers - WARNING - Non-integer values were read from the PDB \"resid\" field. Dropping PDB values and assigning new ones.\n",
      "2018-10-27 21:26:18,129 - htmd.molecule.readers - WARNING - Non-integer values were read from the PDB \"resid\" field. Dropping PDB values and assigning new ones.\n",
      "591it [00:41, 14.98it/s]2018-10-27 21:26:18,182 - htmd.molecule.readers - WARNING - Non-integer values were read from the PDB \"resid\" field. Dropping PDB values and assigning new ones.\n"
     ]
    },
    {
     "name": "stdout",
     "output_type": "stream",
     "text": [
      "../data/testing_data/0590_lig_cg.pdb\n",
      "../data/testing_data/0591_lig_cg.pdb\n",
      "../data/testing_data/0592_lig_cg.pdb\n"
     ]
    },
    {
     "name": "stderr",
     "output_type": "stream",
     "text": [
      "2018-10-27 21:26:18,233 - htmd.molecule.readers - WARNING - Non-integer values were read from the PDB \"resid\" field. Dropping PDB values and assigning new ones.\n",
      "593it [00:41, 16.09it/s]2018-10-27 21:26:18,284 - htmd.molecule.readers - WARNING - Non-integer values were read from the PDB \"resid\" field. Dropping PDB values and assigning new ones.\n",
      "2018-10-27 21:26:18,335 - htmd.molecule.readers - WARNING - Non-integer values were read from the PDB \"resid\" field. Dropping PDB values and assigning new ones.\n",
      "595it [00:41, 17.05it/s]2018-10-27 21:26:18,387 - htmd.molecule.readers - WARNING - Non-integer values were read from the PDB \"resid\" field. Dropping PDB values and assigning new ones.\n"
     ]
    },
    {
     "name": "stdout",
     "output_type": "stream",
     "text": [
      "../data/testing_data/0593_lig_cg.pdb\n",
      "../data/testing_data/0594_lig_cg.pdb\n",
      "../data/testing_data/0595_lig_cg.pdb\n",
      "../data/testing_data/0596_lig_cg.pdb\n"
     ]
    },
    {
     "name": "stderr",
     "output_type": "stream",
     "text": [
      "2018-10-27 21:26:18,444 - htmd.molecule.readers - WARNING - Non-integer values were read from the PDB \"resid\" field. Dropping PDB values and assigning new ones.\n",
      "597it [00:41, 14.73it/s]2018-10-27 21:26:18,564 - htmd.molecule.readers - WARNING - Non-integer values were read from the PDB \"resid\" field. Dropping PDB values and assigning new ones.\n",
      "2018-10-27 21:26:18,614 - htmd.molecule.readers - WARNING - Non-integer values were read from the PDB \"resid\" field. Dropping PDB values and assigning new ones.\n"
     ]
    },
    {
     "name": "stdout",
     "output_type": "stream",
     "text": [
      "../data/testing_data/0597_lig_cg.pdb\n",
      "../data/testing_data/0598_lig_cg.pdb\n",
      "../data/testing_data/0599_lig_cg.pdb\n"
     ]
    },
    {
     "name": "stderr",
     "output_type": "stream",
     "text": [
      "599it [00:41, 15.92it/s]2018-10-27 21:26:18,666 - htmd.molecule.readers - WARNING - Non-integer values were read from the PDB \"resid\" field. Dropping PDB values and assigning new ones.\n",
      "2018-10-27 21:26:18,717 - htmd.molecule.readers - WARNING - Non-integer values were read from the PDB \"resid\" field. Dropping PDB values and assigning new ones.\n",
      "601it [00:41, 16.89it/s]2018-10-27 21:26:18,768 - htmd.molecule.readers - WARNING - Non-integer values were read from the PDB \"resid\" field. Dropping PDB values and assigning new ones.\n",
      "2018-10-27 21:26:18,818 - htmd.molecule.readers - WARNING - Non-integer values were read from the PDB \"resid\" field. Dropping PDB values and assigning new ones.\n"
     ]
    },
    {
     "name": "stdout",
     "output_type": "stream",
     "text": [
      "../data/testing_data/0600_lig_cg.pdb\n",
      "../data/testing_data/0601_lig_cg.pdb\n",
      "../data/testing_data/0602_lig_cg.pdb\n",
      "../data/testing_data/0603_lig_cg.pdb\n"
     ]
    },
    {
     "name": "stderr",
     "output_type": "stream",
     "text": [
      "603it [00:41, 17.67it/s]2018-10-27 21:26:18,871 - htmd.molecule.readers - WARNING - Non-integer values were read from the PDB \"resid\" field. Dropping PDB values and assigning new ones.\n",
      "2018-10-27 21:26:18,991 - htmd.molecule.readers - WARNING - Non-integer values were read from the PDB \"resid\" field. Dropping PDB values and assigning new ones.\n",
      "605it [00:42, 15.25it/s]2018-10-27 21:26:19,041 - htmd.molecule.readers - WARNING - Non-integer values were read from the PDB \"resid\" field. Dropping PDB values and assigning new ones.\n"
     ]
    },
    {
     "name": "stdout",
     "output_type": "stream",
     "text": [
      "../data/testing_data/0604_lig_cg.pdb\n",
      "../data/testing_data/0605_lig_cg.pdb\n",
      "../data/testing_data/0606_lig_cg.pdb\n"
     ]
    },
    {
     "name": "stderr",
     "output_type": "stream",
     "text": [
      "2018-10-27 21:26:19,094 - htmd.molecule.readers - WARNING - Non-integer values were read from the PDB \"resid\" field. Dropping PDB values and assigning new ones.\n",
      "607it [00:42, 16.22it/s]2018-10-27 21:26:19,150 - htmd.molecule.readers - WARNING - Non-integer values were read from the PDB \"resid\" field. Dropping PDB values and assigning new ones.\n",
      "2018-10-27 21:26:19,200 - htmd.molecule.readers - WARNING - Non-integer values were read from the PDB \"resid\" field. Dropping PDB values and assigning new ones.\n",
      "609it [00:42, 16.99it/s]2018-10-27 21:26:19,251 - htmd.molecule.readers - WARNING - Non-integer values were read from the PDB \"resid\" field. Dropping PDB values and assigning new ones.\n"
     ]
    },
    {
     "name": "stdout",
     "output_type": "stream",
     "text": [
      "../data/testing_data/0607_lig_cg.pdb\n",
      "../data/testing_data/0608_lig_cg.pdb\n",
      "../data/testing_data/0609_lig_cg.pdb\n",
      "../data/testing_data/0610_lig_cg.pdb\n"
     ]
    },
    {
     "name": "stderr",
     "output_type": "stream",
     "text": [
      "2018-10-27 21:26:19,302 - htmd.molecule.readers - WARNING - Non-integer values were read from the PDB \"resid\" field. Dropping PDB values and assigning new ones.\n",
      "611it [00:42, 14.93it/s]2018-10-27 21:26:19,428 - htmd.molecule.readers - WARNING - Non-integer values were read from the PDB \"resid\" field. Dropping PDB values and assigning new ones.\n",
      "2018-10-27 21:26:19,482 - htmd.molecule.readers - WARNING - Non-integer values were read from the PDB \"resid\" field. Dropping PDB values and assigning new ones.\n"
     ]
    },
    {
     "name": "stdout",
     "output_type": "stream",
     "text": [
      "../data/testing_data/0611_lig_cg.pdb\n",
      "../data/testing_data/0612_lig_cg.pdb\n",
      "../data/testing_data/0613_lig_cg.pdb\n"
     ]
    },
    {
     "name": "stderr",
     "output_type": "stream",
     "text": [
      "613it [00:42, 15.75it/s]2018-10-27 21:26:19,534 - htmd.molecule.readers - WARNING - Non-integer values were read from the PDB \"resid\" field. Dropping PDB values and assigning new ones.\n",
      "2018-10-27 21:26:19,584 - htmd.molecule.readers - WARNING - Non-integer values were read from the PDB \"resid\" field. Dropping PDB values and assigning new ones.\n",
      "615it [00:42, 16.77it/s]2018-10-27 21:26:19,635 - htmd.molecule.readers - WARNING - Non-integer values were read from the PDB \"resid\" field. Dropping PDB values and assigning new ones.\n",
      "2018-10-27 21:26:19,685 - htmd.molecule.readers - WARNING - Non-integer values were read from the PDB \"resid\" field. Dropping PDB values and assigning new ones.\n"
     ]
    },
    {
     "name": "stdout",
     "output_type": "stream",
     "text": [
      "../data/testing_data/0614_lig_cg.pdb\n",
      "../data/testing_data/0615_lig_cg.pdb\n",
      "../data/testing_data/0616_lig_cg.pdb\n",
      "../data/testing_data/0617_lig_cg.pdb\n"
     ]
    },
    {
     "name": "stderr",
     "output_type": "stream",
     "text": [
      "617it [00:42, 16.94it/s]2018-10-27 21:26:19,750 - htmd.molecule.readers - WARNING - Non-integer values were read from the PDB \"resid\" field. Dropping PDB values and assigning new ones.\n",
      "2018-10-27 21:26:19,870 - htmd.molecule.readers - WARNING - Non-integer values were read from the PDB \"resid\" field. Dropping PDB values and assigning new ones.\n",
      "619it [00:43, 14.95it/s]2018-10-27 21:26:19,922 - htmd.molecule.readers - WARNING - Non-integer values were read from the PDB \"resid\" field. Dropping PDB values and assigning new ones.\n"
     ]
    },
    {
     "name": "stdout",
     "output_type": "stream",
     "text": [
      "../data/testing_data/0618_lig_cg.pdb\n",
      "../data/testing_data/0619_lig_cg.pdb\n",
      "../data/testing_data/0620_lig_cg.pdb\n"
     ]
    },
    {
     "name": "stderr",
     "output_type": "stream",
     "text": [
      "2018-10-27 21:26:19,974 - htmd.molecule.readers - WARNING - Non-integer values were read from the PDB \"resid\" field. Dropping PDB values and assigning new ones.\n",
      "621it [00:43, 15.91it/s]2018-10-27 21:26:20,029 - htmd.molecule.readers - WARNING - Non-integer values were read from the PDB \"resid\" field. Dropping PDB values and assigning new ones.\n",
      "2018-10-27 21:26:20,079 - htmd.molecule.readers - WARNING - Non-integer values were read from the PDB \"resid\" field. Dropping PDB values and assigning new ones.\n",
      "623it [00:43, 16.88it/s]2018-10-27 21:26:20,130 - htmd.molecule.readers - WARNING - Non-integer values were read from the PDB \"resid\" field. Dropping PDB values and assigning new ones.\n"
     ]
    },
    {
     "name": "stdout",
     "output_type": "stream",
     "text": [
      "../data/testing_data/0621_lig_cg.pdb\n",
      "../data/testing_data/0622_lig_cg.pdb\n",
      "../data/testing_data/0623_lig_cg.pdb\n",
      "../data/testing_data/0624_lig_cg.pdb\n"
     ]
    },
    {
     "name": "stderr",
     "output_type": "stream",
     "text": [
      "2018-10-27 21:26:20,181 - htmd.molecule.readers - WARNING - Non-integer values were read from the PDB \"resid\" field. Dropping PDB values and assigning new ones.\n",
      "625it [00:43, 14.81it/s]2018-10-27 21:26:20,303 - htmd.molecule.readers - WARNING - Non-integer values were read from the PDB \"resid\" field. Dropping PDB values and assigning new ones.\n",
      "2018-10-27 21:26:20,353 - htmd.molecule.readers - WARNING - Non-integer values were read from the PDB \"resid\" field. Dropping PDB values and assigning new ones.\n"
     ]
    },
    {
     "name": "stdout",
     "output_type": "stream",
     "text": [
      "../data/testing_data/0625_lig_cg.pdb\n",
      "../data/testing_data/0626_lig_cg.pdb\n",
      "../data/testing_data/0627_lig_cg.pdb\n"
     ]
    },
    {
     "name": "stderr",
     "output_type": "stream",
     "text": [
      "627it [00:43, 15.95it/s]2018-10-27 21:26:20,408 - htmd.molecule.readers - WARNING - Non-integer values were read from the PDB \"resid\" field. Dropping PDB values and assigning new ones.\n",
      "2018-10-27 21:26:20,459 - htmd.molecule.readers - WARNING - Non-integer values were read from the PDB \"resid\" field. Dropping PDB values and assigning new ones.\n",
      "629it [00:43, 16.79it/s]2018-10-27 21:26:20,512 - htmd.molecule.readers - WARNING - Non-integer values were read from the PDB \"resid\" field. Dropping PDB values and assigning new ones.\n",
      "2018-10-27 21:26:20,564 - htmd.molecule.readers - WARNING - Non-integer values were read from the PDB \"resid\" field. Dropping PDB values and assigning new ones.\n"
     ]
    },
    {
     "name": "stdout",
     "output_type": "stream",
     "text": [
      "../data/testing_data/0628_lig_cg.pdb\n",
      "../data/testing_data/0629_lig_cg.pdb\n",
      "../data/testing_data/0630_lig_cg.pdb\n",
      "../data/testing_data/0631_lig_cg.pdb\n"
     ]
    },
    {
     "name": "stderr",
     "output_type": "stream",
     "text": [
      "631it [00:43, 17.27it/s]2018-10-27 21:26:20,619 - htmd.molecule.readers - WARNING - Non-integer values were read from the PDB \"resid\" field. Dropping PDB values and assigning new ones.\n",
      "2018-10-27 21:26:20,740 - htmd.molecule.readers - WARNING - Non-integer values were read from the PDB \"resid\" field. Dropping PDB values and assigning new ones.\n",
      "633it [00:43, 15.00it/s]2018-10-27 21:26:20,794 - htmd.molecule.readers - WARNING - Non-integer values were read from the PDB \"resid\" field. Dropping PDB values and assigning new ones.\n"
     ]
    },
    {
     "name": "stdout",
     "output_type": "stream",
     "text": [
      "../data/testing_data/0632_lig_cg.pdb\n",
      "../data/testing_data/0633_lig_cg.pdb\n",
      "../data/testing_data/0634_lig_cg.pdb\n"
     ]
    },
    {
     "name": "stderr",
     "output_type": "stream",
     "text": [
      "2018-10-27 21:26:20,846 - htmd.molecule.readers - WARNING - Non-integer values were read from the PDB \"resid\" field. Dropping PDB values and assigning new ones.\n",
      "635it [00:44, 15.96it/s]2018-10-27 21:26:20,900 - htmd.molecule.readers - WARNING - Non-integer values were read from the PDB \"resid\" field. Dropping PDB values and assigning new ones.\n",
      "2018-10-27 21:26:20,954 - htmd.molecule.readers - WARNING - Non-integer values were read from the PDB \"resid\" field. Dropping PDB values and assigning new ones.\n",
      "637it [00:44, 16.20it/s]2018-10-27 21:26:21,020 - htmd.molecule.readers - WARNING - Non-integer values were read from the PDB \"resid\" field. Dropping PDB values and assigning new ones.\n"
     ]
    },
    {
     "name": "stdout",
     "output_type": "stream",
     "text": [
      "../data/testing_data/0635_lig_cg.pdb\n",
      "../data/testing_data/0636_lig_cg.pdb\n",
      "../data/testing_data/0637_lig_cg.pdb\n",
      "../data/testing_data/0638_lig_cg.pdb\n"
     ]
    },
    {
     "name": "stderr",
     "output_type": "stream",
     "text": [
      "2018-10-27 21:26:21,140 - htmd.molecule.readers - WARNING - Non-integer values were read from the PDB \"resid\" field. Dropping PDB values and assigning new ones.\n",
      "639it [00:44, 14.49it/s]2018-10-27 21:26:21,190 - htmd.molecule.readers - WARNING - Non-integer values were read from the PDB \"resid\" field. Dropping PDB values and assigning new ones.\n",
      "2018-10-27 21:26:21,240 - htmd.molecule.readers - WARNING - Non-integer values were read from the PDB \"resid\" field. Dropping PDB values and assigning new ones.\n",
      "641it [00:44, 15.61it/s]2018-10-27 21:26:21,314 - htmd.molecule.readers - WARNING - Non-integer values were read from the PDB \"resid\" field. Dropping PDB values and assigning new ones.\n"
     ]
    },
    {
     "name": "stdout",
     "output_type": "stream",
     "text": [
      "../data/testing_data/0639_lig_cg.pdb\n",
      "../data/testing_data/0640_lig_cg.pdb\n",
      "../data/testing_data/0641_lig_cg.pdb\n",
      "../data/testing_data/0642_lig_cg.pdb\n"
     ]
    },
    {
     "name": "stderr",
     "output_type": "stream",
     "text": [
      "2018-10-27 21:26:21,391 - htmd.molecule.readers - WARNING - Non-integer values were read from the PDB \"resid\" field. Dropping PDB values and assigning new ones.\n",
      "643it [00:44, 14.50it/s]2018-10-27 21:26:21,462 - htmd.molecule.readers - WARNING - Non-integer values were read from the PDB \"resid\" field. Dropping PDB values and assigning new ones.\n",
      "2018-10-27 21:26:21,533 - htmd.molecule.readers - WARNING - Non-integer values were read from the PDB \"resid\" field. Dropping PDB values and assigning new ones.\n"
     ]
    },
    {
     "name": "stdout",
     "output_type": "stream",
     "text": [
      "../data/testing_data/0643_lig_cg.pdb\n",
      "../data/testing_data/0644_lig_cg.pdb\n",
      "../data/testing_data/0645_lig_cg.pdb\n"
     ]
    },
    {
     "name": "stderr",
     "output_type": "stream",
     "text": [
      "645it [00:44, 12.36it/s]2018-10-27 21:26:21,680 - htmd.molecule.readers - WARNING - Non-integer values were read from the PDB \"resid\" field. Dropping PDB values and assigning new ones.\n",
      "2018-10-27 21:26:21,747 - htmd.molecule.readers - WARNING - Non-integer values were read from the PDB \"resid\" field. Dropping PDB values and assigning new ones.\n",
      "647it [00:44, 12.95it/s]2018-10-27 21:26:21,817 - htmd.molecule.readers - WARNING - Non-integer values were read from the PDB \"resid\" field. Dropping PDB values and assigning new ones.\n"
     ]
    },
    {
     "name": "stdout",
     "output_type": "stream",
     "text": [
      "../data/testing_data/0646_lig_cg.pdb\n",
      "../data/testing_data/0647_lig_cg.pdb\n",
      "../data/testing_data/0648_lig_cg.pdb\n"
     ]
    },
    {
     "name": "stderr",
     "output_type": "stream",
     "text": [
      "2018-10-27 21:26:21,878 - htmd.molecule.readers - WARNING - Non-integer values were read from the PDB \"resid\" field. Dropping PDB values and assigning new ones.\n",
      "649it [00:45, 13.93it/s]2018-10-27 21:26:21,931 - htmd.molecule.readers - WARNING - Non-integer values were read from the PDB \"resid\" field. Dropping PDB values and assigning new ones.\n",
      "2018-10-27 21:26:22,000 - htmd.molecule.readers - WARNING - Non-integer values were read from the PDB \"resid\" field. Dropping PDB values and assigning new ones.\n",
      "651it [00:45, 14.56it/s]2018-10-27 21:26:22,053 - htmd.molecule.readers - WARNING - Non-integer values were read from the PDB \"resid\" field. Dropping PDB values and assigning new ones.\n"
     ]
    },
    {
     "name": "stdout",
     "output_type": "stream",
     "text": [
      "../data/testing_data/0649_lig_cg.pdb\n",
      "../data/testing_data/0650_lig_cg.pdb\n",
      "../data/testing_data/0651_lig_cg.pdb\n",
      "../data/testing_data/0652_lig_cg.pdb\n"
     ]
    },
    {
     "name": "stderr",
     "output_type": "stream",
     "text": [
      "2018-10-27 21:26:22,176 - htmd.molecule.readers - WARNING - Non-integer values were read from the PDB \"resid\" field. Dropping PDB values and assigning new ones.\n",
      "653it [00:45, 13.48it/s]2018-10-27 21:26:22,226 - htmd.molecule.readers - WARNING - Non-integer values were read from the PDB \"resid\" field. Dropping PDB values and assigning new ones.\n",
      "2018-10-27 21:26:22,277 - htmd.molecule.readers - WARNING - Non-integer values were read from the PDB \"resid\" field. Dropping PDB values and assigning new ones.\n",
      "655it [00:45, 14.83it/s]2018-10-27 21:26:22,331 - htmd.molecule.readers - WARNING - Non-integer values were read from the PDB \"resid\" field. Dropping PDB values and assigning new ones.\n"
     ]
    },
    {
     "name": "stdout",
     "output_type": "stream",
     "text": [
      "../data/testing_data/0653_lig_cg.pdb\n",
      "../data/testing_data/0654_lig_cg.pdb\n",
      "../data/testing_data/0655_lig_cg.pdb\n",
      "../data/testing_data/0656_lig_cg.pdb\n"
     ]
    },
    {
     "name": "stderr",
     "output_type": "stream",
     "text": [
      "2018-10-27 21:26:22,381 - htmd.molecule.readers - WARNING - Non-integer values were read from the PDB \"resid\" field. Dropping PDB values and assigning new ones.\n",
      "657it [00:45, 15.96it/s]2018-10-27 21:26:22,436 - htmd.molecule.readers - WARNING - Non-integer values were read from the PDB \"resid\" field. Dropping PDB values and assigning new ones.\n",
      "2018-10-27 21:26:22,487 - htmd.molecule.readers - WARNING - Non-integer values were read from the PDB \"resid\" field. Dropping PDB values and assigning new ones.\n"
     ]
    },
    {
     "name": "stdout",
     "output_type": "stream",
     "text": [
      "../data/testing_data/0657_lig_cg.pdb\n",
      "../data/testing_data/0658_lig_cg.pdb\n",
      "../data/testing_data/0659_lig_cg.pdb\n"
     ]
    },
    {
     "name": "stderr",
     "output_type": "stream",
     "text": [
      "659it [00:45, 14.26it/s]2018-10-27 21:26:22,608 - htmd.molecule.readers - WARNING - Non-integer values were read from the PDB \"resid\" field. Dropping PDB values and assigning new ones.\n",
      "2018-10-27 21:26:22,657 - htmd.molecule.readers - WARNING - Non-integer values were read from the PDB \"resid\" field. Dropping PDB values and assigning new ones.\n",
      "2018-10-27 21:26:22,706 - htmd.molecule.readers - WARNING - Non-integer values were read from the PDB \"resid\" field. Dropping PDB values and assigning new ones.\n",
      "662it [00:45, 15.64it/s]2018-10-27 21:26:22,756 - htmd.molecule.readers - WARNING - Non-integer values were read from the PDB \"resid\" field. Dropping PDB values and assigning new ones.\n"
     ]
    },
    {
     "name": "stdout",
     "output_type": "stream",
     "text": [
      "../data/testing_data/0660_lig_cg.pdb\n",
      "../data/testing_data/0661_lig_cg.pdb\n",
      "../data/testing_data/0662_lig_cg.pdb\n",
      "../data/testing_data/0663_lig_cg.pdb\n",
      "../data/testing_data/0664_lig_cg.pdb\n"
     ]
    },
    {
     "name": "stderr",
     "output_type": "stream",
     "text": [
      "2018-10-27 21:26:22,808 - htmd.molecule.readers - WARNING - Non-integer values were read from the PDB \"resid\" field. Dropping PDB values and assigning new ones.\n",
      "664it [00:45, 16.65it/s]2018-10-27 21:26:22,859 - htmd.molecule.readers - WARNING - Non-integer values were read from the PDB \"resid\" field. Dropping PDB values and assigning new ones.\n",
      "2018-10-27 21:26:22,909 - htmd.molecule.readers - WARNING - Non-integer values were read from the PDB \"resid\" field. Dropping PDB values and assigning new ones.\n",
      "666it [00:46, 14.83it/s]2018-10-27 21:26:23,028 - htmd.molecule.readers - WARNING - Non-integer values were read from the PDB \"resid\" field. Dropping PDB values and assigning new ones.\n"
     ]
    },
    {
     "name": "stdout",
     "output_type": "stream",
     "text": [
      "../data/testing_data/0665_lig_cg.pdb\n",
      "../data/testing_data/0666_lig_cg.pdb\n",
      "../data/testing_data/0667_lig_cg.pdb\n"
     ]
    },
    {
     "name": "stderr",
     "output_type": "stream",
     "text": [
      "2018-10-27 21:26:23,080 - htmd.molecule.readers - WARNING - Non-integer values were read from the PDB \"resid\" field. Dropping PDB values and assigning new ones.\n",
      "668it [00:46, 15.94it/s]2018-10-27 21:26:23,132 - htmd.molecule.readers - WARNING - Non-integer values were read from the PDB \"resid\" field. Dropping PDB values and assigning new ones.\n",
      "2018-10-27 21:26:23,183 - htmd.molecule.readers - WARNING - Non-integer values were read from the PDB \"resid\" field. Dropping PDB values and assigning new ones.\n",
      "670it [00:46, 16.91it/s]2018-10-27 21:26:23,233 - htmd.molecule.readers - WARNING - Non-integer values were read from the PDB \"resid\" field. Dropping PDB values and assigning new ones.\n"
     ]
    },
    {
     "name": "stdout",
     "output_type": "stream",
     "text": [
      "../data/testing_data/0668_lig_cg.pdb\n",
      "../data/testing_data/0669_lig_cg.pdb\n",
      "../data/testing_data/0670_lig_cg.pdb\n",
      "../data/testing_data/0671_lig_cg.pdb\n"
     ]
    },
    {
     "name": "stderr",
     "output_type": "stream",
     "text": [
      "2018-10-27 21:26:23,285 - htmd.molecule.readers - WARNING - Non-integer values were read from the PDB \"resid\" field. Dropping PDB values and assigning new ones.\n",
      "672it [00:46, 17.50it/s]2018-10-27 21:26:23,338 - htmd.molecule.readers - WARNING - Non-integer values were read from the PDB \"resid\" field. Dropping PDB values and assigning new ones.\n",
      "2018-10-27 21:26:23,456 - htmd.molecule.readers - WARNING - Non-integer values were read from the PDB \"resid\" field. Dropping PDB values and assigning new ones.\n"
     ]
    },
    {
     "name": "stdout",
     "output_type": "stream",
     "text": [
      "../data/testing_data/0672_lig_cg.pdb\n",
      "../data/testing_data/0673_lig_cg.pdb\n",
      "../data/testing_data/0674_lig_cg.pdb\n"
     ]
    },
    {
     "name": "stderr",
     "output_type": "stream",
     "text": [
      "674it [00:46, 15.25it/s]2018-10-27 21:26:23,508 - htmd.molecule.readers - WARNING - Non-integer values were read from the PDB \"resid\" field. Dropping PDB values and assigning new ones.\n",
      "2018-10-27 21:26:23,558 - htmd.molecule.readers - WARNING - Non-integer values were read from the PDB \"resid\" field. Dropping PDB values and assigning new ones.\n",
      "676it [00:46, 16.38it/s]2018-10-27 21:26:23,611 - htmd.molecule.readers - WARNING - Non-integer values were read from the PDB \"resid\" field. Dropping PDB values and assigning new ones.\n",
      "2018-10-27 21:26:23,662 - htmd.molecule.readers - WARNING - Non-integer values were read from the PDB \"resid\" field. Dropping PDB values and assigning new ones.\n"
     ]
    },
    {
     "name": "stdout",
     "output_type": "stream",
     "text": [
      "../data/testing_data/0675_lig_cg.pdb\n",
      "../data/testing_data/0676_lig_cg.pdb\n",
      "../data/testing_data/0677_lig_cg.pdb\n",
      "../data/testing_data/0678_lig_cg.pdb\n"
     ]
    },
    {
     "name": "stderr",
     "output_type": "stream",
     "text": [
      "678it [00:46, 17.07it/s]2018-10-27 21:26:23,716 - htmd.molecule.readers - WARNING - Non-integer values were read from the PDB \"resid\" field. Dropping PDB values and assigning new ones.\n",
      "2018-10-27 21:26:23,766 - htmd.molecule.readers - WARNING - Non-integer values were read from the PDB \"resid\" field. Dropping PDB values and assigning new ones.\n",
      "680it [00:47, 14.97it/s]2018-10-27 21:26:23,888 - htmd.molecule.readers - WARNING - Non-integer values were read from the PDB \"resid\" field. Dropping PDB values and assigning new ones.\n"
     ]
    },
    {
     "name": "stdout",
     "output_type": "stream",
     "text": [
      "../data/testing_data/0679_lig_cg.pdb\n",
      "../data/testing_data/0680_lig_cg.pdb\n",
      "../data/testing_data/0681_lig_cg.pdb\n"
     ]
    },
    {
     "name": "stderr",
     "output_type": "stream",
     "text": [
      "2018-10-27 21:26:23,938 - htmd.molecule.readers - WARNING - Non-integer values were read from the PDB \"resid\" field. Dropping PDB values and assigning new ones.\n",
      "682it [00:47, 16.06it/s]2018-10-27 21:26:23,992 - htmd.molecule.readers - WARNING - Non-integer values were read from the PDB \"resid\" field. Dropping PDB values and assigning new ones.\n",
      "2018-10-27 21:26:24,042 - htmd.molecule.readers - WARNING - Non-integer values were read from the PDB \"resid\" field. Dropping PDB values and assigning new ones.\n",
      "684it [00:47, 16.93it/s]2018-10-27 21:26:24,093 - htmd.molecule.readers - WARNING - Non-integer values were read from the PDB \"resid\" field. Dropping PDB values and assigning new ones.\n"
     ]
    },
    {
     "name": "stdout",
     "output_type": "stream",
     "text": [
      "../data/testing_data/0682_lig_cg.pdb\n",
      "../data/testing_data/0683_lig_cg.pdb\n",
      "../data/testing_data/0684_lig_cg.pdb\n",
      "../data/testing_data/0685_lig_cg.pdb\n"
     ]
    },
    {
     "name": "stderr",
     "output_type": "stream",
     "text": [
      "2018-10-27 21:26:24,147 - htmd.molecule.readers - WARNING - Non-integer values were read from the PDB \"resid\" field. Dropping PDB values and assigning new ones.\n",
      "686it [00:47, 17.41it/s]2018-10-27 21:26:24,201 - htmd.molecule.readers - WARNING - Non-integer values were read from the PDB \"resid\" field. Dropping PDB values and assigning new ones.\n",
      "2018-10-27 21:26:24,319 - htmd.molecule.readers - WARNING - Non-integer values were read from the PDB \"resid\" field. Dropping PDB values and assigning new ones.\n"
     ]
    },
    {
     "name": "stdout",
     "output_type": "stream",
     "text": [
      "../data/testing_data/0686_lig_cg.pdb\n",
      "../data/testing_data/0687_lig_cg.pdb\n",
      "../data/testing_data/0688_lig_cg.pdb\n"
     ]
    },
    {
     "name": "stderr",
     "output_type": "stream",
     "text": [
      "688it [00:47, 15.14it/s]2018-10-27 21:26:24,373 - htmd.molecule.readers - WARNING - Non-integer values were read from the PDB \"resid\" field. Dropping PDB values and assigning new ones.\n",
      "2018-10-27 21:26:24,425 - htmd.molecule.readers - WARNING - Non-integer values were read from the PDB \"resid\" field. Dropping PDB values and assigning new ones.\n",
      "690it [00:47, 16.23it/s]2018-10-27 21:26:24,477 - htmd.molecule.readers - WARNING - Non-integer values were read from the PDB \"resid\" field. Dropping PDB values and assigning new ones.\n",
      "2018-10-27 21:26:24,526 - htmd.molecule.readers - WARNING - Non-integer values were read from the PDB \"resid\" field. Dropping PDB values and assigning new ones.\n"
     ]
    },
    {
     "name": "stdout",
     "output_type": "stream",
     "text": [
      "../data/testing_data/0689_lig_cg.pdb\n",
      "../data/testing_data/0690_lig_cg.pdb\n",
      "../data/testing_data/0691_lig_cg.pdb\n",
      "../data/testing_data/0692_lig_cg.pdb\n"
     ]
    },
    {
     "name": "stderr",
     "output_type": "stream",
     "text": [
      "692it [00:47, 17.07it/s]2018-10-27 21:26:24,579 - htmd.molecule.readers - WARNING - Non-integer values were read from the PDB \"resid\" field. Dropping PDB values and assigning new ones.\n",
      "2018-10-27 21:26:24,699 - htmd.molecule.readers - WARNING - Non-integer values were read from the PDB \"resid\" field. Dropping PDB values and assigning new ones.\n",
      "694it [00:47, 14.97it/s]2018-10-27 21:26:24,750 - htmd.molecule.readers - WARNING - Non-integer values were read from the PDB \"resid\" field. Dropping PDB values and assigning new ones.\n"
     ]
    },
    {
     "name": "stdout",
     "output_type": "stream",
     "text": [
      "../data/testing_data/0693_lig_cg.pdb\n",
      "../data/testing_data/0694_lig_cg.pdb\n",
      "../data/testing_data/0695_lig_cg.pdb\n"
     ]
    },
    {
     "name": "stderr",
     "output_type": "stream",
     "text": [
      "2018-10-27 21:26:24,803 - htmd.molecule.readers - WARNING - Non-integer values were read from the PDB \"resid\" field. Dropping PDB values and assigning new ones.\n",
      "696it [00:47, 16.00it/s]2018-10-27 21:26:24,856 - htmd.molecule.readers - WARNING - Non-integer values were read from the PDB \"resid\" field. Dropping PDB values and assigning new ones.\n",
      "2018-10-27 21:26:24,908 - htmd.molecule.readers - WARNING - Non-integer values were read from the PDB \"resid\" field. Dropping PDB values and assigning new ones.\n",
      "698it [00:48, 16.73it/s]2018-10-27 21:26:24,962 - htmd.molecule.readers - WARNING - Non-integer values were read from the PDB \"resid\" field. Dropping PDB values and assigning new ones.\n"
     ]
    },
    {
     "name": "stdout",
     "output_type": "stream",
     "text": [
      "../data/testing_data/0696_lig_cg.pdb\n",
      "../data/testing_data/0697_lig_cg.pdb\n",
      "../data/testing_data/0698_lig_cg.pdb\n",
      "../data/testing_data/0699_lig_cg.pdb\n"
     ]
    },
    {
     "name": "stderr",
     "output_type": "stream",
     "text": [
      "2018-10-27 21:26:25,014 - htmd.molecule.readers - WARNING - Non-integer values were read from the PDB \"resid\" field. Dropping PDB values and assigning new ones.\n",
      "700it [00:48, 14.77it/s]2018-10-27 21:26:25,135 - htmd.molecule.readers - WARNING - Non-integer values were read from the PDB \"resid\" field. Dropping PDB values and assigning new ones.\n",
      "2018-10-27 21:26:25,184 - htmd.molecule.readers - WARNING - Non-integer values were read from the PDB \"resid\" field. Dropping PDB values and assigning new ones.\n"
     ]
    },
    {
     "name": "stdout",
     "output_type": "stream",
     "text": [
      "../data/testing_data/0700_lig_cg.pdb\n",
      "../data/testing_data/0701_lig_cg.pdb\n",
      "../data/testing_data/0702_lig_cg.pdb\n"
     ]
    },
    {
     "name": "stderr",
     "output_type": "stream",
     "text": [
      "702it [00:48, 15.96it/s]2018-10-27 21:26:25,236 - htmd.molecule.readers - WARNING - Non-integer values were read from the PDB \"resid\" field. Dropping PDB values and assigning new ones.\n",
      "2018-10-27 21:26:25,289 - htmd.molecule.readers - WARNING - Non-integer values were read from the PDB \"resid\" field. Dropping PDB values and assigning new ones.\n",
      "704it [00:48, 16.77it/s]2018-10-27 21:26:25,342 - htmd.molecule.readers - WARNING - Non-integer values were read from the PDB \"resid\" field. Dropping PDB values and assigning new ones.\n",
      "2018-10-27 21:26:25,394 - htmd.molecule.readers - WARNING - Non-integer values were read from the PDB \"resid\" field. Dropping PDB values and assigning new ones.\n"
     ]
    },
    {
     "name": "stdout",
     "output_type": "stream",
     "text": [
      "../data/testing_data/0703_lig_cg.pdb\n",
      "../data/testing_data/0704_lig_cg.pdb\n",
      "../data/testing_data/0705_lig_cg.pdb\n",
      "../data/testing_data/0706_lig_cg.pdb\n"
     ]
    },
    {
     "name": "stderr",
     "output_type": "stream",
     "text": [
      "706it [00:48, 17.39it/s]2018-10-27 21:26:25,447 - htmd.molecule.readers - WARNING - Non-integer values were read from the PDB \"resid\" field. Dropping PDB values and assigning new ones.\n",
      "2018-10-27 21:26:25,569 - htmd.molecule.readers - WARNING - Non-integer values were read from the PDB \"resid\" field. Dropping PDB values and assigning new ones.\n",
      "708it [00:48, 15.06it/s]2018-10-27 21:26:25,621 - htmd.molecule.readers - WARNING - Non-integer values were read from the PDB \"resid\" field. Dropping PDB values and assigning new ones.\n"
     ]
    },
    {
     "name": "stdout",
     "output_type": "stream",
     "text": [
      "../data/testing_data/0707_lig_cg.pdb\n",
      "../data/testing_data/0708_lig_cg.pdb\n",
      "../data/testing_data/0709_lig_cg.pdb\n"
     ]
    },
    {
     "name": "stderr",
     "output_type": "stream",
     "text": [
      "2018-10-27 21:26:25,674 - htmd.molecule.readers - WARNING - Non-integer values were read from the PDB \"resid\" field. Dropping PDB values and assigning new ones.\n",
      "710it [00:48, 16.06it/s]2018-10-27 21:26:25,726 - htmd.molecule.readers - WARNING - Non-integer values were read from the PDB \"resid\" field. Dropping PDB values and assigning new ones.\n",
      "2018-10-27 21:26:25,778 - htmd.molecule.readers - WARNING - Non-integer values were read from the PDB \"resid\" field. Dropping PDB values and assigning new ones.\n",
      "712it [00:48, 16.46it/s]2018-10-27 21:26:25,853 - htmd.molecule.readers - WARNING - Non-integer values were read from the PDB \"resid\" field. Dropping PDB values and assigning new ones.\n"
     ]
    },
    {
     "name": "stdout",
     "output_type": "stream",
     "text": [
      "../data/testing_data/0710_lig_cg.pdb\n",
      "../data/testing_data/0711_lig_cg.pdb\n",
      "../data/testing_data/0712_lig_cg.pdb\n",
      "../data/testing_data/0713_lig_cg.pdb\n"
     ]
    },
    {
     "name": "stderr",
     "output_type": "stream",
     "text": [
      "2018-10-27 21:26:25,924 - htmd.molecule.readers - WARNING - Non-integer values were read from the PDB \"resid\" field. Dropping PDB values and assigning new ones.\n",
      "714it [00:49, 13.12it/s]2018-10-27 21:26:26,065 - htmd.molecule.readers - WARNING - Non-integer values were read from the PDB \"resid\" field. Dropping PDB values and assigning new ones.\n"
     ]
    },
    {
     "name": "stdout",
     "output_type": "stream",
     "text": [
      "../data/testing_data/0714_lig_cg.pdb\n",
      "../data/testing_data/0715_lig_cg.pdb\n"
     ]
    },
    {
     "name": "stderr",
     "output_type": "stream",
     "text": [
      "2018-10-27 21:26:26,117 - htmd.molecule.readers - WARNING - Non-integer values were read from the PDB \"resid\" field. Dropping PDB values and assigning new ones.\n",
      "716it [00:49, 14.44it/s]2018-10-27 21:26:26,171 - htmd.molecule.readers - WARNING - Non-integer values were read from the PDB \"resid\" field. Dropping PDB values and assigning new ones.\n",
      "2018-10-27 21:26:26,225 - htmd.molecule.readers - WARNING - Non-integer values were read from the PDB \"resid\" field. Dropping PDB values and assigning new ones.\n",
      "718it [00:49, 15.08it/s]2018-10-27 21:26:26,295 - htmd.molecule.readers - WARNING - Non-integer values were read from the PDB \"resid\" field. Dropping PDB values and assigning new ones.\n"
     ]
    },
    {
     "name": "stdout",
     "output_type": "stream",
     "text": [
      "../data/testing_data/0716_lig_cg.pdb\n",
      "../data/testing_data/0717_lig_cg.pdb\n",
      "../data/testing_data/0718_lig_cg.pdb\n",
      "../data/testing_data/0719_lig_cg.pdb\n"
     ]
    },
    {
     "name": "stderr",
     "output_type": "stream",
     "text": [
      "2018-10-27 21:26:26,364 - htmd.molecule.readers - WARNING - Non-integer values were read from the PDB \"resid\" field. Dropping PDB values and assigning new ones.\n",
      "720it [00:49, 14.87it/s]2018-10-27 21:26:26,439 - htmd.molecule.readers - WARNING - Non-integer values were read from the PDB \"resid\" field. Dropping PDB values and assigning new ones.\n"
     ]
    },
    {
     "name": "stdout",
     "output_type": "stream",
     "text": [
      "../data/testing_data/0720_lig_cg.pdb\n",
      "../data/testing_data/0721_lig_cg.pdb\n",
      "../data/testing_data/0722_lig_cg.pdb\n"
     ]
    },
    {
     "name": "stderr",
     "output_type": "stream",
     "text": [
      "2018-10-27 21:26:26,559 - htmd.molecule.readers - WARNING - Non-integer values were read from the PDB \"resid\" field. Dropping PDB values and assigning new ones.\n",
      "722it [00:49, 13.47it/s]2018-10-27 21:26:26,609 - htmd.molecule.readers - WARNING - Non-integer values were read from the PDB \"resid\" field. Dropping PDB values and assigning new ones.\n",
      "2018-10-27 21:26:26,659 - htmd.molecule.readers - WARNING - Non-integer values were read from the PDB \"resid\" field. Dropping PDB values and assigning new ones.\n",
      "2018-10-27 21:26:26,707 - htmd.molecule.readers - WARNING - Non-integer values were read from the PDB \"resid\" field. Dropping PDB values and assigning new ones.\n",
      "725it [00:49, 15.01it/s]2018-10-27 21:26:26,758 - htmd.molecule.readers - WARNING - Non-integer values were read from the PDB \"resid\" field. Dropping PDB values and assigning new ones.\n"
     ]
    },
    {
     "name": "stdout",
     "output_type": "stream",
     "text": [
      "../data/testing_data/0723_lig_cg.pdb\n",
      "../data/testing_data/0724_lig_cg.pdb\n",
      "../data/testing_data/0725_lig_cg.pdb\n",
      "../data/testing_data/0726_lig_cg.pdb\n",
      "../data/testing_data/0727_lig_cg.pdb\n"
     ]
    },
    {
     "name": "stderr",
     "output_type": "stream",
     "text": [
      "2018-10-27 21:26:26,812 - htmd.molecule.readers - WARNING - Non-integer values were read from the PDB \"resid\" field. Dropping PDB values and assigning new ones.\n",
      "727it [00:49, 15.94it/s]2018-10-27 21:26:26,867 - htmd.molecule.readers - WARNING - Non-integer values were read from the PDB \"resid\" field. Dropping PDB values and assigning new ones.\n",
      "2018-10-27 21:26:26,986 - htmd.molecule.readers - WARNING - Non-integer values were read from the PDB \"resid\" field. Dropping PDB values and assigning new ones.\n",
      "729it [00:50, 14.29it/s]2018-10-27 21:26:27,039 - htmd.molecule.readers - WARNING - Non-integer values were read from the PDB \"resid\" field. Dropping PDB values and assigning new ones.\n"
     ]
    },
    {
     "name": "stdout",
     "output_type": "stream",
     "text": [
      "../data/testing_data/0728_lig_cg.pdb\n",
      "../data/testing_data/0729_lig_cg.pdb\n",
      "../data/testing_data/0730_lig_cg.pdb\n"
     ]
    },
    {
     "name": "stderr",
     "output_type": "stream",
     "text": [
      "2018-10-27 21:26:27,094 - htmd.molecule.readers - WARNING - Non-integer values were read from the PDB \"resid\" field. Dropping PDB values and assigning new ones.\n",
      "731it [00:50, 15.37it/s]2018-10-27 21:26:27,145 - htmd.molecule.readers - WARNING - Non-integer values were read from the PDB \"resid\" field. Dropping PDB values and assigning new ones.\n",
      "2018-10-27 21:26:27,200 - htmd.molecule.readers - WARNING - Non-integer values were read from the PDB \"resid\" field. Dropping PDB values and assigning new ones.\n",
      "733it [00:50, 16.25it/s]2018-10-27 21:26:27,252 - htmd.molecule.readers - WARNING - Non-integer values were read from the PDB \"resid\" field. Dropping PDB values and assigning new ones.\n"
     ]
    },
    {
     "name": "stdout",
     "output_type": "stream",
     "text": [
      "../data/testing_data/0731_lig_cg.pdb\n",
      "../data/testing_data/0732_lig_cg.pdb\n",
      "../data/testing_data/0733_lig_cg.pdb\n",
      "../data/testing_data/0734_lig_cg.pdb\n"
     ]
    },
    {
     "name": "stderr",
     "output_type": "stream",
     "text": [
      "2018-10-27 21:26:27,303 - htmd.molecule.readers - WARNING - Non-integer values were read from the PDB \"resid\" field. Dropping PDB values and assigning new ones.\n",
      "735it [00:50, 14.47it/s]2018-10-27 21:26:27,425 - htmd.molecule.readers - WARNING - Non-integer values were read from the PDB \"resid\" field. Dropping PDB values and assigning new ones.\n",
      "2018-10-27 21:26:27,475 - htmd.molecule.readers - WARNING - Non-integer values were read from the PDB \"resid\" field. Dropping PDB values and assigning new ones.\n"
     ]
    },
    {
     "name": "stdout",
     "output_type": "stream",
     "text": [
      "../data/testing_data/0735_lig_cg.pdb\n",
      "../data/testing_data/0736_lig_cg.pdb\n",
      "../data/testing_data/0737_lig_cg.pdb\n"
     ]
    },
    {
     "name": "stderr",
     "output_type": "stream",
     "text": [
      "737it [00:50, 15.71it/s]2018-10-27 21:26:27,526 - htmd.molecule.readers - WARNING - Non-integer values were read from the PDB \"resid\" field. Dropping PDB values and assigning new ones.\n",
      "2018-10-27 21:26:27,578 - htmd.molecule.readers - WARNING - Non-integer values were read from the PDB \"resid\" field. Dropping PDB values and assigning new ones.\n",
      "739it [00:50, 16.69it/s]2018-10-27 21:26:27,630 - htmd.molecule.readers - WARNING - Non-integer values were read from the PDB \"resid\" field. Dropping PDB values and assigning new ones.\n",
      "2018-10-27 21:26:27,681 - htmd.molecule.readers - WARNING - Non-integer values were read from the PDB \"resid\" field. Dropping PDB values and assigning new ones.\n"
     ]
    },
    {
     "name": "stdout",
     "output_type": "stream",
     "text": [
      "../data/testing_data/0738_lig_cg.pdb\n",
      "../data/testing_data/0739_lig_cg.pdb\n",
      "../data/testing_data/0740_lig_cg.pdb\n",
      "../data/testing_data/0741_lig_cg.pdb\n"
     ]
    },
    {
     "name": "stderr",
     "output_type": "stream",
     "text": [
      "741it [00:50, 17.43it/s]2018-10-27 21:26:27,732 - htmd.molecule.readers - WARNING - Non-integer values were read from the PDB \"resid\" field. Dropping PDB values and assigning new ones.\n",
      "2018-10-27 21:26:27,850 - htmd.molecule.readers - WARNING - Non-integer values were read from the PDB \"resid\" field. Dropping PDB values and assigning new ones.\n",
      "743it [00:51, 15.22it/s]2018-10-27 21:26:27,902 - htmd.molecule.readers - WARNING - Non-integer values were read from the PDB \"resid\" field. Dropping PDB values and assigning new ones.\n"
     ]
    },
    {
     "name": "stdout",
     "output_type": "stream",
     "text": [
      "../data/testing_data/0742_lig_cg.pdb\n",
      "../data/testing_data/0743_lig_cg.pdb\n",
      "../data/testing_data/0744_lig_cg.pdb\n"
     ]
    },
    {
     "name": "stderr",
     "output_type": "stream",
     "text": [
      "2018-10-27 21:26:27,954 - htmd.molecule.readers - WARNING - Non-integer values were read from the PDB \"resid\" field. Dropping PDB values and assigning new ones.\n",
      "745it [00:51, 16.30it/s]2018-10-27 21:26:28,005 - htmd.molecule.readers - WARNING - Non-integer values were read from the PDB \"resid\" field. Dropping PDB values and assigning new ones.\n",
      "2018-10-27 21:26:28,055 - htmd.molecule.readers - WARNING - Non-integer values were read from the PDB \"resid\" field. Dropping PDB values and assigning new ones.\n",
      "747it [00:51, 17.20it/s]2018-10-27 21:26:28,106 - htmd.molecule.readers - WARNING - Non-integer values were read from the PDB \"resid\" field. Dropping PDB values and assigning new ones.\n"
     ]
    },
    {
     "name": "stdout",
     "output_type": "stream",
     "text": [
      "../data/testing_data/0745_lig_cg.pdb\n",
      "../data/testing_data/0746_lig_cg.pdb\n",
      "../data/testing_data/0747_lig_cg.pdb\n",
      "../data/testing_data/0748_lig_cg.pdb\n"
     ]
    },
    {
     "name": "stderr",
     "output_type": "stream",
     "text": [
      "2018-10-27 21:26:28,225 - htmd.molecule.readers - WARNING - Non-integer values were read from the PDB \"resid\" field. Dropping PDB values and assigning new ones.\n",
      "749it [00:51, 15.08it/s]2018-10-27 21:26:28,278 - htmd.molecule.readers - WARNING - Non-integer values were read from the PDB \"resid\" field. Dropping PDB values and assigning new ones.\n",
      "2018-10-27 21:26:28,329 - htmd.molecule.readers - WARNING - Non-integer values were read from the PDB \"resid\" field. Dropping PDB values and assigning new ones.\n",
      "751it [00:51, 16.09it/s]2018-10-27 21:26:28,382 - htmd.molecule.readers - WARNING - Non-integer values were read from the PDB \"resid\" field. Dropping PDB values and assigning new ones.\n"
     ]
    },
    {
     "name": "stdout",
     "output_type": "stream",
     "text": [
      "../data/testing_data/0749_lig_cg.pdb\n",
      "../data/testing_data/0750_lig_cg.pdb\n",
      "../data/testing_data/0751_lig_cg.pdb\n",
      "../data/testing_data/0752_lig_cg.pdb\n"
     ]
    },
    {
     "name": "stderr",
     "output_type": "stream",
     "text": [
      "2018-10-27 21:26:28,435 - htmd.molecule.readers - WARNING - Non-integer values were read from the PDB \"resid\" field. Dropping PDB values and assigning new ones.\n",
      "753it [00:51, 16.92it/s]2018-10-27 21:26:28,486 - htmd.molecule.readers - WARNING - Non-integer values were read from the PDB \"resid\" field. Dropping PDB values and assigning new ones.\n",
      "2018-10-27 21:26:28,536 - htmd.molecule.readers - WARNING - Non-integer values were read from the PDB \"resid\" field. Dropping PDB values and assigning new ones.\n"
     ]
    },
    {
     "name": "stdout",
     "output_type": "stream",
     "text": [
      "../data/testing_data/0753_lig_cg.pdb\n",
      "../data/testing_data/0754_lig_cg.pdb\n",
      "../data/testing_data/0755_lig_cg.pdb\n"
     ]
    },
    {
     "name": "stderr",
     "output_type": "stream",
     "text": [
      "755it [00:51, 14.89it/s]2018-10-27 21:26:28,658 - htmd.molecule.readers - WARNING - Non-integer values were read from the PDB \"resid\" field. Dropping PDB values and assigning new ones.\n",
      "2018-10-27 21:26:28,707 - htmd.molecule.readers - WARNING - Non-integer values were read from the PDB \"resid\" field. Dropping PDB values and assigning new ones.\n",
      "2018-10-27 21:26:28,756 - htmd.molecule.readers - WARNING - Non-integer values were read from the PDB \"resid\" field. Dropping PDB values and assigning new ones.\n",
      "758it [00:51, 16.12it/s]2018-10-27 21:26:28,809 - htmd.molecule.readers - WARNING - Non-integer values were read from the PDB \"resid\" field. Dropping PDB values and assigning new ones.\n"
     ]
    },
    {
     "name": "stdout",
     "output_type": "stream",
     "text": [
      "../data/testing_data/0756_lig_cg.pdb\n",
      "../data/testing_data/0757_lig_cg.pdb\n",
      "../data/testing_data/0758_lig_cg.pdb\n",
      "../data/testing_data/0759_lig_cg.pdb\n"
     ]
    },
    {
     "name": "stderr",
     "output_type": "stream",
     "text": [
      "2018-10-27 21:26:28,861 - htmd.molecule.readers - WARNING - Non-integer values were read from the PDB \"resid\" field. Dropping PDB values and assigning new ones.\n",
      "760it [00:52, 16.88it/s]2018-10-27 21:26:28,915 - htmd.molecule.readers - WARNING - Non-integer values were read from the PDB \"resid\" field. Dropping PDB values and assigning new ones.\n",
      "2018-10-27 21:26:28,966 - htmd.molecule.readers - WARNING - Non-integer values were read from the PDB \"resid\" field. Dropping PDB values and assigning new ones.\n"
     ]
    },
    {
     "name": "stdout",
     "output_type": "stream",
     "text": [
      "../data/testing_data/0760_lig_cg.pdb\n",
      "../data/testing_data/0761_lig_cg.pdb\n",
      "../data/testing_data/0762_lig_cg.pdb\n"
     ]
    },
    {
     "name": "stderr",
     "output_type": "stream",
     "text": [
      "762it [00:52, 14.11it/s]2018-10-27 21:26:29,122 - htmd.molecule.readers - WARNING - Non-integer values were read from the PDB \"resid\" field. Dropping PDB values and assigning new ones.\n",
      "2018-10-27 21:26:29,198 - htmd.molecule.readers - WARNING - Non-integer values were read from the PDB \"resid\" field. Dropping PDB values and assigning new ones.\n",
      "764it [00:52, 13.74it/s]2018-10-27 21:26:29,277 - htmd.molecule.readers - WARNING - Non-integer values were read from the PDB \"resid\" field. Dropping PDB values and assigning new ones.\n"
     ]
    },
    {
     "name": "stdout",
     "output_type": "stream",
     "text": [
      "../data/testing_data/0763_lig_cg.pdb\n",
      "../data/testing_data/0764_lig_cg.pdb\n",
      "../data/testing_data/0765_lig_cg.pdb\n"
     ]
    },
    {
     "name": "stderr",
     "output_type": "stream",
     "text": [
      "2018-10-27 21:26:29,335 - htmd.molecule.readers - WARNING - Non-integer values were read from the PDB \"resid\" field. Dropping PDB values and assigning new ones.\n",
      "766it [00:52, 14.32it/s]2018-10-27 21:26:29,391 - htmd.molecule.readers - WARNING - Non-integer values were read from the PDB \"resid\" field. Dropping PDB values and assigning new ones.\n",
      "2018-10-27 21:26:29,445 - htmd.molecule.readers - WARNING - Non-integer values were read from the PDB \"resid\" field. Dropping PDB values and assigning new ones.\n",
      "768it [00:52, 15.29it/s]2018-10-27 21:26:29,502 - htmd.molecule.readers - WARNING - Non-integer values were read from the PDB \"resid\" field. Dropping PDB values and assigning new ones.\n"
     ]
    },
    {
     "name": "stdout",
     "output_type": "stream",
     "text": [
      "../data/testing_data/0766_lig_cg.pdb\n",
      "../data/testing_data/0767_lig_cg.pdb\n",
      "../data/testing_data/0768_lig_cg.pdb\n",
      "../data/testing_data/0769_lig_cg.pdb\n"
     ]
    },
    {
     "name": "stderr",
     "output_type": "stream",
     "text": [
      "2018-10-27 21:26:29,629 - htmd.molecule.readers - WARNING - Non-integer values were read from the PDB \"resid\" field. Dropping PDB values and assigning new ones.\n",
      "770it [00:52, 13.63it/s]2018-10-27 21:26:29,687 - htmd.molecule.readers - WARNING - Non-integer values were read from the PDB \"resid\" field. Dropping PDB values and assigning new ones.\n",
      "2018-10-27 21:26:29,743 - htmd.molecule.readers - WARNING - Non-integer values were read from the PDB \"resid\" field. Dropping PDB values and assigning new ones.\n",
      "772it [00:52, 14.66it/s]2018-10-27 21:26:29,800 - htmd.molecule.readers - WARNING - Non-integer values were read from the PDB \"resid\" field. Dropping PDB values and assigning new ones.\n"
     ]
    },
    {
     "name": "stdout",
     "output_type": "stream",
     "text": [
      "../data/testing_data/0770_lig_cg.pdb\n",
      "../data/testing_data/0771_lig_cg.pdb\n",
      "../data/testing_data/0772_lig_cg.pdb\n",
      "../data/testing_data/0773_lig_cg.pdb\n"
     ]
    },
    {
     "name": "stderr",
     "output_type": "stream",
     "text": [
      "2018-10-27 21:26:29,854 - htmd.molecule.readers - WARNING - Non-integer values were read from the PDB \"resid\" field. Dropping PDB values and assigning new ones.\n",
      "774it [00:53, 15.58it/s]2018-10-27 21:26:29,906 - htmd.molecule.readers - WARNING - Non-integer values were read from the PDB \"resid\" field. Dropping PDB values and assigning new ones.\n",
      "2018-10-27 21:26:29,959 - htmd.molecule.readers - WARNING - Non-integer values were read from the PDB \"resid\" field. Dropping PDB values and assigning new ones.\n"
     ]
    },
    {
     "name": "stdout",
     "output_type": "stream",
     "text": [
      "../data/testing_data/0774_lig_cg.pdb\n",
      "../data/testing_data/0775_lig_cg.pdb\n",
      "../data/testing_data/0776_lig_cg.pdb\n"
     ]
    },
    {
     "name": "stderr",
     "output_type": "stream",
     "text": [
      "776it [00:53, 13.96it/s]2018-10-27 21:26:30,084 - htmd.molecule.readers - WARNING - Non-integer values were read from the PDB \"resid\" field. Dropping PDB values and assigning new ones.\n",
      "2018-10-27 21:26:30,134 - htmd.molecule.readers - WARNING - Non-integer values were read from the PDB \"resid\" field. Dropping PDB values and assigning new ones.\n",
      "778it [00:53, 15.22it/s]2018-10-27 21:26:30,189 - htmd.molecule.readers - WARNING - Non-integer values were read from the PDB \"resid\" field. Dropping PDB values and assigning new ones.\n",
      "2018-10-27 21:26:30,239 - htmd.molecule.readers - WARNING - Non-integer values were read from the PDB \"resid\" field. Dropping PDB values and assigning new ones.\n"
     ]
    },
    {
     "name": "stdout",
     "output_type": "stream",
     "text": [
      "../data/testing_data/0777_lig_cg.pdb\n",
      "../data/testing_data/0778_lig_cg.pdb\n",
      "../data/testing_data/0779_lig_cg.pdb\n",
      "../data/testing_data/0780_lig_cg.pdb\n"
     ]
    },
    {
     "name": "stderr",
     "output_type": "stream",
     "text": [
      "780it [00:53, 16.24it/s]2018-10-27 21:26:30,294 - htmd.molecule.readers - WARNING - Non-integer values were read from the PDB \"resid\" field. Dropping PDB values and assigning new ones.\n",
      "2018-10-27 21:26:30,346 - htmd.molecule.readers - WARNING - Non-integer values were read from the PDB \"resid\" field. Dropping PDB values and assigning new ones.\n",
      "782it [00:53, 16.91it/s]2018-10-27 21:26:30,400 - htmd.molecule.readers - WARNING - Non-integer values were read from the PDB \"resid\" field. Dropping PDB values and assigning new ones.\n"
     ]
    },
    {
     "name": "stdout",
     "output_type": "stream",
     "text": [
      "../data/testing_data/0781_lig_cg.pdb\n",
      "../data/testing_data/0782_lig_cg.pdb\n",
      "../data/testing_data/0783_lig_cg.pdb\n"
     ]
    },
    {
     "name": "stderr",
     "output_type": "stream",
     "text": [
      "2018-10-27 21:26:30,542 - htmd.molecule.readers - WARNING - Non-integer values were read from the PDB \"resid\" field. Dropping PDB values and assigning new ones.\n",
      "784it [00:53, 14.12it/s]2018-10-27 21:26:30,605 - htmd.molecule.readers - WARNING - Non-integer values were read from the PDB \"resid\" field. Dropping PDB values and assigning new ones.\n",
      "2018-10-27 21:26:30,673 - htmd.molecule.readers - WARNING - Non-integer values were read from the PDB \"resid\" field. Dropping PDB values and assigning new ones.\n",
      "786it [00:53, 14.03it/s]"
     ]
    },
    {
     "name": "stdout",
     "output_type": "stream",
     "text": [
      "../data/testing_data/0784_lig_cg.pdb\n",
      "../data/testing_data/0785_lig_cg.pdb\n",
      "../data/testing_data/0786_lig_cg.pdb\n"
     ]
    },
    {
     "name": "stderr",
     "output_type": "stream",
     "text": [
      "2018-10-27 21:26:30,742 - htmd.molecule.readers - WARNING - Non-integer values were read from the PDB \"resid\" field. Dropping PDB values and assigning new ones.\n",
      "2018-10-27 21:26:30,819 - htmd.molecule.readers - WARNING - Non-integer values were read from the PDB \"resid\" field. Dropping PDB values and assigning new ones.\n",
      "788it [00:53, 14.20it/s]2018-10-27 21:26:30,887 - htmd.molecule.readers - WARNING - Non-integer values were read from the PDB \"resid\" field. Dropping PDB values and assigning new ones.\n",
      "2018-10-27 21:26:30,962 - htmd.molecule.readers - WARNING - Non-integer values were read from the PDB \"resid\" field. Dropping PDB values and assigning new ones.\n"
     ]
    },
    {
     "name": "stdout",
     "output_type": "stream",
     "text": [
      "../data/testing_data/0787_lig_cg.pdb\n",
      "../data/testing_data/0788_lig_cg.pdb\n",
      "../data/testing_data/0789_lig_cg.pdb\n",
      "../data/testing_data/0790_lig_cg.pdb\n"
     ]
    },
    {
     "name": "stderr",
     "output_type": "stream",
     "text": [
      "790it [00:54, 12.01it/s]2018-10-27 21:26:31,119 - htmd.molecule.readers - WARNING - Non-integer values were read from the PDB \"resid\" field. Dropping PDB values and assigning new ones.\n",
      "2018-10-27 21:26:31,219 - htmd.molecule.readers - WARNING - Non-integer values were read from the PDB \"resid\" field. Dropping PDB values and assigning new ones.\n",
      "792it [00:54, 11.60it/s]2018-10-27 21:26:31,291 - htmd.molecule.readers - WARNING - Non-integer values were read from the PDB \"resid\" field. Dropping PDB values and assigning new ones.\n"
     ]
    },
    {
     "name": "stdout",
     "output_type": "stream",
     "text": [
      "../data/testing_data/0791_lig_cg.pdb\n",
      "../data/testing_data/0792_lig_cg.pdb\n",
      "../data/testing_data/0793_lig_cg.pdb\n"
     ]
    },
    {
     "name": "stderr",
     "output_type": "stream",
     "text": [
      "2018-10-27 21:26:31,363 - htmd.molecule.readers - WARNING - Non-integer values were read from the PDB \"resid\" field. Dropping PDB values and assigning new ones.\n",
      "794it [00:54, 12.25it/s]2018-10-27 21:26:31,449 - htmd.molecule.readers - WARNING - Non-integer values were read from the PDB \"resid\" field. Dropping PDB values and assigning new ones.\n"
     ]
    },
    {
     "name": "stdout",
     "output_type": "stream",
     "text": [
      "../data/testing_data/0794_lig_cg.pdb\n",
      "../data/testing_data/0795_lig_cg.pdb\n",
      "../data/testing_data/0796_lig_cg.pdb\n"
     ]
    },
    {
     "name": "stderr",
     "output_type": "stream",
     "text": [
      "2018-10-27 21:26:31,537 - htmd.molecule.readers - WARNING - Non-integer values were read from the PDB \"resid\" field. Dropping PDB values and assigning new ones.\n",
      "796it [00:54, 11.87it/s]2018-10-27 21:26:31,615 - htmd.molecule.readers - WARNING - Non-integer values were read from the PDB \"resid\" field. Dropping PDB values and assigning new ones.\n"
     ]
    },
    {
     "name": "stdout",
     "output_type": "stream",
     "text": [
      "../data/testing_data/0797_lig_cg.pdb\n",
      "../data/testing_data/0798_lig_cg.pdb\n"
     ]
    },
    {
     "name": "stderr",
     "output_type": "stream",
     "text": [
      "2018-10-27 21:26:31,812 - htmd.molecule.readers - WARNING - Non-integer values were read from the PDB \"resid\" field. Dropping PDB values and assigning new ones.\n",
      "798it [00:55,  9.84it/s]2018-10-27 21:26:31,901 - htmd.molecule.readers - WARNING - Non-integer values were read from the PDB \"resid\" field. Dropping PDB values and assigning new ones.\n",
      "2018-10-27 21:26:31,965 - htmd.molecule.readers - WARNING - Non-integer values were read from the PDB \"resid\" field. Dropping PDB values and assigning new ones.\n",
      "800it [00:55, 11.02it/s]2018-10-27 21:26:32,041 - htmd.molecule.readers - WARNING - Non-integer values were read from the PDB \"resid\" field. Dropping PDB values and assigning new ones.\n"
     ]
    },
    {
     "name": "stdout",
     "output_type": "stream",
     "text": [
      "../data/testing_data/0799_lig_cg.pdb\n",
      "../data/testing_data/0800_lig_cg.pdb\n",
      "../data/testing_data/0801_lig_cg.pdb\n"
     ]
    },
    {
     "name": "stderr",
     "output_type": "stream",
     "text": [
      "2018-10-27 21:26:32,123 - htmd.molecule.readers - WARNING - Non-integer values were read from the PDB \"resid\" field. Dropping PDB values and assigning new ones.\n",
      "802it [00:55, 11.30it/s]2018-10-27 21:26:32,203 - htmd.molecule.readers - WARNING - Non-integer values were read from the PDB \"resid\" field. Dropping PDB values and assigning new ones.\n"
     ]
    },
    {
     "name": "stdout",
     "output_type": "stream",
     "text": [
      "../data/testing_data/0802_lig_cg.pdb\n",
      "../data/testing_data/0803_lig_cg.pdb\n"
     ]
    },
    {
     "name": "stderr",
     "output_type": "stream",
     "text": [
      "2018-10-27 21:26:32,367 - htmd.molecule.readers - WARNING - Non-integer values were read from the PDB \"resid\" field. Dropping PDB values and assigning new ones.\n",
      "804it [00:55, 10.05it/s]2018-10-27 21:26:32,452 - htmd.molecule.readers - WARNING - Non-integer values were read from the PDB \"resid\" field. Dropping PDB values and assigning new ones.\n",
      "2018-10-27 21:26:32,529 - htmd.molecule.readers - WARNING - Non-integer values were read from the PDB \"resid\" field. Dropping PDB values and assigning new ones.\n"
     ]
    },
    {
     "name": "stdout",
     "output_type": "stream",
     "text": [
      "../data/testing_data/0804_lig_cg.pdb\n",
      "../data/testing_data/0805_lig_cg.pdb\n",
      "../data/testing_data/0806_lig_cg.pdb\n"
     ]
    },
    {
     "name": "stderr",
     "output_type": "stream",
     "text": [
      "806it [00:55, 10.81it/s]2018-10-27 21:26:32,598 - htmd.molecule.readers - WARNING - Non-integer values were read from the PDB \"resid\" field. Dropping PDB values and assigning new ones.\n",
      "2018-10-27 21:26:32,671 - htmd.molecule.readers - WARNING - Non-integer values were read from the PDB \"resid\" field. Dropping PDB values and assigning new ones.\n",
      "808it [00:55, 11.91it/s]2018-10-27 21:26:32,731 - htmd.molecule.readers - WARNING - Non-integer values were read from the PDB \"resid\" field. Dropping PDB values and assigning new ones.\n"
     ]
    },
    {
     "name": "stdout",
     "output_type": "stream",
     "text": [
      "../data/testing_data/0807_lig_cg.pdb\n",
      "../data/testing_data/0808_lig_cg.pdb\n",
      "../data/testing_data/0809_lig_cg.pdb\n",
      "../data/testing_data/0810_lig_cg.pdb\n"
     ]
    },
    {
     "name": "stderr",
     "output_type": "stream",
     "text": [
      "2018-10-27 21:26:32,804 - htmd.molecule.readers - WARNING - Non-integer values were read from the PDB \"resid\" field. Dropping PDB values and assigning new ones.\n",
      "810it [00:56, 10.94it/s]2018-10-27 21:26:32,946 - htmd.molecule.readers - WARNING - Non-integer values were read from the PDB \"resid\" field. Dropping PDB values and assigning new ones.\n",
      "2018-10-27 21:26:33,023 - htmd.molecule.readers - WARNING - Non-integer values were read from the PDB \"resid\" field. Dropping PDB values and assigning new ones.\n",
      "812it [00:56, 11.76it/s]2018-10-27 21:26:33,091 - htmd.molecule.readers - WARNING - Non-integer values were read from the PDB \"resid\" field. Dropping PDB values and assigning new ones.\n"
     ]
    },
    {
     "name": "stdout",
     "output_type": "stream",
     "text": [
      "../data/testing_data/0811_lig_cg.pdb\n",
      "../data/testing_data/0812_lig_cg.pdb\n",
      "../data/testing_data/0813_lig_cg.pdb\n"
     ]
    },
    {
     "name": "stderr",
     "output_type": "stream",
     "text": [
      "2018-10-27 21:26:33,159 - htmd.molecule.readers - WARNING - Non-integer values were read from the PDB \"resid\" field. Dropping PDB values and assigning new ones.\n",
      "814it [00:56, 12.45it/s]2018-10-27 21:26:33,227 - htmd.molecule.readers - WARNING - Non-integer values were read from the PDB \"resid\" field. Dropping PDB values and assigning new ones.\n",
      "2018-10-27 21:26:33,288 - htmd.molecule.readers - WARNING - Non-integer values were read from the PDB \"resid\" field. Dropping PDB values and assigning new ones.\n",
      "816it [00:56, 13.44it/s]"
     ]
    },
    {
     "name": "stdout",
     "output_type": "stream",
     "text": [
      "../data/testing_data/0814_lig_cg.pdb\n",
      "../data/testing_data/0815_lig_cg.pdb\n",
      "../data/testing_data/0816_lig_cg.pdb\n",
      "../data/testing_data/0817_lig_cg.pdb\n"
     ]
    },
    {
     "name": "stderr",
     "output_type": "stream",
     "text": [
      "2018-10-27 21:26:33,350 - htmd.molecule.readers - WARNING - Non-integer values were read from the PDB \"resid\" field. Dropping PDB values and assigning new ones.\n",
      "2018-10-27 21:26:33,492 - htmd.molecule.readers - WARNING - Non-integer values were read from the PDB \"resid\" field. Dropping PDB values and assigning new ones.\n",
      "818it [00:56, 12.04it/s]2018-10-27 21:26:33,549 - htmd.molecule.readers - WARNING - Non-integer values were read from the PDB \"resid\" field. Dropping PDB values and assigning new ones.\n",
      "2018-10-27 21:26:33,615 - htmd.molecule.readers - WARNING - Non-integer values were read from the PDB \"resid\" field. Dropping PDB values and assigning new ones.\n",
      "820it [00:56, 13.08it/s]2018-10-27 21:26:33,673 - htmd.molecule.readers - WARNING - Non-integer values were read from the PDB \"resid\" field. Dropping PDB values and assigning new ones.\n"
     ]
    },
    {
     "name": "stdout",
     "output_type": "stream",
     "text": [
      "../data/testing_data/0818_lig_cg.pdb\n",
      "../data/testing_data/0819_lig_cg.pdb\n",
      "../data/testing_data/0820_lig_cg.pdb\n",
      "../data/testing_data/0821_lig_cg.pdb\n"
     ]
    },
    {
     "name": "stderr",
     "output_type": "stream",
     "text": [
      "2018-10-27 21:26:33,741 - htmd.molecule.readers - WARNING - Non-integer values were read from the PDB \"resid\" field. Dropping PDB values and assigning new ones.\n",
      "822it [00:56, 13.66it/s]2018-10-27 21:26:33,810 - htmd.molecule.readers - WARNING - Non-integer values were read from the PDB \"resid\" field. Dropping PDB values and assigning new ones.\n",
      "2018-10-27 21:26:33,879 - htmd.molecule.readers - WARNING - Non-integer values were read from the PDB \"resid\" field. Dropping PDB values and assigning new ones.\n"
     ]
    },
    {
     "name": "stdout",
     "output_type": "stream",
     "text": [
      "../data/testing_data/0822_lig_cg.pdb\n",
      "../data/testing_data/0823_lig_cg.pdb\n",
      "../data/testing_data/0824_lig_cg.pdb\n"
     ]
    },
    {
     "name": "stderr",
     "output_type": "stream",
     "text": [
      "824it [00:57, 12.23it/s]\n"
     ]
    }
   ],
   "source": [
    "dests = []\n",
    "idxs = []\n",
    "for idx, lig_path in tqdm(enumerate(raw_ligand_paths)):\n",
    "    features, centers = test_pdb_to_features(lig_path)\n",
    "    \n",
    "    dest = ligand_root + '/' + str(idx+1).zfill(4) + '.pk'\n",
    "    with open(dest, 'wb') as f:\n",
    "        pk.dump((features, centers), f)\n",
    "        dests.append(dest)\n",
    "        idxs.append(idx+1)"
   ]
  },
  {
   "cell_type": "code",
   "execution_count": 25,
   "metadata": {},
   "outputs": [],
   "source": [
    "df = pd.DataFrame({'id':idxs, 'path': dests})\n",
    "df.to_csv('../data/csv/test_ligand_data.csv', index=None)"
   ]
  },
  {
   "cell_type": "code",
   "execution_count": null,
   "metadata": {},
   "outputs": [],
   "source": []
  }
 ],
 "metadata": {
  "kernelspec": {
   "display_name": "Python 3",
   "language": "python",
   "name": "python3"
  },
  "language_info": {
   "codemirror_mode": {
    "name": "ipython",
    "version": 3
   },
   "file_extension": ".py",
   "mimetype": "text/x-python",
   "name": "python",
   "nbconvert_exporter": "python",
   "pygments_lexer": "ipython3",
   "version": "3.6.6"
  }
 },
 "nbformat": 4,
 "nbformat_minor": 2
}
