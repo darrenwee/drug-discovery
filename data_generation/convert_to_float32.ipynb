{
 "cells": [
  {
   "cell_type": "code",
   "execution_count": 56,
   "metadata": {},
   "outputs": [],
   "source": [
    "import numpy as np\n",
    "from pathlib import Path"
   ]
  },
  {
   "cell_type": "code",
   "execution_count": 57,
   "metadata": {},
   "outputs": [],
   "source": [
    "acc10_root = Path('../data/processed_data/test_acc10/')\n",
    "acc10_npy = list(acc10_root.glob('*.npy'))\n",
    "\n",
    "pl_train = Path('../data/processed_data/pro_lig_voxels/train/')\n",
    "pl_train_npy = list(pl_train.glob('*.npy'))\n",
    "\n",
    "pl_test = Path('../data/processed_data/pro_lig_voxels/test/')\n",
    "pl_test_npy = list(pl_test.glob('*.npy'))"
   ]
  },
  {
   "cell_type": "code",
   "execution_count": 54,
   "metadata": {},
   "outputs": [],
   "source": [
    "def compress_to_32bit(paths):\n",
    "    for p in paths:\n",
    "        np_mat = np.load(p)\n",
    "        if np_mat.dtype != np.float32:\n",
    "            mat32 = np_mat.astype(np.float32)\n",
    "            np.save(p, mat32)"
   ]
  },
  {
   "cell_type": "code",
   "execution_count": 55,
   "metadata": {},
   "outputs": [],
   "source": [
    "compress_to_32bit(pl_train_npy)\n",
    "compress_to_32bit(pl_test_npy)"
   ]
  },
  {
   "cell_type": "code",
   "execution_count": 59,
   "metadata": {},
   "outputs": [],
   "source": [
    "! open ."
   ]
  },
  {
   "cell_type": "code",
   "execution_count": null,
   "metadata": {},
   "outputs": [],
   "source": []
  }
 ],
 "metadata": {
  "kernelspec": {
   "display_name": "Python [default]",
   "language": "python",
   "name": "python3"
  },
  "language_info": {
   "codemirror_mode": {
    "name": "ipython",
    "version": 3
   },
   "file_extension": ".py",
   "mimetype": "text/x-python",
   "name": "python",
   "nbconvert_exporter": "python",
   "pygments_lexer": "ipython3",
   "version": "3.6.4"
  }
 },
 "nbformat": 4,
 "nbformat_minor": 2
}
