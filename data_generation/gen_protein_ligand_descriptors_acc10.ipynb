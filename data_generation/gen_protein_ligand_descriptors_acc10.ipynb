{
 "cells": [
  {
   "cell_type": "code",
   "execution_count": 1,
   "metadata": {},
   "outputs": [],
   "source": [
    "# generate data for testing acc@10\n",
    "# pick the first 100 ligands from the test_set\n",
    "# pair all proteins with all ligands\n",
    "# (100x100 pairs)\n",
    "# (total of 10,000 pairs...)"
   ]
  },
  {
   "cell_type": "code",
   "execution_count": 2,
   "metadata": {},
   "outputs": [
    {
     "name": "stderr",
     "output_type": "stream",
     "text": [
      "/home/alex/anaconda3/lib/python3.6/importlib/_bootstrap.py:219: RuntimeWarning: numpy.dtype size changed, may indicate binary incompatibility. Expected 96, got 88\n",
      "  return f(*args, **kwds)\n"
     ]
    },
    {
     "name": "stdout",
     "output_type": "stream",
     "text": [
      "ffevaluate module is in beta version\n",
      "\n",
      "Please cite HTMD: Doerr et al.(2016)JCTC,12,1845. \n",
      "https://dx.doi.org/10.1021/acs.jctc.6b00049\n",
      "Documentation: http://software.acellera.com/\n",
      "To update: conda update htmd -c acellera -c psi4\n",
      "\n",
      "You are on the latest HTMD version (1.13.9).\n",
      "\n"
     ]
    }
   ],
   "source": [
    "from htmd.ui import *\n",
    "from htmd.molecule.voxeldescriptors import *\n",
    "from pathlib import Path\n",
    "import numpy as np\n",
    "import pickle as pk\n",
    "from multiprocessing import Pool\n",
    "import pandas as pd\n",
    "\n",
    "%load_ext autoreload\n",
    "%autoreload 2"
   ]
  },
  {
   "cell_type": "code",
   "execution_count": 8,
   "metadata": {},
   "outputs": [],
   "source": [
    "test_size = 100\n",
    "base_dest = 'processed_data/test_acc10'\n",
    "Path(base_dest).mkdir(exist_ok=True, parents=True)\n",
    "df = pd.read_csv('test_lig_pro_pairs.csv')\n",
    "idxs = sorted(list(df.lig_id.unique()))\n",
    "idxs = idxs[:test_size]"
   ]
  },
  {
   "cell_type": "code",
   "execution_count": null,
   "metadata": {},
   "outputs": [
    {
     "name": "stderr",
     "output_type": "stream",
     "text": [
      "/home/alex/anaconda3/lib/python3.6/site-packages/htmd/molecule/readers.py:200: FutureWarning: Conversion of the second argument of issubdtype from `float` to `np.floating` is deprecated. In future, it will be treated as `np.float64 == np.dtype(float).type`.\n",
      "  if np.issubdtype(mol._dtypes[field], np.float) \\\n"
     ]
    }
   ],
   "source": [
    "dests = []\n",
    "ligs = []\n",
    "proteins = []\n",
    "score = []\n",
    "\n",
    "for lig_idx in idxs:\n",
    "    lig_src = 'processed_data/ligands/' + str(lig_idx).zfill(4) + '.pk'\n",
    "    with open(lig_src, 'rb') as f:\n",
    "        lig_features, centers = pk.load(f)\n",
    "    \n",
    "    for pro_idx in idxs:\n",
    "        mol = Molecule('./training_data/'+str(pro_idx).zfill(4)+'_pro_cg.pdb', keepaltloc='all')\n",
    "        pro_features, _ = getVoxelDescriptors(mol, usercenters=np.array(centers), voxelsize=1, method='NUMBA')\n",
    "        pro_features = pro_features.reshape(24, 24, 24, pro_features.shape[1])\n",
    "        combined = np.concatenate((pro_features, lig_features), axis=3)\n",
    "    \n",
    "        dest = base_dest + '/' + str(pro_idx).zfill(4) + '_pro_' + str(lig_idx).zfill(4) + '_lig.npy'\n",
    "        \n",
    "        with open(dest, 'wb') as f:\n",
    "            np.save(f, combined)\n",
    "            \n",
    "        dests.append(dests)\n",
    "        ligs.append(lig_idx)\n",
    "        proteins.append(pro_idx)\n",
    "        score.append(1 if lig_idx == pro_idx else 0)\n",
    "        \n",
    "        \n",
    "csv_dest = 'test_acc10.csv'\n",
    "pro_lig_record = pd.DataFrame({'lig_id': ligs, 'pro_id': proteins, 'dests': dests, 'score': score}, index=None)\n",
    "pro_lig_record.to_csv(csv_dest, index=None)"
   ]
  },
  {
   "cell_type": "code",
   "execution_count": null,
   "metadata": {},
   "outputs": [],
   "source": []
  },
  {
   "cell_type": "code",
   "execution_count": null,
   "metadata": {},
   "outputs": [],
   "source": []
  }
 ],
 "metadata": {
  "kernelspec": {
   "display_name": "Python [default]",
   "language": "python",
   "name": "python3"
  },
  "language_info": {
   "codemirror_mode": {
    "name": "ipython",
    "version": 3
   },
   "file_extension": ".py",
   "mimetype": "text/x-python",
   "name": "python",
   "nbconvert_exporter": "python",
   "pygments_lexer": "ipython3",
   "version": "3.6.4"
  }
 },
 "nbformat": 4,
 "nbformat_minor": 2
}
