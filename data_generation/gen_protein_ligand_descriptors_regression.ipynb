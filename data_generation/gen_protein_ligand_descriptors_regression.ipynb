{
 "cells": [
  {
   "cell_type": "code",
   "execution_count": 1,
   "metadata": {},
   "outputs": [],
   "source": [
    "# for each ligand, generate 5 protein-ligand descriptors\n",
    "# 1 protein is the matching protein, 4 are random proteins\n",
    "# descriptors are saved as a .npy file\n",
    "\n",
    "# also outputs a csv file, containing\n",
    "# lig_id, pro_id, descriptor path, score\n",
    "# score = 1 if lig_id & pro_id matches, 0 otherwise"
   ]
  },
  {
   "cell_type": "code",
   "execution_count": 29,
   "metadata": {},
   "outputs": [
    {
     "name": "stdout",
     "output_type": "stream",
     "text": [
      "The autoreload extension is already loaded. To reload it, use:\n",
      "  %reload_ext autoreload\n"
     ]
    }
   ],
   "source": [
    "from htmd.ui import *\n",
    "from htmd.molecule.voxeldescriptors import *\n",
    "from pathlib import Path\n",
    "import numpy as np\n",
    "import pickle as pk\n",
    "from multiprocessing import Pool\n",
    "import pandas as pd\n",
    "\n",
    "%load_ext autoreload\n",
    "%autoreload 2"
   ]
  },
  {
   "cell_type": "code",
   "execution_count": 30,
   "metadata": {},
   "outputs": [],
   "source": [
    "#Supress default INFO logging\n",
    "\n",
    "import logging\n",
    "logger = logging.getLogger()\n",
    "logger.setLevel(logging.CRITICAL)"
   ]
  },
  {
   "cell_type": "code",
   "execution_count": 31,
   "metadata": {},
   "outputs": [],
   "source": [
    "np.random.seed = 1\n",
    "num_random_proteins = 4"
   ]
  },
  {
   "cell_type": "code",
   "execution_count": 32,
   "metadata": {},
   "outputs": [],
   "source": [
    "ligand_df = pd.read_csv('../data/csv/ligand_data.csv', index_col=False)"
   ]
  },
  {
   "cell_type": "code",
   "execution_count": 33,
   "metadata": {},
   "outputs": [],
   "source": [
    "# split ligands here\n",
    "train_size = int(len(ligand_df) * 0.90)\n",
    "\n",
    "train_df = ligand_df.iloc[:train_size]\n",
    "test_df = ligand_df.iloc[train_size:]"
   ]
  },
  {
   "cell_type": "code",
   "execution_count": 34,
   "metadata": {},
   "outputs": [],
   "source": [
    "def gen_data(df, base_dest):\n",
    "    Path(base_dest).mkdir(exist_ok=True, parents=True)\n",
    "    \n",
    "    all_lig_idxs = []\n",
    "    all_protein_idxs = []\n",
    "    dests = []\n",
    "    score = []\n",
    "\n",
    "    def gen_pro_lig_voxel_pairs(lig_idx, protein_idxs, path):\n",
    "        with open(path, 'rb') as f:\n",
    "            lig_features, centers = pk.load(f)\n",
    "\n",
    "        for pidx in protein_idxs:\n",
    "            mol = Molecule('../data/filtered_data/'+str(pidx).zfill(4)+'_pro_cg.pdb', keepaltloc='all')\n",
    "            \n",
    "            pro_features, _ = getVoxelDescriptors(mol, usercenters=np.array(centers), voxelsize=1, method='CUDA')\n",
    "            pro_features = pro_features.reshape(24, 24, 24, pro_features.shape[1])\n",
    "            pro_features = pro_features[:,:,:,0]\n",
    "            combined = np.concatenate((pro_features[:,:,:,None], lig_features[:,:,:,None]), axis=3)\n",
    "            combined = combined.astype(np.float32)\n",
    "\n",
    "            dest = base_dest + '/' + str(pidx).zfill(4) + '_pro_' + str(lig_idx).zfill(4) + '_lig.npy'\n",
    "            np.save(dest, combined)\n",
    "\n",
    "            all_lig_idxs.append(lig_idx)\n",
    "            all_protein_idxs.append(pidx)\n",
    "            dests.append(dest)\n",
    "            score.append(1 if pidx == lig_idx else 0)\n",
    "            \n",
    "    for row in df.itertuples():\n",
    "        df_idx = row[0]\n",
    "        lig_idx = row[1]\n",
    "        path = row[2]\n",
    "        \n",
    "        # generate 4 random proteins to pair\n",
    "        r = range(0,len(df)-1)\n",
    "        selection = np.random.choice(r, num_random_proteins, replace=False)\n",
    "        selection = [len(df)-1 if s == df_idx else s for s in selection]\n",
    "        # convert them into protein idxs\n",
    "        protein_idxs = list(df.iloc[selection].id.values)\n",
    "        protein_idxs.append(lig_idx)\n",
    "        \n",
    "        gen_pro_lig_voxel_pairs(lig_idx, protein_idxs, path)\n",
    "        \n",
    "    pro_lig_record = pd.DataFrame({'lig_id': all_lig_idxs, 'pro_id': all_protein_idxs, 'dests': dests, 'score': score}, index=None)\n",
    "    return pro_lig_record"
   ]
  },
  {
   "cell_type": "code",
   "execution_count": 35,
   "metadata": {},
   "outputs": [],
   "source": [
    "train_dest = '../processed_data/pro_lig_voxels/train'\n",
    "test_dest = '../processed_data/pro_lig_voxels/test'"
   ]
  },
  {
   "cell_type": "code",
   "execution_count": 36,
   "metadata": {},
   "outputs": [],
   "source": [
    "import multiprocessing\n",
    "from functools import partial\n",
    "\n",
    "def parallelize_dataframe(df, func):\n",
    "    num_cores = multiprocessing.cpu_count()-1  #leave one free to not freeze machine\n",
    "    num_partitions = num_cores #number of partitions to split dataframe\n",
    "    df_split = np.array_split(df, num_partitions)\n",
    "    pool = multiprocessing.Pool(num_cores)\n",
    "    df = pd.concat(pool.map(func, df_split))\n",
    "    pool.close()\n",
    "    pool.join()\n",
    "    return df"
   ]
  },
  {
   "cell_type": "code",
   "execution_count": 37,
   "metadata": {},
   "outputs": [],
   "source": []
  },
  {
   "cell_type": "code",
   "execution_count": 38,
   "metadata": {},
   "outputs": [],
   "source": [
    "#gen_data(train_df, train_dest, 'train_lig_pro_pairs.csv')\n",
    "#train_lig_pro_paris = parallelize_dataframe(train_df, partial(gen_data, base_dest=train_dest))\n",
    "#gen_data(test_df, test_dest, '../data/csvs/test_lig_pro_pairs.csv')"
   ]
  },
  {
   "cell_type": "code",
   "execution_count": 39,
   "metadata": {},
   "outputs": [
    {
     "name": "stderr",
     "output_type": "stream",
     "text": [
      "/home/alex/miniconda3/lib/python3.6/site-packages/htmd/molecule/readers.py:200: FutureWarning: Conversion of the second argument of issubdtype from `float` to `np.floating` is deprecated. In future, it will be treated as `np.float64 == np.dtype(float).type`.\n",
      "  if np.issubdtype(mol._dtypes[field], np.float) \\\n",
      "/home/alex/miniconda3/lib/python3.6/site-packages/htmd/molecule/readers.py:200: FutureWarning: Conversion of the second argument of issubdtype from `float` to `np.floating` is deprecated. In future, it will be treated as `np.float64 == np.dtype(float).type`.\n",
      "  if np.issubdtype(mol._dtypes[field], np.float) \\\n",
      "/home/alex/miniconda3/lib/python3.6/site-packages/htmd/molecule/readers.py:200: FutureWarning: Conversion of the second argument of issubdtype from `float` to `np.floating` is deprecated. In future, it will be treated as `np.float64 == np.dtype(float).type`.\n",
      "  if np.issubdtype(mol._dtypes[field], np.float) \\\n",
      "/home/alex/miniconda3/lib/python3.6/site-packages/htmd/molecule/readers.py:200: FutureWarning: Conversion of the second argument of issubdtype from `float` to `np.floating` is deprecated. In future, it will be treated as `np.float64 == np.dtype(float).type`.\n",
      "  if np.issubdtype(mol._dtypes[field], np.float) \\\n",
      "/home/alex/miniconda3/lib/python3.6/site-packages/htmd/molecule/readers.py:200: FutureWarning: Conversion of the second argument of issubdtype from `float` to `np.floating` is deprecated. In future, it will be treated as `np.float64 == np.dtype(float).type`.\n",
      "  if np.issubdtype(mol._dtypes[field], np.float) \\\n",
      "/home/alex/miniconda3/lib/python3.6/site-packages/htmd/molecule/readers.py:200: FutureWarning: Conversion of the second argument of issubdtype from `float` to `np.floating` is deprecated. In future, it will be treated as `np.float64 == np.dtype(float).type`.\n",
      "  if np.issubdtype(mol._dtypes[field], np.float) \\\n"
     ]
    }
   ],
   "source": [
    "test_lig_pro_pairs = parallelize_dataframe(test_df, partial(gen_data, base_dest=test_dest))\n",
    "test_lig_pro_pairs.to_csv('test_lig_pro_pairs.csv')"
   ]
  },
  {
   "cell_type": "code",
   "execution_count": 40,
   "metadata": {},
   "outputs": [
    {
     "name": "stderr",
     "output_type": "stream",
     "text": [
      "/home/alex/miniconda3/lib/python3.6/site-packages/htmd/molecule/readers.py:200: FutureWarning: Conversion of the second argument of issubdtype from `float` to `np.floating` is deprecated. In future, it will be treated as `np.float64 == np.dtype(float).type`.\n",
      "  if np.issubdtype(mol._dtypes[field], np.float) \\\n",
      "/home/alex/miniconda3/lib/python3.6/site-packages/htmd/molecule/readers.py:200: FutureWarning: Conversion of the second argument of issubdtype from `float` to `np.floating` is deprecated. In future, it will be treated as `np.float64 == np.dtype(float).type`.\n",
      "  if np.issubdtype(mol._dtypes[field], np.float) \\\n",
      "/home/alex/miniconda3/lib/python3.6/site-packages/htmd/molecule/readers.py:200: FutureWarning: Conversion of the second argument of issubdtype from `float` to `np.floating` is deprecated. In future, it will be treated as `np.float64 == np.dtype(float).type`.\n",
      "  if np.issubdtype(mol._dtypes[field], np.float) \\\n",
      "/home/alex/miniconda3/lib/python3.6/site-packages/htmd/molecule/readers.py:200: FutureWarning: Conversion of the second argument of issubdtype from `float` to `np.floating` is deprecated. In future, it will be treated as `np.float64 == np.dtype(float).type`.\n",
      "  if np.issubdtype(mol._dtypes[field], np.float) \\\n",
      "/home/alex/miniconda3/lib/python3.6/site-packages/htmd/molecule/readers.py:200: FutureWarning: Conversion of the second argument of issubdtype from `float` to `np.floating` is deprecated. In future, it will be treated as `np.float64 == np.dtype(float).type`.\n",
      "  if np.issubdtype(mol._dtypes[field], np.float) \\\n",
      "/home/alex/miniconda3/lib/python3.6/site-packages/htmd/molecule/readers.py:200: FutureWarning: Conversion of the second argument of issubdtype from `float` to `np.floating` is deprecated. In future, it will be treated as `np.float64 == np.dtype(float).type`.\n",
      "  if np.issubdtype(mol._dtypes[field], np.float) \\\n"
     ]
    }
   ],
   "source": [
    "train_lig_pro_pairs = parallelize_dataframe(train_df, partial(gen_data, base_dest=train_dest))\n",
    "train_lig_pro_pairs.to_csv('train_lig_pro_pairs.csv')"
   ]
  },
  {
   "cell_type": "code",
   "execution_count": 28,
   "metadata": {},
   "outputs": [
    {
     "data": {
      "text/plain": [
       "2700"
      ]
     },
     "execution_count": 28,
     "metadata": {},
     "output_type": "execute_result"
    }
   ],
   "source": [
    "train_size"
   ]
  },
  {
   "cell_type": "code",
   "execution_count": null,
   "metadata": {},
   "outputs": [],
   "source": []
  }
 ],
 "metadata": {
  "kernelspec": {
   "display_name": "Python 3",
   "language": "python",
   "name": "python3"
  },
  "language_info": {
   "codemirror_mode": {
    "name": "ipython",
    "version": 3
   },
   "file_extension": ".py",
   "mimetype": "text/x-python",
   "name": "python",
   "nbconvert_exporter": "python",
   "pygments_lexer": "ipython3",
   "version": "3.6.6"
  }
 },
 "nbformat": 4,
 "nbformat_minor": 2
}
