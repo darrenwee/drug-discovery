{
 "cells": [
  {
   "cell_type": "code",
   "execution_count": 1,
   "metadata": {},
   "outputs": [],
   "source": [
    "# for each ligand, generate 5 protein-ligand descriptors\n",
    "# 1 protein is the matching protein, 4 are random proteins\n",
    "# descriptors are saved as a .npy file\n",
    "\n",
    "# also outputs a csv file, containing\n",
    "# lig_id, pro_id, descriptor path, score\n",
    "# score = 1 if lig_id & pro_id matches, 0 otherwise"
   ]
  },
  {
   "cell_type": "code",
   "execution_count": 2,
   "metadata": {},
   "outputs": [
    {
     "name": "stderr",
     "output_type": "stream",
     "text": [
      "/home/alex/anaconda3/lib/python3.6/importlib/_bootstrap.py:219: RuntimeWarning: numpy.dtype size changed, may indicate binary incompatibility. Expected 96, got 88\n",
      "  return f(*args, **kwds)\n"
     ]
    },
    {
     "name": "stdout",
     "output_type": "stream",
     "text": [
      "ffevaluate module is in beta version\n",
      "\n",
      "Please cite HTMD: Doerr et al.(2016)JCTC,12,1845. \n",
      "https://dx.doi.org/10.1021/acs.jctc.6b00049\n",
      "Documentation: http://software.acellera.com/\n",
      "To update: conda update htmd -c acellera -c psi4\n",
      "\n",
      "You are on the latest HTMD version (1.13.9).\n",
      "\n"
     ]
    }
   ],
   "source": [
    "from htmd.ui import *\n",
    "from htmd.molecule.voxeldescriptors import *\n",
    "from pathlib import Path\n",
    "import numpy as np\n",
    "import pickle as pk\n",
    "from multiprocessing import Pool\n",
    "import pandas as pd\n",
    "\n",
    "%load_ext autoreload\n",
    "%autoreload 2"
   ]
  },
  {
   "cell_type": "code",
   "execution_count": 3,
   "metadata": {},
   "outputs": [],
   "source": [
    "np.random.seed = 1\n",
    "num_random_proteins = 4"
   ]
  },
  {
   "cell_type": "code",
   "execution_count": 4,
   "metadata": {},
   "outputs": [],
   "source": [
    "ligand_df = pd.read_csv('./data/csv/ligand_data.csv', index_col=False)"
   ]
  },
  {
   "cell_type": "code",
   "execution_count": 5,
   "metadata": {},
   "outputs": [],
   "source": [
    "# split ligands here\n",
    "train_size = int(len(ligand_df) * 0.90)\n",
    "\n",
    "train_df = ligand_df.iloc[:train_size]\n",
    "test_df = ligand_df.iloc[train_size:]"
   ]
  },
  {
   "cell_type": "code",
   "execution_count": 6,
   "metadata": {},
   "outputs": [],
   "source": [
    "def gen_data(df, base_dest, csv_dest):\n",
    "    Path(base_dest).mkdir(exist_ok=True, parents=True)\n",
    "    \n",
    "    all_lig_idxs = []\n",
    "    all_protein_idxs = []\n",
    "    dests = []\n",
    "    score = []\n",
    "\n",
    "    def gen_pro_lig_voxel_pairs(lig_idx, protein_idxs, path):\n",
    "        with open(path, 'rb') as f:\n",
    "            lig_features, centers = pk.load(f)\n",
    "\n",
    "        for pidx in protein_idxs:\n",
    "            mol = Molecule('./data/training_data/'+str(pidx).zfill(4)+'_pro_cg.pdb', keepaltloc='all')\n",
    "            pro_features, _ = getVoxelDescriptors(mol, usercenters=np.array(centers), voxelsize=1, method='NUMBA')\n",
    "            pro_features = pro_features.reshape(24, 24, 24, pro_features.shape[1])\n",
    "            combined = np.concatenate((pro_features, lig_features), axis=3)\n",
    "            combined = combined.astype(np.float32)\n",
    "\n",
    "            dest = base_dest + '/' + str(pidx).zfill(4) + '_pro_' + str(lig_idx).zfill(4) + '_lig.npy'\n",
    "            np.save(dest, combined)\n",
    "\n",
    "            all_lig_idxs.append(lig_idx)\n",
    "            all_protein_idxs.append(pidx)\n",
    "            dests.append(dest)\n",
    "            score.append(1 if pidx == lig_idx else 0)\n",
    "        \n",
    "    for row in df.itertuples():\n",
    "        df_idx = row[0]\n",
    "        lig_idx = row[1]\n",
    "        path = row[2]\n",
    "        \n",
    "        # generate 4 random proteins to pair\n",
    "        r = range(0,len(df)-1)\n",
    "        selection = np.random.choice(r, num_random_proteins, replace=False)\n",
    "        selection = [len(df)-1 if s == df_idx else s for s in selection]\n",
    "        # convert them into protein idxs\n",
    "        protein_idxs = list(df.iloc[selection].id.values)\n",
    "        protein_idxs.append(lig_idx)\n",
    "        \n",
    "        gen_pro_lig_voxel_pairs(lig_idx, protein_idxs, path)\n",
    "        \n",
    "    pro_lig_record = pd.DataFrame({'lig_id': all_lig_idxs, 'pro_id': all_protein_idxs, 'dests': dests, 'score': score}, index=None)\n",
    "    pro_lig_record.to_csv(csv_dest, index=None)"
   ]
  },
  {
   "cell_type": "code",
   "execution_count": 7,
   "metadata": {},
   "outputs": [],
   "source": [
    "train_dest = './processed_data/pro_lig_voxels/train'\n",
    "test_dest = './processed_data/pro_lig_voxels/test'"
   ]
  },
  {
   "cell_type": "code",
   "execution_count": 8,
   "metadata": {},
   "outputs": [
    {
     "name": "stderr",
     "output_type": "stream",
     "text": [
      "/home/alex/anaconda3/lib/python3.6/site-packages/htmd/molecule/readers.py:200: FutureWarning: Conversion of the second argument of issubdtype from `float` to `np.floating` is deprecated. In future, it will be treated as `np.float64 == np.dtype(float).type`.\n",
      "  if np.issubdtype(mol._dtypes[field], np.float) \\\n"
     ]
    }
   ],
   "source": [
    "gen_data(test_df, test_dest, 'test_lig_pro_pairs.csv')\n",
    "gen_data(train_df, train_dest, 'train_lig_pro_pairs.csv')"
   ]
  },
  {
   "cell_type": "code",
   "execution_count": null,
   "metadata": {},
   "outputs": [],
   "source": []
  }
 ],
 "metadata": {
  "kernelspec": {
   "display_name": "Python [default]",
   "language": "python",
   "name": "python3"
  },
  "language_info": {
   "codemirror_mode": {
    "name": "ipython",
    "version": 3
   },
   "file_extension": ".py",
   "mimetype": "text/x-python",
   "name": "python",
   "nbconvert_exporter": "python",
   "pygments_lexer": "ipython3",
   "version": "3.6.4"
  }
 },
 "nbformat": 4,
 "nbformat_minor": 2
}
