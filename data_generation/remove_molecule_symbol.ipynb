{
 "cells": [
  {
   "cell_type": "code",
   "execution_count": 27,
   "metadata": {},
   "outputs": [],
   "source": [
    "from pathlib import Path\n",
    "from copy import deepcopy"
   ]
  },
  {
   "cell_type": "code",
   "execution_count": 28,
   "metadata": {},
   "outputs": [],
   "source": [
    "# script to remove molecule symbols \n",
    "dest_root = '../data/filtered_data'"
   ]
  },
  {
   "cell_type": "code",
   "execution_count": 29,
   "metadata": {},
   "outputs": [],
   "source": [
    "Path(dest_root).mkdir(exist_ok=True)"
   ]
  },
  {
   "cell_type": "code",
   "execution_count": 30,
   "metadata": {},
   "outputs": [],
   "source": [
    "src_root = Path('../data/training_data/')\n",
    "pdbs = list(src_root.glob('*.pdb'))"
   ]
  },
  {
   "cell_type": "code",
   "execution_count": 31,
   "metadata": {},
   "outputs": [],
   "source": [
    "def replace_non_C_with_N(pdb):\n",
    "    text = pdb.read_text()\n",
    "    lines = text.split('\\n')\n",
    "    dup_lines = deepcopy(lines)\n",
    "    \n",
    "    for idx, line in enumerate(dup_lines[:-1]):\n",
    "        atom = line[66:]\n",
    "        if atom.strip() != 'C':\n",
    "            line = line[:66] + ' '*11 + 'N'\n",
    "            lines[idx] = line\n",
    "    fixed_text = '\\n'.join(lines)\n",
    "    dest = Path(dest_root+'/'+pdb.name)\n",
    "    dest.write_text(fixed_text)\n",
    "    "
   ]
  },
  {
   "cell_type": "code",
   "execution_count": 34,
   "metadata": {},
   "outputs": [],
   "source": [
    "#replace_non_C_with_N(pdb)"
   ]
  },
  {
   "cell_type": "code",
   "execution_count": 35,
   "metadata": {},
   "outputs": [],
   "source": [
    "for pdb in pdbs:\n",
    "    replace_non_C_with_N(pdb)"
   ]
  },
  {
   "cell_type": "code",
   "execution_count": null,
   "metadata": {},
   "outputs": [],
   "source": []
  }
 ],
 "metadata": {
  "kernelspec": {
   "display_name": "Python 3",
   "language": "python",
   "name": "python3"
  },
  "language_info": {
   "codemirror_mode": {
    "name": "ipython",
    "version": 3
   },
   "file_extension": ".py",
   "mimetype": "text/x-python",
   "name": "python",
   "nbconvert_exporter": "python",
   "pygments_lexer": "ipython3",
   "version": "3.6.6"
  }
 },
 "nbformat": 4,
 "nbformat_minor": 2
}
