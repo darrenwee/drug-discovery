{
 "cells": [
  {
   "cell_type": "code",
   "execution_count": 1,
   "metadata": {},
   "outputs": [
    {
     "name": "stderr",
     "output_type": "stream",
     "text": [
      "/Users/alex/miniconda3/lib/python3.6/site-packages/h5py/__init__.py:36: FutureWarning: Conversion of the second argument of issubdtype from `float` to `np.floating` is deprecated. In future, it will be treated as `np.float64 == np.dtype(float).type`.\n",
      "  from ._conv import register_converters as _register_converters\n",
      "Using TensorFlow backend.\n"
     ]
    }
   ],
   "source": [
    "import pandas as pd\n",
    "import keras\n",
    "from keras.models import load_model\n",
    "import numpy as np"
   ]
  },
  {
   "cell_type": "code",
   "execution_count": 2,
   "metadata": {},
   "outputs": [],
   "source": [
    "model_path = './models/basic_regression_model_beta.h5'\n",
    "\n",
    "df = pd.read_csv('./data/csv/test_acc10.csv')\n",
    "model = load_model(model_path)"
   ]
  },
  {
   "cell_type": "code",
   "execution_count": 3,
   "metadata": {},
   "outputs": [
    {
     "data": {
      "text/html": [
       "<div>\n",
       "<style scoped>\n",
       "    .dataframe tbody tr th:only-of-type {\n",
       "        vertical-align: middle;\n",
       "    }\n",
       "\n",
       "    .dataframe tbody tr th {\n",
       "        vertical-align: top;\n",
       "    }\n",
       "\n",
       "    .dataframe thead th {\n",
       "        text-align: right;\n",
       "    }\n",
       "</style>\n",
       "<table border=\"1\" class=\"dataframe\">\n",
       "  <thead>\n",
       "    <tr style=\"text-align: right;\">\n",
       "      <th></th>\n",
       "      <th>dest</th>\n",
       "      <th>lig_id</th>\n",
       "      <th>pro_id</th>\n",
       "      <th>score</th>\n",
       "    </tr>\n",
       "  </thead>\n",
       "  <tbody>\n",
       "    <tr>\n",
       "      <th>0</th>\n",
       "      <td>./data/processed_data/test_acc10/2701_pro_2701...</td>\n",
       "      <td>2701</td>\n",
       "      <td>2701</td>\n",
       "      <td>1</td>\n",
       "    </tr>\n",
       "    <tr>\n",
       "      <th>1</th>\n",
       "      <td>./data/processed_data/test_acc10/2702_pro_2701...</td>\n",
       "      <td>2701</td>\n",
       "      <td>2702</td>\n",
       "      <td>0</td>\n",
       "    </tr>\n",
       "    <tr>\n",
       "      <th>2</th>\n",
       "      <td>./data/processed_data/test_acc10/2703_pro_2701...</td>\n",
       "      <td>2701</td>\n",
       "      <td>2703</td>\n",
       "      <td>0</td>\n",
       "    </tr>\n",
       "    <tr>\n",
       "      <th>3</th>\n",
       "      <td>./data/processed_data/test_acc10/2704_pro_2701...</td>\n",
       "      <td>2701</td>\n",
       "      <td>2704</td>\n",
       "      <td>0</td>\n",
       "    </tr>\n",
       "    <tr>\n",
       "      <th>4</th>\n",
       "      <td>./data/processed_data/test_acc10/2705_pro_2701...</td>\n",
       "      <td>2701</td>\n",
       "      <td>2705</td>\n",
       "      <td>0</td>\n",
       "    </tr>\n",
       "  </tbody>\n",
       "</table>\n",
       "</div>"
      ],
      "text/plain": [
       "                                                dest  lig_id  pro_id  score\n",
       "0  ./data/processed_data/test_acc10/2701_pro_2701...    2701    2701      1\n",
       "1  ./data/processed_data/test_acc10/2702_pro_2701...    2701    2702      0\n",
       "2  ./data/processed_data/test_acc10/2703_pro_2701...    2701    2703      0\n",
       "3  ./data/processed_data/test_acc10/2704_pro_2701...    2701    2704      0\n",
       "4  ./data/processed_data/test_acc10/2705_pro_2701...    2701    2705      0"
      ]
     },
     "execution_count": 3,
     "metadata": {},
     "output_type": "execute_result"
    }
   ],
   "source": [
    "df.head()"
   ]
  },
  {
   "cell_type": "code",
   "execution_count": 4,
   "metadata": {},
   "outputs": [
    {
     "name": "stdout",
     "output_type": "stream",
     "text": [
      "1.0\n"
     ]
    }
   ],
   "source": [
    "# group by ligand\n",
    "# for each group, compute top10 accuracy manually\n",
    "\n",
    "matches = 0\n",
    "total = float(len(df.lig_id.unique()))\n",
    "debug = False\n",
    "\n",
    "for lig_id, grp in df.groupby('lig_id'):\n",
    "    grp.reset_index(inplace=True)\n",
    "    \n",
    "    match_id = grp.index[grp['pro_id']==lig_id]\n",
    "    \n",
    "    # load all features\n",
    "    n_channels = 16\n",
    "    dims = (24,24,24)\n",
    "    X = np.empty((len(grp.index), *dims, n_channels))\n",
    "    for row in grp.itertuples():\n",
    "        X[row[0],] = np.load(row.dest)\n",
    "        \n",
    "    probabilities = model.predict_on_batch(X)\n",
    "    probabilities = probabilities.flatten()\n",
    "    \n",
    "    largest_first = reversed(np.argsort(probabilities).tolist())\n",
    "    top10 = list(largest_first)[:10]\n",
    "    \n",
    "    if debug:\n",
    "        print('ligid: ', lig_id)\n",
    "        print('match_id: ', match_id)\n",
    "        print('top_10: ', top10)\n",
    "        print()\n",
    "    \n",
    "    if match_id in top10:\n",
    "        matches += 1\n",
    "        \n",
    "print(matches/total)    "
   ]
  },
  {
   "cell_type": "code",
   "execution_count": null,
   "metadata": {},
   "outputs": [],
   "source": []
  }
 ],
 "metadata": {
  "kernelspec": {
   "display_name": "Python [default]",
   "language": "python",
   "name": "python3"
  },
  "language_info": {
   "codemirror_mode": {
    "name": "ipython",
    "version": 3
   },
   "file_extension": ".py",
   "mimetype": "text/x-python",
   "name": "python",
   "nbconvert_exporter": "python",
   "pygments_lexer": "ipython3",
   "version": "3.6.4"
  }
 },
 "nbformat": 4,
 "nbformat_minor": 2
}
