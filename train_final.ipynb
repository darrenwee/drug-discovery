{
 "cells": [
  {
   "cell_type": "code",
   "execution_count": 1,
   "metadata": {},
   "outputs": [
    {
     "name": "stderr",
     "output_type": "stream",
     "text": [
      "Using TensorFlow backend.\n"
     ]
    }
   ],
   "source": [
    "import pandas as pd\n",
    "from keras.models import Sequential\n",
    "from keras.layers import *\n",
    "from keras.utils import np_utils\n",
    "import keras\n",
    "from keras import losses, optimizers, metrics"
   ]
  },
  {
   "cell_type": "code",
   "execution_count": 2,
   "metadata": {},
   "outputs": [],
   "source": [
    "class ProteinLigandDataGenerator(keras.utils.Sequence):\n",
    "    def __init__(self, csv_path, batch_size, shuffle=True, dim=(24,24,24), n_channels=4):\n",
    "        self.df = self.prepare_df(csv_path)\n",
    "        self.batch_size = batch_size\n",
    "        self.shuffle = shuffle\n",
    "        self.indexes = None\n",
    "        self.dim = dim\n",
    "        self.n_channels = n_channels\n",
    "        self.on_epoch_end()\n",
    "    \n",
    "    def prepare_df(self, csv_path):\n",
    "        # oversampling happens here, \n",
    "        match_count = 1\n",
    "        random_count = 4\n",
    "        supplement = random_count - match_count\n",
    "        \n",
    "        df = pd.read_csv(csv_path)\n",
    "        same_idx = df[df['pro_id'] == df['lig_id']]\n",
    "        duplicates = [same_idx]*supplement\n",
    "        return df.append(duplicates, ignore_index=True)\n",
    "        \n",
    "    \n",
    "    def __len__(self):\n",
    "        '''\n",
    "        Batches per epoch\n",
    "        '''\n",
    "        return int(len(self.df.index)/self.batch_size)\n",
    "    \n",
    "    def __getitem__(self, index):\n",
    "        indexes = self.indexes[index*self.batch_size : (index+1)*self.batch_size]\n",
    "        X, y = self.generate_data(indexes)\n",
    "        \n",
    "        return X, y\n",
    "        \n",
    "    def on_epoch_end(self):\n",
    "        self.indexes = np.arange(len(self.df.index))\n",
    "        if self.shuffle:\n",
    "            np.random.shuffle(self.indexes)\n",
    "    \n",
    "    def generate_data(self, indexes):\n",
    "        X = np.empty((self.batch_size, *self.dim, self.n_channels))\n",
    "        y = np.empty((self.batch_size), dtype=int)\n",
    "        \n",
    "        sub_df = self.df.iloc[indexes]\n",
    "        sub_df.reset_index(inplace=True)\n",
    "        for row in sub_df.itertuples():\n",
    "            idx = row[0]\n",
    "            full_X = np.load(row.dests)\n",
    "            X[idx,:,:,:,:] = full_X\n",
    "            y[idx] = row.score\n",
    "            \n",
    "        return X, y"
   ]
  },
  {
   "cell_type": "code",
   "execution_count": 3,
   "metadata": {},
   "outputs": [],
   "source": [
    "train_generator = ProteinLigandDataGenerator('./data/csv/train_lig_2_pro_pairs.csv', 12)\n",
    "test_generator = ProteinLigandDataGenerator('./data/csv/test_lig_2_pro_pairs.csv', 12)"
   ]
  },
  {
   "cell_type": "code",
   "execution_count": 4,
   "metadata": {},
   "outputs": [],
   "source": [
    "model = Sequential()\n",
    "model.add(Conv3D(96, kernel_size=3, activation='relu', input_shape=(24,24,24,4)))\n",
    "model.add(BatchNormalization())\n",
    "model.add(Conv3D(128, kernel_size=3, activation='relu'))\n",
    "model.add(BatchNormalization())\n",
    "model.add(MaxPool3D())\n",
    "model.add(Conv3D(196, kernel_size=3, activation='relu'))\n",
    "model.add(BatchNormalization())\n",
    "model.add(Conv3D(256, kernel_size=3, activation='relu'))\n",
    "model.add(BatchNormalization())\n",
    "model.add(GlobalAveragePooling3D())\n",
    "model.add(Dense(1, activation='sigmoid'))\n",
    "\n",
    "model.compile(loss=losses.mean_squared_error, optimizer=optimizers.Adam(), metrics=[metrics.mse])"
   ]
  },
  {
   "cell_type": "code",
   "execution_count": null,
   "metadata": {},
   "outputs": [
    {
     "name": "stdout",
     "output_type": "stream",
     "text": [
      "0\n",
      "Epoch 1/1\n",
      "400/400 [==============================] - 71s 178ms/step - loss: 0.0651 - mean_squared_error: 0.0651 - val_loss: 0.0454 - val_mean_squared_error: 0.0454\n",
      "1\n",
      "Epoch 1/1\n",
      "400/400 [==============================] - 70s 176ms/step - loss: 0.0268 - mean_squared_error: 0.0268 - val_loss: 0.0417 - val_mean_squared_error: 0.0417\n",
      "Epoch 1/1\n",
      "2\n",
      "Epoch 1/1\n",
      "400/400 [==============================] - 70s 176ms/step - loss: 0.0263 - mean_squared_error: 0.0263 - val_loss: 0.0147 - val_mean_squared_error: 0.0147\n",
      "3\n",
      "Epoch 1/1\n",
      "400/400 [==============================] - 72s 179ms/step - loss: 0.0224 - mean_squared_error: 0.0224 - val_loss: 0.0261 - val_mean_squared_error: 0.0261\n",
      "4\n",
      "Epoch 1/1\n",
      "400/400 [==============================] - 70s 174ms/step - loss: 0.0195 - mean_squared_error: 0.0195 - val_loss: 0.0136 - val_mean_squared_error: 0.0136\n",
      "5\n",
      "Epoch 1/1\n",
      "400/400 [==============================] - 69s 173ms/step - loss: 0.0201 - mean_squared_error: 0.0201 - val_loss: 0.0129 - val_mean_squared_error: 0.0129\n",
      "\n",
      "6\n",
      "Epoch 1/1\n",
      "400/400 [==============================] - 68s 171ms/step - loss: 0.0213 - mean_squared_error: 0.0213 - val_loss: 0.0155 - val_mean_squared_error: 0.0155\n",
      "7\n",
      "Epoch 1/1\n",
      "400/400 [==============================] - 69s 172ms/step - loss: 0.0211 - mean_squared_error: 0.0211 - val_loss: 0.0170 - val_mean_squared_error: 0.0170\n",
      "\n",
      "8\n",
      "Epoch 1/1\n",
      "400/400 [==============================] - 68s 170ms/step - loss: 0.0187 - mean_squared_error: 0.0187 - val_loss: 0.0197 - val_mean_squared_error: 0.0197\n",
      "9\n",
      "Epoch 1/1\n",
      "400/400 [==============================] - 68s 169ms/step - loss: 0.0172 - mean_squared_error: 0.0172 - val_loss: 0.0165 - val_mean_squared_error: 0.0165\n",
      "10\n",
      "Epoch 1/1\n",
      "399/400 [============================>.] - ETA: 0s - loss: 0.0144 - mean_squared_error: 0.0144"
     ]
    }
   ],
   "source": [
    "real_epochs = 4\n",
    "iterations = real_epochs * len(train_generator)\n",
    "\n",
    "validation_frequency = 400\n",
    "epochs = int(iterations/validation_frequency)\n",
    "\n",
    "histories = []\n",
    "\n",
    "for i in range(epochs):\n",
    "    print(i)\n",
    "    history = model.fit_generator(train_generator, epochs=1, \n",
    "                                  steps_per_epoch=validation_frequency,\n",
    "                                  use_multiprocessing=True, workers=4, \n",
    "                                  verbose=1, validation_data=test_generator)\n",
    "    histories.append(history)\n",
    "    model.save(f'models/final_epochs_{i}.h5')"
   ]
  },
  {
   "cell_type": "code",
   "execution_count": null,
   "metadata": {},
   "outputs": [],
   "source": []
  }
 ],
 "metadata": {
  "kernelspec": {
   "display_name": "Python 3",
   "language": "python",
   "name": "python3"
  },
  "language_info": {
   "codemirror_mode": {
    "name": "ipython",
    "version": 3
   },
   "file_extension": ".py",
   "mimetype": "text/x-python",
   "name": "python",
   "nbconvert_exporter": "python",
   "pygments_lexer": "ipython3",
   "version": "3.6.6"
  }
 },
 "nbformat": 4,
 "nbformat_minor": 2
}
