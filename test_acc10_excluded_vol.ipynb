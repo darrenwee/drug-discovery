{
 "cells": [
  {
   "cell_type": "code",
   "execution_count": 1,
   "metadata": {},
   "outputs": [
    {
     "name": "stderr",
     "output_type": "stream",
     "text": [
      "Using TensorFlow backend.\n"
     ]
    }
   ],
   "source": [
    "import pandas as pd\n",
    "import keras\n",
    "from keras.models import load_model\n",
    "import numpy as np\n",
    "from tqdm import tqdm"
   ]
  },
  {
   "cell_type": "code",
   "execution_count": 2,
   "metadata": {},
   "outputs": [],
   "source": [
    "model_path = './models/try_2_features.h5'\n",
    "\n",
    "df = pd.read_csv('./data/csv/test_acc10_2_300.csv')\n",
    "model = load_model(model_path)"
   ]
  },
  {
   "cell_type": "code",
   "execution_count": 5,
   "metadata": {},
   "outputs": [],
   "source": [
    "# group by ligand\n",
    "# for each group, compute top10 accuracy manually\n",
    "def test_model(model_path):\n",
    "    all_largest_ids = []\n",
    "    all_match_ids = []\n",
    "    model = load_model(model_path)\n",
    "    matches = 0\n",
    "    total = float(len(df.lig_id.unique()))\n",
    "    debug = False\n",
    "\n",
    "    for lig_id, grp in tqdm(df.groupby('lig_id')):\n",
    "        grp.reset_index(inplace=True)\n",
    "\n",
    "        match_id = grp.index[grp['pro_id']==lig_id]\n",
    "\n",
    "        # load all features\n",
    "        probabilities = []\n",
    "        n_channels = 4\n",
    "        dims = (24,24,24)\n",
    "        X = np.empty((len(grp), *dims, n_channels))\n",
    "        for row in grp.itertuples():\n",
    "            X[row[0],] = np.load(row.dest)\n",
    "\n",
    "        probs = model.predict(X, batch_size=200)\n",
    "        probs = probs.flatten()\n",
    "\n",
    "        largest_first = list(reversed(np.argsort(probs).tolist()))\n",
    "        top10 = largest_first[:10]\n",
    "\n",
    "        if debug:\n",
    "            print('ligid: ', lig_id)\n",
    "            print('match_id: ', match_id)\n",
    "            print('probs: ', probs)\n",
    "            print('top_10: ', top10)\n",
    "            print()\n",
    "            break\n",
    "\n",
    "        if match_id in top10:\n",
    "            matches += 1\n",
    "        all_match_ids.append(match_id)\n",
    "        all_largest_ids.append(largest_first)\n",
    "\n",
    "    print(matches/total)    \n",
    "    return all_match_ids, all_largest_ids"
   ]
  },
  {
   "cell_type": "code",
   "execution_count": 6,
   "metadata": {},
   "outputs": [
    {
     "name": "stderr",
     "output_type": "stream",
     "text": [
      "100%|██████████| 300/300 [10:09<00:00,  1.89s/it]"
     ]
    },
    {
     "name": "stdout",
     "output_type": "stream",
     "text": [
      "0.9666666666666667\n"
     ]
    },
    {
     "name": "stderr",
     "output_type": "stream",
     "text": [
      "\n"
     ]
    }
   ],
   "source": [
    "all_match, all_largest = test_model(model_path)"
   ]
  },
  {
   "cell_type": "code",
   "execution_count": 7,
   "metadata": {},
   "outputs": [
    {
     "name": "stdout",
     "output_type": "stream",
     "text": [
      "0.91\n"
     ]
    }
   ],
   "source": [
    "paired = list(zip(all_match, all_largest))\n",
    "\n",
    "acc_3_matches = 0\n",
    "total = len(paired)\n",
    "for match, largest in paired:\n",
    "    top3 = largest[:3]\n",
    "    if match in top3:\n",
    "        acc_3_matches +=1\n",
    "print(acc_3_matches/total)"
   ]
  },
  {
   "cell_type": "code",
   "execution_count": null,
   "metadata": {},
   "outputs": [],
   "source": []
  }
 ],
 "metadata": {
  "kernelspec": {
   "display_name": "Python 3",
   "language": "python",
   "name": "python3"
  },
  "language_info": {
   "codemirror_mode": {
    "name": "ipython",
    "version": 3
   },
   "file_extension": ".py",
   "mimetype": "text/x-python",
   "name": "python",
   "nbconvert_exporter": "python",
   "pygments_lexer": "ipython3",
   "version": "3.6.5"
  }
 },
 "nbformat": 4,
 "nbformat_minor": 2
}
