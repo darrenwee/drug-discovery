{
 "cells": [
  {
   "cell_type": "code",
   "execution_count": 1,
   "metadata": {},
   "outputs": [
    {
     "name": "stderr",
     "output_type": "stream",
     "text": [
      "/Users/alex/miniconda3/lib/python3.6/site-packages/h5py/__init__.py:36: FutureWarning: Conversion of the second argument of issubdtype from `float` to `np.floating` is deprecated. In future, it will be treated as `np.float64 == np.dtype(float).type`.\n",
      "  from ._conv import register_converters as _register_converters\n",
      "Using TensorFlow backend.\n"
     ]
    }
   ],
   "source": [
    "import pandas as pd\n",
    "from keras.models import Sequential\n",
    "from keras.layers import *\n",
    "from keras.utils import np_utils\n",
    "import keras\n",
    "from keras import losses, optimizers, metrics"
   ]
  },
  {
   "cell_type": "code",
   "execution_count": 2,
   "metadata": {},
   "outputs": [],
   "source": [
    "class ProteinLigandDataGenerator(keras.utils.Sequence):\n",
    "    def __init__(self, csv_path, batch_size, shuffle=True, dim=(24,24,24), n_channels=16):\n",
    "        self.df = self.prepare_df(csv_path)\n",
    "        self.batch_size = batch_size\n",
    "        self.shuffle = shuffle\n",
    "        self.indexes = None\n",
    "        self.dim = dim\n",
    "        self.n_channels = n_channels\n",
    "        self.on_epoch_end()\n",
    "    \n",
    "    def prepare_df(self, csv_path):\n",
    "        # oversampling happens here, \n",
    "        correct_count = 1\n",
    "        random_count = 4\n",
    "        supplement = correct_count - random_count\n",
    "        \n",
    "        df = pd.read_csv(csv_path)\n",
    "        same_idx = df[df['pro_id'] == df['lig_id']]\n",
    "        return df.append([same_idx]*supplement, ignore_index=True)\n",
    "        \n",
    "    \n",
    "    def __len__(self):\n",
    "        '''\n",
    "        Batches per epoch\n",
    "        '''\n",
    "        return int(len(self.df.index)/self.batch_size)\n",
    "    \n",
    "    def __getitem__(self, index):\n",
    "        indexes = self.indexes[index*self.batch_size : (index+1)*self.batch_size]\n",
    "        X, y = self.generate_data(indexes)\n",
    "        \n",
    "        return X, y\n",
    "        \n",
    "    def on_epoch_end(self):\n",
    "        self.indexes = np.arange(len(self.df.index))\n",
    "        if self.shuffle:\n",
    "            np.random.shuffle(self.indexes)\n",
    "    \n",
    "    def generate_data(self, indexes):\n",
    "        X = np.empty((self.batch_size, *self.dim, self.n_channels))\n",
    "        y = np.empty((self.batch_size), dtype=int)\n",
    "        \n",
    "        sub_df = self.df.iloc[indexes]\n",
    "        sub_df.reset_index(inplace=True)\n",
    "        for row in sub_df.itertuples():\n",
    "            idx = row[0]\n",
    "            X[idx,] = np.load(row.dests)\n",
    "            y[idx] = row.score\n",
    "            \n",
    "        return X, y"
   ]
  },
  {
   "cell_type": "code",
   "execution_count": 3,
   "metadata": {},
   "outputs": [],
   "source": [
    "train_generator = ProteinLigandDataGenerator('./data/csv/train_lig_pro_pairs.csv', 12)\n",
    "test_generator = ProteinLigandDataGenerator('./data/csv/test_lig_pro_pairs.csv', 12)"
   ]
  },
  {
   "cell_type": "code",
   "execution_count": 4,
   "metadata": {},
   "outputs": [],
   "source": [
    "model = Sequential()\n",
    "model.add(Conv3D(96, kernel_size=3, activation='relu', input_shape=(24,24,24,16)))\n",
    "model.add(BatchNormalization())\n",
    "model.add(Conv3D(128, kernel_size=3, activation='relu'))\n",
    "model.add(BatchNormalization())\n",
    "model.add(MaxPool3D())\n",
    "model.add(Conv3D(196, kernel_size=3, activation='relu'))\n",
    "model.add(BatchNormalization())\n",
    "model.add(Conv3D(256, kernel_size=3, activation='relu'))\n",
    "model.add(BatchNormalization())\n",
    "model.add(GlobalAveragePooling3D())\n",
    "model.add(Dense(1, activation='sigmoid'))\n",
    "\n",
    "sgd = optimizers.SGD(lr=1, decay=1e-5)\n",
    "model.compile(loss=losses.mean_squared_error, optimizer=sgd, metrics=[metrics.mse])"
   ]
  },
  {
   "cell_type": "code",
   "execution_count": 5,
   "metadata": {},
   "outputs": [
    {
     "name": "stdout",
     "output_type": "stream",
     "text": [
      "Epoch 1/2\n",
      "1800/1800 [==============================] - 549s 305ms/step - loss: 0.0329 - mean_squared_error: 0.0329\n",
      "Epoch 2/2\n",
      "1800/1800 [==============================] - 587s 326ms/step - loss: 0.0194 - mean_squared_error: 0.0194\n"
     ]
    }
   ],
   "source": [
    "history = model.fit_generator(train_generator, epochs=2, use_multiprocessing=True, workers=4, verbose=1)"
   ]
  },
  {
   "cell_type": "code",
   "execution_count": 6,
   "metadata": {},
   "outputs": [],
   "source": [
    "test_history = model.evaluate_generator(test_generator, use_multiprocessing=True, workers=4)"
   ]
  },
  {
   "cell_type": "code",
   "execution_count": 15,
   "metadata": {},
   "outputs": [
    {
     "name": "stdout",
     "output_type": "stream",
     "text": [
      "train:  [0.032865592476587144, 0.019414262728500564]\n",
      "test:  [0.015346607277060685, 0.015346607277060685]\n"
     ]
    }
   ],
   "source": [
    "print('train: ', history.history['mean_squared_error'])\n",
    "print('test: ', test_history)"
   ]
  },
  {
   "cell_type": "code",
   "execution_count": 11,
   "metadata": {},
   "outputs": [],
   "source": [
    "model.save('models/basic_regression_model_beta.h5')"
   ]
  },
  {
   "cell_type": "code",
   "execution_count": null,
   "metadata": {},
   "outputs": [],
   "source": []
  }
 ],
 "metadata": {
  "kernelspec": {
   "display_name": "Python [default]",
   "language": "python",
   "name": "python3"
  },
  "language_info": {
   "codemirror_mode": {
    "name": "ipython",
    "version": 3
   },
   "file_extension": ".py",
   "mimetype": "text/x-python",
   "name": "python",
   "nbconvert_exporter": "python",
   "pygments_lexer": "ipython3",
   "version": "3.6.4"
  }
 },
 "nbformat": 4,
 "nbformat_minor": 2
}
