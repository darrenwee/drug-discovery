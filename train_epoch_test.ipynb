{
 "cells": [
  {
   "cell_type": "code",
   "execution_count": 2,
   "metadata": {},
   "outputs": [],
   "source": [
    "import pandas as pd\n",
    "from keras.models import Sequential\n",
    "from keras.layers import *\n",
    "from keras.utils import np_utils\n",
    "import keras\n",
    "from keras import losses, optimizers, metrics"
   ]
  },
  {
   "cell_type": "code",
   "execution_count": 3,
   "metadata": {},
   "outputs": [],
   "source": [
    "class ProteinLigandDataGenerator(keras.utils.Sequence):\n",
    "    def __init__(self, csv_path, batch_size, shuffle=True, dim=(24,24,24), n_channels=2):\n",
    "        self.df = self.prepare_df(csv_path)\n",
    "        self.batch_size = batch_size\n",
    "        self.shuffle = shuffle\n",
    "        self.indexes = None\n",
    "        self.dim = dim\n",
    "        self.n_channels = n_channels\n",
    "        self.on_epoch_end()\n",
    "    \n",
    "    def prepare_df(self, csv_path):\n",
    "        # oversampling happens here, \n",
    "        match_count = 1\n",
    "        random_count = 4\n",
    "        supplement = random_count - match_count\n",
    "        \n",
    "        df = pd.read_csv(csv_path)\n",
    "        same_idx = df[df['pro_id'] == df['lig_id']]\n",
    "        duplicates = [same_idx]*supplement\n",
    "        return df.append(duplicates, ignore_index=True)\n",
    "        \n",
    "    \n",
    "    def __len__(self):\n",
    "        '''\n",
    "        Batches per epoch\n",
    "        '''\n",
    "        return int(len(self.df.index)/self.batch_size)\n",
    "    \n",
    "    def __getitem__(self, index):\n",
    "        indexes = self.indexes[index*self.batch_size : (index+1)*self.batch_size]\n",
    "        X, y = self.generate_data(indexes)\n",
    "        \n",
    "        return X, y\n",
    "        \n",
    "    def on_epoch_end(self):\n",
    "        self.indexes = np.arange(len(self.df.index))\n",
    "        if self.shuffle:\n",
    "            np.random.shuffle(self.indexes)\n",
    "    \n",
    "    def generate_data(self, indexes):\n",
    "        X = np.empty((self.batch_size, *self.dim, self.n_channels))\n",
    "        y = np.empty((self.batch_size), dtype=int)\n",
    "        \n",
    "        sub_df = self.df.iloc[indexes]\n",
    "        sub_df.reset_index(inplace=True)\n",
    "        for row in sub_df.itertuples():\n",
    "            idx = row[0]\n",
    "            full_X = np.load(row.dests)\n",
    "            X[idx,:,:,:,:] = full_X\n",
    "            y[idx] = row.score\n",
    "            \n",
    "        return X, y"
   ]
  },
  {
   "cell_type": "code",
   "execution_count": 4,
   "metadata": {},
   "outputs": [],
   "source": [
    "train_generator = ProteinLigandDataGenerator('./data/csv/train_lig_pro_pairs.csv', 12)\n",
    "test_generator = ProteinLigandDataGenerator('./data/csv/test_lig_pro_pairs.csv', 12)"
   ]
  },
  {
   "cell_type": "code",
   "execution_count": 5,
   "metadata": {},
   "outputs": [],
   "source": [
    "model = Sequential()\n",
    "model.add(Conv3D(96, kernel_size=3, activation='relu', input_shape=(24,24,24,2)))\n",
    "model.add(BatchNormalization())\n",
    "model.add(Conv3D(128, kernel_size=3, activation='relu'))\n",
    "model.add(BatchNormalization())\n",
    "model.add(MaxPool3D())\n",
    "model.add(Conv3D(196, kernel_size=3, activation='relu'))\n",
    "model.add(BatchNormalization())\n",
    "model.add(Conv3D(256, kernel_size=3, activation='relu'))\n",
    "model.add(BatchNormalization())\n",
    "model.add(GlobalAveragePooling3D())\n",
    "model.add(Dense(1, activation='sigmoid'))\n",
    "\n",
    "sgd = optimizers.SGD(lr=1, decay=1e-5)\n",
    "model.compile(loss=losses.mean_squared_error, optimizer=sgd, metrics=[metrics.mse])"
   ]
  },
  {
   "cell_type": "code",
   "execution_count": 7,
   "metadata": {},
   "outputs": [
    {
     "name": "stdout",
     "output_type": "stream",
     "text": [
      "Epoch 1/1\n",
      "400/400 [==============================] - 72s 179ms/step - loss: 0.0739 - mean_squared_error: 0.0739 - val_loss: 0.0663 - val_mean_squared_error: 0.0663\n",
      "Epoch 1/1\n",
      "400/400 [==============================] - 70s 175ms/step - loss: 0.0733 - mean_squared_error: 0.0733 - val_loss: 0.0633 - val_mean_squared_error: 0.0633\n",
      "Epoch 1/1\n",
      "Epoch 1/1\n",
      "400/400 [==============================] - 69s 173ms/step - loss: 0.0489 - mean_squared_error: 0.0489 - val_loss: 0.3774 - val_mean_squared_error: 0.3774\n",
      "Epoch 1/1\n",
      "400/400 [==============================] - 69s 173ms/step - loss: 0.0366 - mean_squared_error: 0.0366 - val_loss: 0.0481 - val_mean_squared_error: 0.0481\n",
      "Epoch 1/1\n",
      "400/400 [==============================] - 70s 175ms/step - loss: 0.0335 - mean_squared_error: 0.0335 - val_loss: 0.0353 - val_mean_squared_error: 0.0353\n",
      "Epoch 1/1\n",
      "400/400 [==============================] - 70s 174ms/step - loss: 0.0280 - mean_squared_error: 0.0280 - val_loss: 0.0278 - val_mean_squared_error: 0.0278\n",
      "Epoch 1/1\n",
      "400/400 [==============================] - 70s 175ms/step - loss: 0.0245 - mean_squared_error: 0.0245 - val_loss: 0.0389 - val_mean_squared_error: 0.0389\n",
      "Epoch 1/1\n",
      "400/400 [==============================] - 69s 172ms/step - loss: 0.0295 - mean_squared_error: 0.0295 - val_loss: 0.0224 - val_mean_squared_error: 0.0224\n",
      "Epoch 1/1\n",
      "Epoch 1/1\n",
      "400/400 [==============================] - 69s 173ms/step - loss: 0.0238 - mean_squared_error: 0.0238 - val_loss: 0.0186 - val_mean_squared_error: 0.0186\n",
      "\n",
      "Epoch 1/1\n",
      "400/400 [==============================] - 70s 175ms/step - loss: 0.0242 - mean_squared_error: 0.0242 - val_loss: 0.0259 - val_mean_squared_error: 0.0259\n",
      "Epoch 1/1\n",
      "400/400 [==============================] - 70s 175ms/step - loss: 0.0216 - mean_squared_error: 0.0216 - val_loss: 0.0265 - val_mean_squared_error: 0.0265\n",
      "Epoch 1/1\n",
      "400/400 [==============================] - 69s 173ms/step - loss: 0.0236 - mean_squared_error: 0.0236 - val_loss: 0.5110 - val_mean_squared_error: 0.5110\n",
      "Epoch 1/1\n",
      "Epoch 1/1\n",
      "400/400 [==============================] - 70s 175ms/step - loss: 0.0210 - mean_squared_error: 0.0210 - val_loss: 0.0190 - val_mean_squared_error: 0.0190\n"
     ]
    }
   ],
   "source": [
    "real_epochs = 3\n",
    "iterations = real_epochs * len(train_generator)\n",
    "\n",
    "validation_frequency = 400\n",
    "epochs = int(iterations/validation_frequency)\n",
    "\n",
    "for i in range(epochs):\n",
    "    print(i)\n",
    "    history = model.fit_generator(train_generator, epochs=1, \n",
    "                                  steps_per_epoch=validation_frequency,\n",
    "                                  use_multiprocessing=True, workers=4, \n",
    "                                  verbose=1, validation_data=test_generator)\n",
    "    model.save(f'models/try_epochs_{i}.h5')"
   ]
  },
  {
   "cell_type": "code",
   "execution_count": 8,
   "metadata": {},
   "outputs": [],
   "source": [
    "best_fake_epochs = 12\n",
    "best_num_epochs = validation_frequency * best_fake_epochs / len(train_generator)"
   ]
  },
  {
   "cell_type": "code",
   "execution_count": 9,
   "metadata": {},
   "outputs": [
    {
     "data": {
      "text/plain": [
       "2.665186007773459"
      ]
     },
     "execution_count": 9,
     "metadata": {},
     "output_type": "execute_result"
    }
   ],
   "source": [
    "best_num_epochs"
   ]
  },
  {
   "cell_type": "code",
   "execution_count": 10,
   "metadata": {},
   "outputs": [
    {
     "name": "stdout",
     "output_type": "stream",
     "text": [
      "13\n",
      "Epoch 1/1\n",
      "400/400 [==============================] - 70s 174ms/step - loss: 0.0238 - mean_squared_error: 0.0238 - val_loss: 0.2685 - val_mean_squared_error: 0.2685\n",
      "14\n",
      "Epoch 1/1\n",
      "400/400 [==============================] - 71s 176ms/step - loss: 0.0186 - mean_squared_error: 0.0186 - val_loss: 0.0253 - val_mean_squared_error: 0.0253\n",
      "15\n",
      "Epoch 1/1\n",
      "400/400 [==============================] - 70s 176ms/step - loss: 0.0232 - mean_squared_error: 0.0232 - val_loss: 0.1716 - val_mean_squared_error: 0.1716\n",
      "16\n",
      "Epoch 1/1\n",
      "400/400 [==============================] - 71s 177ms/step - loss: 0.0199 - mean_squared_error: 0.0199 - val_loss: 0.0162 - val_mean_squared_error: 0.0162\n",
      "17\n",
      "Epoch 1/1\n",
      "400/400 [==============================] - 69s 173ms/step - loss: 0.0179 - mean_squared_error: 0.0179 - val_loss: 0.0448 - val_mean_squared_error: 0.0448\n",
      "18\n",
      "Epoch 1/1\n",
      "400/400 [==============================] - 70s 176ms/step - loss: 0.0181 - mean_squared_error: 0.0181 - val_loss: 0.0205 - val_mean_squared_error: 0.0205\n",
      "\n",
      "19\n",
      "Epoch 1/1\n",
      "400/400 [==============================] - 69s 173ms/step - loss: 0.0181 - mean_squared_error: 0.0181 - val_loss: 0.0238 - val_mean_squared_error: 0.0238\n",
      "20\n",
      "Epoch 1/1\n",
      "400/400 [==============================] - 69s 172ms/step - loss: 0.0185 - mean_squared_error: 0.0185 - val_loss: 0.1882 - val_mean_squared_error: 0.1882\n"
     ]
    }
   ],
   "source": [
    "for i in range(epochs, epochs+8):\n",
    "    print(i)\n",
    "    history = model.fit_generator(train_generator, epochs=1, \n",
    "                                  steps_per_epoch=validation_frequency,\n",
    "                                  use_multiprocessing=True, workers=4, \n",
    "                                  verbose=1, validation_data=test_generator)\n",
    "    model.save(f'models/try_epochs_{i}.h5')"
   ]
  },
  {
   "cell_type": "code",
   "execution_count": null,
   "metadata": {},
   "outputs": [],
   "source": []
  }
 ],
 "metadata": {
  "kernelspec": {
   "display_name": "Python 3",
   "language": "python",
   "name": "python3"
  },
  "language_info": {
   "codemirror_mode": {
    "name": "ipython",
    "version": 3
   },
   "file_extension": ".py",
   "mimetype": "text/x-python",
   "name": "python",
   "nbconvert_exporter": "python",
   "pygments_lexer": "ipython3",
   "version": "3.6.6"
  }
 },
 "nbformat": 4,
 "nbformat_minor": 2
}
