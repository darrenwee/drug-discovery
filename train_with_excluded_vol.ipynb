{
 "cells": [
  {
   "cell_type": "code",
   "execution_count": 1,
   "metadata": {},
   "outputs": [
    {
     "name": "stderr",
     "output_type": "stream",
     "text": [
      "Using TensorFlow backend.\n"
     ]
    }
   ],
   "source": [
    "import pandas as pd\n",
    "from keras.models import Sequential\n",
    "from keras.layers import *\n",
    "from keras.utils import np_utils\n",
    "import keras\n",
    "from keras import losses, optimizers, metrics"
   ]
  },
  {
   "cell_type": "code",
   "execution_count": 2,
   "metadata": {},
   "outputs": [],
   "source": [
    "class ProteinLigandDataGenerator(keras.utils.Sequence):\n",
    "    def __init__(self, csv_path, batch_size, shuffle=True, dim=(24,24,24), n_channels=4):\n",
    "        self.df = self.prepare_df(csv_path)\n",
    "        self.batch_size = batch_size\n",
    "        self.shuffle = shuffle\n",
    "        self.indexes = None\n",
    "        self.dim = dim\n",
    "        self.n_channels = n_channels\n",
    "        self.on_epoch_end()\n",
    "    \n",
    "    def prepare_df(self, csv_path):\n",
    "        # oversampling happens here, \n",
    "        match_count = 1\n",
    "        random_count = 4\n",
    "        supplement = random_count - match_count\n",
    "        \n",
    "        df = pd.read_csv(csv_path)\n",
    "        same_idx = df[df['pro_id'] == df['lig_id']]\n",
    "        duplicates = [same_idx]*supplement\n",
    "        return df.append(duplicates, ignore_index=True)\n",
    "        \n",
    "    \n",
    "    def __len__(self):\n",
    "        '''\n",
    "        Batches per epoch\n",
    "        '''\n",
    "        return int(len(self.df.index)/self.batch_size)\n",
    "    \n",
    "    def __getitem__(self, index):\n",
    "        indexes = self.indexes[index*self.batch_size : (index+1)*self.batch_size]\n",
    "        X, y = self.generate_data(indexes)\n",
    "        \n",
    "        return X, y\n",
    "        \n",
    "    def on_epoch_end(self):\n",
    "        self.indexes = np.arange(len(self.df.index))\n",
    "        if self.shuffle:\n",
    "            np.random.shuffle(self.indexes)\n",
    "    \n",
    "    def generate_data(self, indexes):\n",
    "        X = np.empty((self.batch_size, *self.dim, self.n_channels))\n",
    "        y = np.empty((self.batch_size), dtype=int)\n",
    "        \n",
    "        sub_df = self.df.iloc[indexes]\n",
    "        sub_df.reset_index(inplace=True)\n",
    "        for row in sub_df.itertuples():\n",
    "            idx = row[0]\n",
    "            full_X = np.load(row.dests)\n",
    "            X[idx,:,:,:,:] = full_X\n",
    "            y[idx] = row.score\n",
    "            \n",
    "        return X, y"
   ]
  },
  {
   "cell_type": "code",
   "execution_count": 3,
   "metadata": {},
   "outputs": [],
   "source": [
    "train_generator = ProteinLigandDataGenerator('./data/csv/train_lig_2_pro_pairs.csv', 12)\n",
    "test_generator = ProteinLigandDataGenerator('./data/csv/test_lig_2_pro_pairs.csv', 12)"
   ]
  },
  {
   "cell_type": "code",
   "execution_count": 4,
   "metadata": {},
   "outputs": [],
   "source": [
    "model = Sequential()\n",
    "model.add(Conv3D(96, kernel_size=3, activation='relu', input_shape=(24,24,24,4)))\n",
    "model.add(BatchNormalization())\n",
    "model.add(Conv3D(128, kernel_size=3, activation='relu'))\n",
    "model.add(BatchNormalization())\n",
    "model.add(MaxPool3D())\n",
    "model.add(Conv3D(196, kernel_size=3, activation='relu'))\n",
    "model.add(BatchNormalization())\n",
    "model.add(Conv3D(256, kernel_size=3, activation='relu'))\n",
    "model.add(BatchNormalization())\n",
    "model.add(GlobalAveragePooling3D())\n",
    "model.add(Dense(1, activation='sigmoid'))\n",
    "\n",
    "sgd = optimizers.SGD(lr=1, decay=1e-5)\n",
    "model.compile(loss=losses.mean_squared_error, optimizer=sgd, metrics=[metrics.mse])"
   ]
  },
  {
   "cell_type": "code",
   "execution_count": 5,
   "metadata": {},
   "outputs": [
    {
     "name": "stdout",
     "output_type": "stream",
     "text": [
      "Epoch 1/4\n",
      "1802/1802 [==============================] - 319s 177ms/step - loss: 0.0348 - mean_squared_error: 0.0348 - val_loss: 0.0155 - val_mean_squared_error: 0.0155\n",
      "Epoch 2/4\n",
      "1802/1802 [==============================] - 311s 172ms/step - loss: 0.0200 - mean_squared_error: 0.0200 - val_loss: 0.0577 - val_mean_squared_error: 0.0577\n",
      "Epoch 3/4\n",
      "1802/1802 [==============================] - 306s 170ms/step - loss: 0.0163 - mean_squared_error: 0.0163 - val_loss: 0.0194 - val_mean_squared_error: 0.0194\n",
      "Epoch 4/4\n",
      "Epoch 3/4\n",
      "1802/1802 [==============================] - 305s 169ms/step - loss: 0.0156 - mean_squared_error: 0.0156 - val_loss: 0.0152 - val_mean_squared_error: 0.0152\n"
     ]
    }
   ],
   "source": [
    "history = model.fit_generator(train_generator, epochs=4, \n",
    "                              use_multiprocessing=True, workers=2, \n",
    "                              verbose=1, validation_data=test_generator)"
   ]
  },
  {
   "cell_type": "code",
   "execution_count": 6,
   "metadata": {},
   "outputs": [],
   "source": [
    "model.save('models/try_2_features.h5')"
   ]
  },
  {
   "cell_type": "code",
   "execution_count": null,
   "metadata": {},
   "outputs": [],
   "source": []
  }
 ],
 "metadata": {
  "kernelspec": {
   "display_name": "Python [default]",
   "language": "python",
   "name": "python3"
  },
  "language_info": {
   "codemirror_mode": {
    "name": "ipython",
    "version": 3
   },
   "file_extension": ".py",
   "mimetype": "text/x-python",
   "name": "python",
   "nbconvert_exporter": "python",
   "pygments_lexer": "ipython3",
   "version": "3.6.4"
  }
 },
 "nbformat": 4,
 "nbformat_minor": 2
}
