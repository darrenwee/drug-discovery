{
 "cells": [
  {
   "cell_type": "code",
   "execution_count": 1,
   "metadata": {},
   "outputs": [
    {
     "name": "stderr",
     "output_type": "stream",
     "text": [
      "Using TensorFlow backend.\n"
     ]
    }
   ],
   "source": [
    "import pandas as pd\n",
    "import keras\n",
    "from keras.models import load_model\n",
    "import numpy as np\n",
    "from tqdm import tqdm"
   ]
  },
  {
   "cell_type": "code",
   "execution_count": 2,
   "metadata": {},
   "outputs": [],
   "source": [
    "df = pd.read_csv('./data/csv/test_acc10_300.csv')"
   ]
  },
  {
   "cell_type": "code",
   "execution_count": 8,
   "metadata": {},
   "outputs": [],
   "source": [
    "# group by ligand\n",
    "# for each group, compute top10 accuracy manually\n",
    "def test_model(model_path):\n",
    "    model = load_model(model_path)\n",
    "    matches = 0\n",
    "    total = float(len(df.lig_id.unique()))\n",
    "    debug = False\n",
    "\n",
    "    for lig_id, grp in tqdm(df.groupby('lig_id')):\n",
    "        grp.reset_index(inplace=True)\n",
    "\n",
    "        match_id = grp.index[grp['pro_id']==lig_id]\n",
    "\n",
    "        # load all features\n",
    "        probabilities = []\n",
    "        n_channels = 2\n",
    "        dims = (24,24,24)\n",
    "        X = np.empty((len(grp), *dims, n_channels))\n",
    "        for row in grp.itertuples():\n",
    "            X[row[0],] = np.load(row.dest)\n",
    "\n",
    "        probs = model.predict(X, batch_size=200)\n",
    "        probs = probs.flatten()\n",
    "\n",
    "        largest_first = list(reversed(np.argsort(probs).tolist()))\n",
    "        top10 = largest_first[:10]\n",
    "\n",
    "        if debug:\n",
    "            print('ligid: ', lig_id)\n",
    "            print('match_id: ', match_id)\n",
    "            print('probs: ', probs)\n",
    "            print('top_10: ', top10)\n",
    "            print()\n",
    "            break\n",
    "\n",
    "        if match_id in top10:\n",
    "            matches += 1\n",
    "\n",
    "    print(matches/total)    \n"
   ]
  },
  {
   "cell_type": "code",
   "execution_count": null,
   "metadata": {},
   "outputs": [
    {
     "name": "stderr",
     "output_type": "stream",
     "text": [
      " 41%|████      | 122/300 [08:12<14:08,  4.76s/it]"
     ]
    }
   ],
   "source": [
    "model_path = './models/try_epochs_16.h5'\n",
    "test_model(model_path)"
   ]
  },
  {
   "cell_type": "code",
   "execution_count": 8,
   "metadata": {},
   "outputs": [
    {
     "name": "stderr",
     "output_type": "stream",
     "text": [
      "100%|██████████| 300/300 [05:23<00:00,  1.07s/it]"
     ]
    },
    {
     "name": "stdout",
     "output_type": "stream",
     "text": [
      "0.49\n"
     ]
    },
    {
     "name": "stderr",
     "output_type": "stream",
     "text": [
      "\n"
     ]
    }
   ],
   "source": [
    "model_path = './models/try_epochs_5.h5'\n",
    "test_model(model_path)"
   ]
  },
  {
   "cell_type": "code",
   "execution_count": 9,
   "metadata": {},
   "outputs": [
    {
     "name": "stderr",
     "output_type": "stream",
     "text": [
      "100%|██████████| 300/300 [05:15<00:00,  1.05s/it]"
     ]
    },
    {
     "name": "stdout",
     "output_type": "stream",
     "text": [
      "0.47\n"
     ]
    },
    {
     "name": "stderr",
     "output_type": "stream",
     "text": [
      "\n"
     ]
    }
   ],
   "source": [
    "model_path = './models/try_epochs_1.h5'\n",
    "test_model(model_path)"
   ]
  },
  {
   "cell_type": "code",
   "execution_count": 10,
   "metadata": {},
   "outputs": [
    {
     "name": "stderr",
     "output_type": "stream",
     "text": [
      "100%|██████████| 300/300 [05:15<00:00,  1.07s/it]"
     ]
    },
    {
     "name": "stdout",
     "output_type": "stream",
     "text": [
      "0.4766666666666667\n"
     ]
    },
    {
     "name": "stderr",
     "output_type": "stream",
     "text": [
      "\n"
     ]
    }
   ],
   "source": [
    "model_path = './models/basic_c_and_n_regression_hydrophobic_only.h5'\n",
    "test_model(model_path)"
   ]
  },
  {
   "cell_type": "code",
   "execution_count": null,
   "metadata": {},
   "outputs": [],
   "source": []
  }
 ],
 "metadata": {
  "kernelspec": {
   "display_name": "Python 3",
   "language": "python",
   "name": "python3"
  },
  "language_info": {
   "codemirror_mode": {
    "name": "ipython",
    "version": 3
   },
   "file_extension": ".py",
   "mimetype": "text/x-python",
   "name": "python",
   "nbconvert_exporter": "python",
   "pygments_lexer": "ipython3",
   "version": "3.6.6"
  }
 },
 "nbformat": 4,
 "nbformat_minor": 2
}
