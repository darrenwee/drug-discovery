{
 "cells": [
  {
   "cell_type": "code",
   "execution_count": 6,
   "metadata": {},
   "outputs": [],
   "source": [
    "import pandas as pd\n",
    "from keras.models import Sequential, Model\n",
    "from keras.layers import *\n",
    "from keras.utils import np_utils\n",
    "import keras\n",
    "from keras import losses, optimizers, metrics"
   ]
  },
  {
   "cell_type": "code",
   "execution_count": 7,
   "metadata": {},
   "outputs": [],
   "source": [
    "class ProteinLigandDataGenerator(keras.utils.Sequence):\n",
    "    def __init__(self, csv_path, batch_size, shuffle=True, dim=(24,24,24), n_channels=2):\n",
    "        self.df = self.prepare_df(csv_path)\n",
    "        self.batch_size = batch_size\n",
    "        self.shuffle = shuffle\n",
    "        self.indexes = None\n",
    "        self.dim = dim\n",
    "        self.n_channels = n_channels\n",
    "        self.on_epoch_end()\n",
    "    \n",
    "    def prepare_df(self, csv_path):\n",
    "        # oversampling happens here, \n",
    "        match_count = 1\n",
    "        random_count = 4\n",
    "        supplement = random_count - match_count\n",
    "        \n",
    "        df = pd.read_csv(csv_path)\n",
    "        same_idx = df[df['pro_id'] == df['lig_id']]\n",
    "        duplicates = [same_idx]*supplement\n",
    "        return df.append(duplicates, ignore_index=True)\n",
    "        \n",
    "    \n",
    "    def __len__(self):\n",
    "        '''\n",
    "        Batches per epoch\n",
    "        '''\n",
    "        return int(len(self.df.index)/self.batch_size)\n",
    "    \n",
    "    def __getitem__(self, index):\n",
    "        indexes = self.indexes[index*self.batch_size : (index+1)*self.batch_size]\n",
    "        X, y = self.generate_data(indexes)\n",
    "        \n",
    "        return X, y\n",
    "        \n",
    "    def on_epoch_end(self):\n",
    "        self.indexes = np.arange(len(self.df.index))\n",
    "        if self.shuffle:\n",
    "            np.random.shuffle(self.indexes)\n",
    "    \n",
    "    def generate_data(self, indexes):\n",
    "        X = np.empty((self.batch_size, *self.dim, self.n_channels))\n",
    "        y = np.empty((self.batch_size), dtype=int)\n",
    "        \n",
    "        sub_df = self.df.iloc[indexes]\n",
    "        sub_df.reset_index(inplace=True)\n",
    "        for row in sub_df.itertuples():\n",
    "            idx = row[0]\n",
    "            full_X = np.load(row.dests)\n",
    "            X[idx,:,:,:,:] = full_X\n",
    "            y[idx] = row.score\n",
    "            \n",
    "        return X, y"
   ]
  },
  {
   "cell_type": "code",
   "execution_count": 8,
   "metadata": {},
   "outputs": [],
   "source": [
    "train_generator = ProteinLigandDataGenerator('./data/csv/train_lig_pro_pairs.csv', 12)\n",
    "test_generator = ProteinLigandDataGenerator('./data/csv/test_lig_pro_pairs.csv', 12)"
   ]
  },
  {
   "cell_type": "code",
   "execution_count": 9,
   "metadata": {},
   "outputs": [],
   "source": [
    "inputs = Input(shape=(24,24,24,2))\n",
    "x = Conv3D(96, kernel_size=3, activation='relu')(inputs)\n",
    "x = BatchNormalization()(x)\n",
    "x = Conv3D(128, kernel_size=3, activation='relu')(x)\n",
    "x = BatchNormalization()(x)\n",
    "x = MaxPool3D()(x)\n",
    "x = Conv3D(196, kernel_size=3, activation='relu')(x)\n",
    "x = BatchNormalization()(x)\n",
    "x = Conv3D(256, kernel_size=3, activation='relu')(x)\n",
    "x = BatchNormalization()(x)\n",
    "x1 = GlobalAveragePooling3D()(x)\n",
    "x2 = GlobalMaxPool3D()(x)\n",
    "x = Concatenate()([x1,x2])\n",
    "predictions = Dense(1, activation='sigmoid')(x)\n",
    "model = Model(inputs=inputs, outputs=predictions)\n",
    "model.compile(loss=losses.mean_squared_error, optimizer=optimizers.Adam(), metrics=[metrics.mse])"
   ]
  },
  {
   "cell_type": "code",
   "execution_count": 10,
   "metadata": {},
   "outputs": [
    {
     "name": "stdout",
     "output_type": "stream",
     "text": [
      "Epoch 1/2\n",
      "1801/1801 [==============================] - 285s 158ms/step - loss: 0.0450 - mean_squared_error: 0.0450 - val_loss: 0.0273 - val_mean_squared_error: 0.0273\n",
      "Epoch 2/2\n",
      "1801/1801 [==============================] - 281s 156ms/step - loss: 0.0223 - mean_squared_error: 0.0223 - val_loss: 0.0202 - val_mean_squared_error: 0.0202\n"
     ]
    }
   ],
   "source": [
    "\n",
    "history = model.fit_generator(train_generator, epochs=2, use_multiprocessing=True, \n",
    "                              workers=4, verbose=1, validation_data=test_generator)"
   ]
  },
  {
   "cell_type": "code",
   "execution_count": 11,
   "metadata": {},
   "outputs": [],
   "source": [
    "model.save('models/try_maxpool_w_adam.h5')"
   ]
  },
  {
   "cell_type": "code",
   "execution_count": null,
   "metadata": {},
   "outputs": [],
   "source": []
  }
 ],
 "metadata": {
  "kernelspec": {
   "display_name": "Python 3",
   "language": "python",
   "name": "python3"
  },
  "language_info": {
   "codemirror_mode": {
    "name": "ipython",
    "version": 3
   },
   "file_extension": ".py",
   "mimetype": "text/x-python",
   "name": "python",
   "nbconvert_exporter": "python",
   "pygments_lexer": "ipython3",
   "version": "3.6.6"
  }
 },
 "nbformat": 4,
 "nbformat_minor": 2
}
