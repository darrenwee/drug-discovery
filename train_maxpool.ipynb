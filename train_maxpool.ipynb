{
 "cells": [
  {
   "cell_type": "code",
   "execution_count": 1,
   "metadata": {},
   "outputs": [
    {
     "name": "stderr",
     "output_type": "stream",
     "text": [
      "Using TensorFlow backend.\n"
     ]
    }
   ],
   "source": [
    "import pandas as pd\n",
    "from keras.models import Sequential, Model\n",
    "from keras.layers import *\n",
    "from keras.utils import np_utils\n",
    "import keras\n",
    "from keras import losses, optimizers, metrics"
   ]
  },
  {
   "cell_type": "code",
   "execution_count": 2,
   "metadata": {},
   "outputs": [],
   "source": [
    "class ProteinLigandDataGenerator(keras.utils.Sequence):\n",
    "    def __init__(self, csv_path, batch_size, shuffle=True, dim=(24,24,24), n_channels=2):\n",
    "        self.df = self.prepare_df(csv_path)\n",
    "        self.batch_size = batch_size\n",
    "        self.shuffle = shuffle\n",
    "        self.indexes = None\n",
    "        self.dim = dim\n",
    "        self.n_channels = n_channels\n",
    "        self.on_epoch_end()\n",
    "    \n",
    "    def prepare_df(self, csv_path):\n",
    "        # oversampling happens here, \n",
    "        match_count = 1\n",
    "        random_count = 4\n",
    "        supplement = random_count - match_count\n",
    "        \n",
    "        df = pd.read_csv(csv_path)\n",
    "        same_idx = df[df['pro_id'] == df['lig_id']]\n",
    "        duplicates = [same_idx]*supplement\n",
    "        return df.append(duplicates, ignore_index=True)\n",
    "        \n",
    "    \n",
    "    def __len__(self):\n",
    "        '''\n",
    "        Batches per epoch\n",
    "        '''\n",
    "        return int(len(self.df.index)/self.batch_size)\n",
    "    \n",
    "    def __getitem__(self, index):\n",
    "        indexes = self.indexes[index*self.batch_size : (index+1)*self.batch_size]\n",
    "        X, y = self.generate_data(indexes)\n",
    "        \n",
    "        return X, y\n",
    "        \n",
    "    def on_epoch_end(self):\n",
    "        self.indexes = np.arange(len(self.df.index))\n",
    "        if self.shuffle:\n",
    "            np.random.shuffle(self.indexes)\n",
    "    \n",
    "    def generate_data(self, indexes):\n",
    "        X = np.empty((self.batch_size, *self.dim, self.n_channels))\n",
    "        y = np.empty((self.batch_size), dtype=int)\n",
    "        \n",
    "        sub_df = self.df.iloc[indexes]\n",
    "        sub_df.reset_index(inplace=True)\n",
    "        for row in sub_df.itertuples():\n",
    "            idx = row[0]\n",
    "            full_X = np.load(row.dests)\n",
    "            X[idx,:,:,:,:] = full_X\n",
    "            y[idx] = row.score\n",
    "            \n",
    "        return X, y"
   ]
  },
  {
   "cell_type": "code",
   "execution_count": 3,
   "metadata": {},
   "outputs": [],
   "source": [
    "train_generator = ProteinLigandDataGenerator('./data/csv/train_lig_pro_pairs.csv', 12)\n",
    "test_generator = ProteinLigandDataGenerator('./data/csv/test_lig_pro_pairs.csv', 12)"
   ]
  },
  {
   "cell_type": "code",
   "execution_count": 4,
   "metadata": {},
   "outputs": [],
   "source": [
    "inputs = Input(shape=(24,24,24,2))\n",
    "x = Conv3D(96, kernel_size=3, activation='relu')(inputs)\n",
    "x = BatchNormalization()(x)\n",
    "x = Conv3D(128, kernel_size=3, activation='relu')(x)\n",
    "x = BatchNormalization()(x)\n",
    "x = MaxPool3D()(x)\n",
    "x = Conv3D(196, kernel_size=3, activation='relu')(x)\n",
    "x = BatchNormalization()(x)\n",
    "x = Conv3D(256, kernel_size=3, activation='relu')(x)\n",
    "x = BatchNormalization()(x)\n",
    "x1 = GlobalAveragePooling3D()(x)\n",
    "x2 = GlobalMaxPool3D()(x)\n",
    "x = Concatenate()([x1,x2])\n",
    "predictions = Dense(1, activation='sigmoid')(x)\n",
    "model = Model(inputs=inputs, outputs=predictions)\n",
    "model.compile(loss=losses.mean_squared_error, optimizer=optimizers.Adam(), metrics=[metrics.mse])"
   ]
  },
  {
   "cell_type": "code",
   "execution_count": 5,
   "metadata": {},
   "outputs": [
    {
     "name": "stdout",
     "output_type": "stream",
     "text": [
      "0\n",
      "Epoch 1/1\n",
      "400/400 [==============================] - 73s 182ms/step - loss: 0.0720 - mean_squared_error: 0.0720 - val_loss: 0.0680 - val_mean_squared_error: 0.0680\n",
      "1\n",
      "Epoch 1/1\n",
      "400/400 [==============================] - 68s 170ms/step - loss: 0.0714 - mean_squared_error: 0.0714 - val_loss: 0.1120 - val_mean_squared_error: 0.1120\n",
      "Epoch 1/1\n",
      "2\n",
      "Epoch 1/1\n",
      "400/400 [==============================] - 68s 171ms/step - loss: 0.0705 - mean_squared_error: 0.0705 - val_loss: 0.0779 - val_mean_squared_error: 0.0779\n",
      "3\n",
      "Epoch 1/1\n",
      "400/400 [==============================] - 68s 170ms/step - loss: 0.0642 - mean_squared_error: 0.0642 - val_loss: 0.0506 - val_mean_squared_error: 0.0506\n",
      "\n",
      "4\n",
      "Epoch 1/1\n",
      "400/400 [==============================] - 68s 170ms/step - loss: 0.0491 - mean_squared_error: 0.0491 - val_loss: 0.0919 - val_mean_squared_error: 0.0919\n",
      "5\n",
      "Epoch 1/1\n",
      "400/400 [==============================] - 67s 168ms/step - loss: 0.0283 - mean_squared_error: 0.0283 - val_loss: 0.0289 - val_mean_squared_error: 0.0289\n",
      "6\n",
      "Epoch 1/1\n",
      "399/400 [============================>.] - ETA: 0s - loss: 0.0236 - mean_squared_error: 0.0236Epoch 1/1\n",
      "400/400 [==============================] - 69s 172ms/step - loss: 0.0236 - mean_squared_error: 0.0236 - val_loss: 0.0165 - val_mean_squared_error: 0.0165\n",
      "Epoch 1/1\n",
      "7\n",
      "Epoch 1/1\n",
      "400/400 [==============================] - 67s 168ms/step - loss: 0.0190 - mean_squared_error: 0.0190 - val_loss: 0.0271 - val_mean_squared_error: 0.0271\n",
      "\n",
      "8\n",
      "Epoch 1/1\n",
      "400/400 [==============================] - 68s 170ms/step - loss: 0.0223 - mean_squared_error: 0.0223 - val_loss: 0.0407 - val_mean_squared_error: 0.0407\n",
      "9\n",
      "Epoch 1/1\n",
      "400/400 [==============================] - 68s 170ms/step - loss: 0.0197 - mean_squared_error: 0.0197 - val_loss: 0.0223 - val_mean_squared_error: 0.0223\n",
      "10\n",
      "Epoch 1/1\n",
      "400/400 [==============================] - 67s 168ms/step - loss: 0.0203 - mean_squared_error: 0.0203 - val_loss: 0.0199 - val_mean_squared_error: 0.0199\n",
      "11\n",
      "Epoch 1/1\n",
      "400/400 [==============================] - 68s 171ms/step - loss: 0.0209 - mean_squared_error: 0.0209 - val_loss: 0.0238 - val_mean_squared_error: 0.0238\n",
      "12\n",
      "Epoch 1/1\n",
      "400/400 [==============================] - 67s 168ms/step - loss: 0.0192 - mean_squared_error: 0.0192 - val_loss: 0.0175 - val_mean_squared_error: 0.0175\n",
      "13\n",
      "Epoch 1/1\n",
      "400/400 [==============================] - 68s 169ms/step - loss: 0.0184 - mean_squared_error: 0.0184 - val_loss: 0.0242 - val_mean_squared_error: 0.0242\n",
      "14\n",
      "Epoch 1/1\n",
      "400/400 [==============================] - 68s 169ms/step - loss: 0.0183 - mean_squared_error: 0.0183 - val_loss: 0.0213 - val_mean_squared_error: 0.0213\n",
      "15\n",
      "Epoch 1/1\n",
      "400/400 [==============================] - 68s 169ms/step - loss: 0.0171 - mean_squared_error: 0.0171 - val_loss: 0.0203 - val_mean_squared_error: 0.0203\n",
      "16\n",
      "Epoch 1/1\n",
      "400/400 [==============================] - 69s 171ms/step - loss: 0.0175 - mean_squared_error: 0.0175 - val_loss: 0.0227 - val_mean_squared_error: 0.0227\n",
      "17\n",
      "Epoch 1/1\n",
      "400/400 [==============================] - 68s 169ms/step - loss: 0.0180 - mean_squared_error: 0.0180 - val_loss: 0.0205 - val_mean_squared_error: 0.0205\n",
      "\n"
     ]
    }
   ],
   "source": [
    "real_epochs = 4\n",
    "iterations = real_epochs * len(train_generator)\n",
    "\n",
    "validation_frequency = 400\n",
    "epochs = int(iterations/validation_frequency)\n",
    "\n",
    "for i in range(epochs):\n",
    "    print(i)\n",
    "    history = model.fit_generator(train_generator, epochs=1, \n",
    "                                  steps_per_epoch=validation_frequency,\n",
    "                                  use_multiprocessing=True, workers=4, \n",
    "                                  verbose=1, validation_data=test_generator)\n",
    "    model.save(f'models/try_max_pool_w_adam_{i}.h5')"
   ]
  },
  {
   "cell_type": "code",
   "execution_count": null,
   "metadata": {},
   "outputs": [],
   "source": []
  }
 ],
 "metadata": {
  "kernelspec": {
   "display_name": "Python 3",
   "language": "python",
   "name": "python3"
  },
  "language_info": {
   "codemirror_mode": {
    "name": "ipython",
    "version": 3
   },
   "file_extension": ".py",
   "mimetype": "text/x-python",
   "name": "python",
   "nbconvert_exporter": "python",
   "pygments_lexer": "ipython3",
   "version": "3.6.6"
  }
 },
 "nbformat": 4,
 "nbformat_minor": 2
}
